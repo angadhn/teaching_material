{
 "cells": [
  {
   "cell_type": "markdown",
   "metadata": {},
   "source": [
    "# Extra Code for London Country of Birth\n",
    "Use for introducing barcharts, distributions and plots\n"
   ]
  },
  {
   "cell_type": "code",
   "execution_count": 1,
   "metadata": {},
   "outputs": [],
   "source": [
    "import pandas as pd"
   ]
  },
  {
   "cell_type": "markdown",
   "metadata": {},
   "source": [
    "## Illustrate Barplot"
   ]
  },
  {
   "cell_type": "code",
   "execution_count": 2,
   "metadata": {},
   "outputs": [
    {
     "data": {
      "text/html": [
       "<div>\n",
       "<style scoped>\n",
       "    .dataframe tbody tr th:only-of-type {\n",
       "        vertical-align: middle;\n",
       "    }\n",
       "\n",
       "    .dataframe tbody tr th {\n",
       "        vertical-align: top;\n",
       "    }\n",
       "\n",
       "    .dataframe thead th {\n",
       "        text-align: right;\n",
       "    }\n",
       "</style>\n",
       "<table border=\"1\" class=\"dataframe\">\n",
       "  <thead>\n",
       "    <tr style=\"text-align: right;\">\n",
       "      <th></th>\n",
       "      <th>Category</th>\n",
       "      <th>Value1</th>\n",
       "      <th>Value2</th>\n",
       "    </tr>\n",
       "  </thead>\n",
       "  <tbody>\n",
       "    <tr>\n",
       "      <th>0</th>\n",
       "      <td>A</td>\n",
       "      <td>3</td>\n",
       "      <td>8</td>\n",
       "    </tr>\n",
       "    <tr>\n",
       "      <th>1</th>\n",
       "      <td>B</td>\n",
       "      <td>1</td>\n",
       "      <td>6</td>\n",
       "    </tr>\n",
       "    <tr>\n",
       "      <th>2</th>\n",
       "      <td>C</td>\n",
       "      <td>5</td>\n",
       "      <td>4</td>\n",
       "    </tr>\n",
       "    <tr>\n",
       "      <th>3</th>\n",
       "      <td>D</td>\n",
       "      <td>8</td>\n",
       "      <td>2</td>\n",
       "    </tr>\n",
       "    <tr>\n",
       "      <th>4</th>\n",
       "      <td>E</td>\n",
       "      <td>7</td>\n",
       "      <td>5</td>\n",
       "    </tr>\n",
       "  </tbody>\n",
       "</table>\n",
       "</div>"
      ],
      "text/plain": [
       "  Category  Value1  Value2\n",
       "0        A       3       8\n",
       "1        B       1       6\n",
       "2        C       5       4\n",
       "3        D       8       2\n",
       "4        E       7       5"
      ]
     },
     "execution_count": 2,
     "metadata": {},
     "output_type": "execute_result"
    }
   ],
   "source": [
    "df = pd.DataFrame(data = {'Category': ['A','B','C','D','E'], 'Value1':[3,1,5,8,7], 'Value2': [8,6,4,2,5]})\n",
    "df"
   ]
  },
  {
   "cell_type": "code",
   "execution_count": 3,
   "metadata": {},
   "outputs": [
    {
     "data": {
      "text/plain": [
       "<AxesSubplot:xlabel='Category'>"
      ]
     },
     "execution_count": 3,
     "metadata": {},
     "output_type": "execute_result"
    },
    {
     "data": {
      "image/png": "[encoded data removed]",
      "text/plain": [
       "<Figure size 432x288 with 1 Axes>"
      ]
     },
     "metadata": {
      "needs_background": "light"
     },
     "output_type": "display_data"
    }
   ],
   "source": [
    "import matplotlib.pyplot as plt\n",
    "%matplotlib inline\n",
    "\n",
    "df.plot(kind='bar', x='Category')\n"
   ]
  },
  {
   "cell_type": "code",
   "execution_count": 4,
   "metadata": {},
   "outputs": [
    {
     "data": {
      "text/plain": [
       "<AxesSubplot:xlabel='Category'>"
      ]
     },
     "execution_count": 4,
     "metadata": {},
     "output_type": "execute_result"
    },
    {
     "data": {
      "image/png": "[encoded data removed]",
      "text/plain": [
       "<Figure size 432x288 with 1 Axes>"
      ]
     },
     "metadata": {
      "needs_background": "light"
     },
     "output_type": "display_data"
    }
   ],
   "source": [
    "df.sort_values(by='Value1').plot(kind='bar', x='Category')\n"
   ]
  },
  {
   "cell_type": "code",
   "execution_count": 5,
   "metadata": {},
   "outputs": [
    {
     "data": {
      "text/plain": [
       "<AxesSubplot:xlabel='Category'>"
      ]
     },
     "execution_count": 5,
     "metadata": {},
     "output_type": "execute_result"
    },
    {
     "data": {
      "image/png": "[encoded data removed]",
      "text/plain": [
       "<Figure size 432x288 with 1 Axes>"
      ]
     },
     "metadata": {
      "needs_background": "light"
     },
     "output_type": "display_data"
    }
   ],
   "source": [
    "df.sort_values(by='Value2').plot(kind='bar', x='Category')"
   ]
  },
  {
   "cell_type": "markdown",
   "metadata": {},
   "source": [
    "## London COB Bar Charts\n",
    "\n",
    "1. Load COB data\n",
    "1. Exclude data outside of London\n",
    "1. Exclude data for UK births\n",
    "1. Aggregate over ages"
   ]
  },
  {
   "cell_type": "code",
   "execution_count": 6,
   "metadata": {},
   "outputs": [
    {
     "data": {
      "text/html": [
       "<div>\n",
       "<style scoped>\n",
       "    .dataframe tbody tr th:only-of-type {\n",
       "        vertical-align: middle;\n",
       "    }\n",
       "\n",
       "    .dataframe tbody tr th {\n",
       "        vertical-align: top;\n",
       "    }\n",
       "\n",
       "    .dataframe thead th {\n",
       "        text-align: right;\n",
       "    }\n",
       "</style>\n",
       "<table border=\"1\" class=\"dataframe\">\n",
       "  <thead>\n",
       "    <tr style=\"text-align: right;\">\n",
       "      <th></th>\n",
       "      <th>Area</th>\n",
       "      <th>Age</th>\n",
       "      <th>Sex</th>\n",
       "      <th>Residents</th>\n",
       "      <th>BirthCountry</th>\n",
       "      <th>BirthRegion</th>\n",
       "    </tr>\n",
       "  </thead>\n",
       "  <tbody>\n",
       "    <tr>\n",
       "      <th>0</th>\n",
       "      <td>Barking and Dagenham</td>\n",
       "      <td>Age 0 to 4</td>\n",
       "      <td>Females</td>\n",
       "      <td>10</td>\n",
       "      <td>Ghana</td>\n",
       "      <td>Africa</td>\n",
       "    </tr>\n",
       "    <tr>\n",
       "      <th>1</th>\n",
       "      <td>Barking and Dagenham</td>\n",
       "      <td>Age 5 to 9</td>\n",
       "      <td>Females</td>\n",
       "      <td>17</td>\n",
       "      <td>Ghana</td>\n",
       "      <td>Africa</td>\n",
       "    </tr>\n",
       "    <tr>\n",
       "      <th>2</th>\n",
       "      <td>Barking and Dagenham</td>\n",
       "      <td>Age 10 to 15</td>\n",
       "      <td>Females</td>\n",
       "      <td>45</td>\n",
       "      <td>Ghana</td>\n",
       "      <td>Africa</td>\n",
       "    </tr>\n",
       "    <tr>\n",
       "      <th>3</th>\n",
       "      <td>Barking and Dagenham</td>\n",
       "      <td>Age 16 to 19</td>\n",
       "      <td>Females</td>\n",
       "      <td>30</td>\n",
       "      <td>Ghana</td>\n",
       "      <td>Africa</td>\n",
       "    </tr>\n",
       "    <tr>\n",
       "      <th>4</th>\n",
       "      <td>Barking and Dagenham</td>\n",
       "      <td>Age 20 to 24</td>\n",
       "      <td>Females</td>\n",
       "      <td>67</td>\n",
       "      <td>Ghana</td>\n",
       "      <td>Africa</td>\n",
       "    </tr>\n",
       "    <tr>\n",
       "      <th>...</th>\n",
       "      <td>...</td>\n",
       "      <td>...</td>\n",
       "      <td>...</td>\n",
       "      <td>...</td>\n",
       "      <td>...</td>\n",
       "      <td>...</td>\n",
       "    </tr>\n",
       "    <tr>\n",
       "      <th>64119</th>\n",
       "      <td>Wandsworth</td>\n",
       "      <td>Age 60 to 64</td>\n",
       "      <td>Males</td>\n",
       "      <td>38</td>\n",
       "      <td>United States</td>\n",
       "      <td>The Americas and the Caribbean</td>\n",
       "    </tr>\n",
       "    <tr>\n",
       "      <th>64120</th>\n",
       "      <td>Wandsworth</td>\n",
       "      <td>Age 65 to 69</td>\n",
       "      <td>Males</td>\n",
       "      <td>20</td>\n",
       "      <td>United States</td>\n",
       "      <td>The Americas and the Caribbean</td>\n",
       "    </tr>\n",
       "    <tr>\n",
       "      <th>64121</th>\n",
       "      <td>Wandsworth</td>\n",
       "      <td>Age 70 to 74</td>\n",
       "      <td>Males</td>\n",
       "      <td>13</td>\n",
       "      <td>United States</td>\n",
       "      <td>The Americas and the Caribbean</td>\n",
       "    </tr>\n",
       "    <tr>\n",
       "      <th>64122</th>\n",
       "      <td>Wandsworth</td>\n",
       "      <td>Age 75 to 79</td>\n",
       "      <td>Males</td>\n",
       "      <td>7</td>\n",
       "      <td>United States</td>\n",
       "      <td>The Americas and the Caribbean</td>\n",
       "    </tr>\n",
       "    <tr>\n",
       "      <th>64123</th>\n",
       "      <td>Wandsworth</td>\n",
       "      <td>Age 80 or over</td>\n",
       "      <td>Males</td>\n",
       "      <td>12</td>\n",
       "      <td>United States</td>\n",
       "      <td>The Americas and the Caribbean</td>\n",
       "    </tr>\n",
       "  </tbody>\n",
       "</table>\n",
       "<p>48960 rows × 6 columns</p>\n",
       "</div>"
      ],
      "text/plain": [
       "                       Area             Age      Sex  Residents  \\\n",
       "0      Barking and Dagenham      Age 0 to 4  Females         10   \n",
       "1      Barking and Dagenham      Age 5 to 9  Females         17   \n",
       "2      Barking and Dagenham    Age 10 to 15  Females         45   \n",
       "3      Barking and Dagenham    Age 16 to 19  Females         30   \n",
       "4      Barking and Dagenham    Age 20 to 24  Females         67   \n",
       "...                     ...             ...      ...        ...   \n",
       "64119            Wandsworth    Age 60 to 64    Males         38   \n",
       "64120            Wandsworth    Age 65 to 69    Males         20   \n",
       "64121            Wandsworth    Age 70 to 74    Males         13   \n",
       "64122            Wandsworth    Age 75 to 79    Males          7   \n",
       "64123            Wandsworth  Age 80 or over    Males         12   \n",
       "\n",
       "        BirthCountry                     BirthRegion  \n",
       "0              Ghana                          Africa  \n",
       "1              Ghana                          Africa  \n",
       "2              Ghana                          Africa  \n",
       "3              Ghana                          Africa  \n",
       "4              Ghana                          Africa  \n",
       "...              ...                             ...  \n",
       "64119  United States  The Americas and the Caribbean  \n",
       "64120  United States  The Americas and the Caribbean  \n",
       "64121  United States  The Americas and the Caribbean  \n",
       "64122  United States  The Americas and the Caribbean  \n",
       "64123  United States  The Americas and the Caribbean  \n",
       "\n",
       "[48960 rows x 6 columns]"
      ]
     },
     "execution_count": 6,
     "metadata": {},
     "output_type": "execute_result"
    }
   ],
   "source": [
    "cob = pd.read_csv('../LondonCOB.csv')\n",
    "\n",
    "def isLondon(area):\n",
    "  l = area in {'Barking and Dagenham', 'Barnet', 'Bexley', 'Brent', \n",
    "               'Bromley', 'Camden', 'City of London,Westminster', 'Croydon',\n",
    "               'Ealing', 'Enfield', 'Greenwich', 'Hackney', 'Hammersmith and Fulham',\n",
    "               'Haringey', 'Harrow', 'Havering', 'Hillingdon', 'Hounslow', 'Islington',\n",
    "               'Kensington and Chelsea', 'Kingston upon Thames', 'Lambeth', \n",
    "               'Lewisham', 'Merton', 'Newham', 'Redbridge', 'Richmond upon Thames', \n",
    "               'Southwark', 'Sutton', 'Tower Hamlets', 'Waltham Forest', 'Wandsworth' }\n",
    "  return l\n",
    "\n",
    "# test cases for isLondon\n",
    "#isLondon('Sutton')\n",
    "#isLondon('Wales')\n",
    "\n",
    "london_COB = cob.loc[cob['Area'].apply(isLondon) == True].rename(columns={\"Usual Residents\": \"Residents\"})\n",
    "\n",
    "london_outside_uk = london_COB.loc[(london_COB.BirthCountry != 'United Kingdom')]\n",
    "london_outside_uk"
   ]
  },
  {
   "cell_type": "code",
   "execution_count": 7,
   "metadata": {},
   "outputs": [
    {
     "data": {
      "text/html": [
       "<div>\n",
       "<style scoped>\n",
       "    .dataframe tbody tr th:only-of-type {\n",
       "        vertical-align: middle;\n",
       "    }\n",
       "\n",
       "    .dataframe tbody tr th {\n",
       "        vertical-align: top;\n",
       "    }\n",
       "\n",
       "    .dataframe thead th {\n",
       "        text-align: right;\n",
       "    }\n",
       "</style>\n",
       "<table border=\"1\" class=\"dataframe\">\n",
       "  <thead>\n",
       "    <tr style=\"text-align: right;\">\n",
       "      <th></th>\n",
       "      <th>Residents</th>\n",
       "    </tr>\n",
       "    <tr>\n",
       "      <th>BirthCountry</th>\n",
       "      <th></th>\n",
       "    </tr>\n",
       "  </thead>\n",
       "  <tbody>\n",
       "    <tr>\n",
       "      <th>Afghanistan</th>\n",
       "      <td>37680</td>\n",
       "    </tr>\n",
       "    <tr>\n",
       "      <th>Australia</th>\n",
       "      <td>53959</td>\n",
       "    </tr>\n",
       "    <tr>\n",
       "      <th>Bangladesh</th>\n",
       "      <td>109948</td>\n",
       "    </tr>\n",
       "    <tr>\n",
       "      <th>Brazil</th>\n",
       "      <td>31357</td>\n",
       "    </tr>\n",
       "    <tr>\n",
       "      <th>Bulgaria</th>\n",
       "      <td>27207</td>\n",
       "    </tr>\n",
       "    <tr>\n",
       "      <th>Canada</th>\n",
       "      <td>21288</td>\n",
       "    </tr>\n",
       "    <tr>\n",
       "      <th>China</th>\n",
       "      <td>39452</td>\n",
       "    </tr>\n",
       "    <tr>\n",
       "      <th>Cyprus</th>\n",
       "      <td>40931</td>\n",
       "    </tr>\n",
       "    <tr>\n",
       "      <th>France</th>\n",
       "      <td>66654</td>\n",
       "    </tr>\n",
       "    <tr>\n",
       "      <th>Germany</th>\n",
       "      <td>55476</td>\n",
       "    </tr>\n",
       "    <tr>\n",
       "      <th>Ghana</th>\n",
       "      <td>62896</td>\n",
       "    </tr>\n",
       "    <tr>\n",
       "      <th>Hong Kong (Special Administrative Region of China)</th>\n",
       "      <td>26435</td>\n",
       "    </tr>\n",
       "    <tr>\n",
       "      <th>Hungary</th>\n",
       "      <td>17803</td>\n",
       "    </tr>\n",
       "    <tr>\n",
       "      <th>India</th>\n",
       "      <td>262247</td>\n",
       "    </tr>\n",
       "    <tr>\n",
       "      <th>Iran</th>\n",
       "      <td>37339</td>\n",
       "    </tr>\n",
       "    <tr>\n",
       "      <th>Iraq</th>\n",
       "      <td>29789</td>\n",
       "    </tr>\n",
       "    <tr>\n",
       "      <th>Ireland</th>\n",
       "      <td>129807</td>\n",
       "    </tr>\n",
       "    <tr>\n",
       "      <th>Italy</th>\n",
       "      <td>62050</td>\n",
       "    </tr>\n",
       "    <tr>\n",
       "      <th>Jamaica</th>\n",
       "      <td>87467</td>\n",
       "    </tr>\n",
       "    <tr>\n",
       "      <th>Kenya</th>\n",
       "      <td>64212</td>\n",
       "    </tr>\n",
       "    <tr>\n",
       "      <th>Lithuania</th>\n",
       "      <td>39817</td>\n",
       "    </tr>\n",
       "    <tr>\n",
       "      <th>Malaysia</th>\n",
       "      <td>21209</td>\n",
       "    </tr>\n",
       "    <tr>\n",
       "      <th>Netherlands</th>\n",
       "      <td>18252</td>\n",
       "    </tr>\n",
       "    <tr>\n",
       "      <th>New Zealand</th>\n",
       "      <td>28547</td>\n",
       "    </tr>\n",
       "    <tr>\n",
       "      <th>Nigeria</th>\n",
       "      <td>114718</td>\n",
       "    </tr>\n",
       "    <tr>\n",
       "      <th>Other</th>\n",
       "      <td>26</td>\n",
       "    </tr>\n",
       "    <tr>\n",
       "      <th>Other Africa</th>\n",
       "      <td>203244</td>\n",
       "    </tr>\n",
       "    <tr>\n",
       "      <th>Other Antarctica and Oceania</th>\n",
       "      <td>2155</td>\n",
       "    </tr>\n",
       "    <tr>\n",
       "      <th>Other Europe</th>\n",
       "      <td>184275</td>\n",
       "    </tr>\n",
       "    <tr>\n",
       "      <th>Other Middle East and Asia</th>\n",
       "      <td>161693</td>\n",
       "    </tr>\n",
       "    <tr>\n",
       "      <th>Other The Americas and the Caribbean</th>\n",
       "      <td>122248</td>\n",
       "    </tr>\n",
       "    <tr>\n",
       "      <th>Pakistan</th>\n",
       "      <td>112457</td>\n",
       "    </tr>\n",
       "    <tr>\n",
       "      <th>Philippines</th>\n",
       "      <td>44199</td>\n",
       "    </tr>\n",
       "    <tr>\n",
       "      <th>Poland</th>\n",
       "      <td>158300</td>\n",
       "    </tr>\n",
       "    <tr>\n",
       "      <th>Portugal</th>\n",
       "      <td>41041</td>\n",
       "    </tr>\n",
       "    <tr>\n",
       "      <th>Romania</th>\n",
       "      <td>44848</td>\n",
       "    </tr>\n",
       "    <tr>\n",
       "      <th>Russia</th>\n",
       "      <td>16757</td>\n",
       "    </tr>\n",
       "    <tr>\n",
       "      <th>Somalia</th>\n",
       "      <td>65333</td>\n",
       "    </tr>\n",
       "    <tr>\n",
       "      <th>South Africa</th>\n",
       "      <td>57765</td>\n",
       "    </tr>\n",
       "    <tr>\n",
       "      <th>Spain (including Canary Islands)</th>\n",
       "      <td>35880</td>\n",
       "    </tr>\n",
       "    <tr>\n",
       "      <th>Sri Lanka</th>\n",
       "      <td>84542</td>\n",
       "    </tr>\n",
       "    <tr>\n",
       "      <th>Turkey</th>\n",
       "      <td>59596</td>\n",
       "    </tr>\n",
       "    <tr>\n",
       "      <th>Uganda</th>\n",
       "      <td>32136</td>\n",
       "    </tr>\n",
       "    <tr>\n",
       "      <th>United States</th>\n",
       "      <td>63920</td>\n",
       "    </tr>\n",
       "    <tr>\n",
       "      <th>Zimbabwe</th>\n",
       "      <td>21309</td>\n",
       "    </tr>\n",
       "  </tbody>\n",
       "</table>\n",
       "</div>"
      ],
      "text/plain": [
       "                                                    Residents\n",
       "BirthCountry                                                 \n",
       "Afghanistan                                             37680\n",
       "Australia                                               53959\n",
       "Bangladesh                                             109948\n",
       "Brazil                                                  31357\n",
       "Bulgaria                                                27207\n",
       "Canada                                                  21288\n",
       "China                                                   39452\n",
       "Cyprus                                                  40931\n",
       "France                                                  66654\n",
       "Germany                                                 55476\n",
       "Ghana                                                   62896\n",
       "Hong Kong (Special Administrative Region of China)      26435\n",
       "Hungary                                                 17803\n",
       "India                                                  262247\n",
       "Iran                                                    37339\n",
       "Iraq                                                    29789\n",
       "Ireland                                                129807\n",
       "Italy                                                   62050\n",
       "Jamaica                                                 87467\n",
       "Kenya                                                   64212\n",
       "Lithuania                                               39817\n",
       "Malaysia                                                21209\n",
       "Netherlands                                             18252\n",
       "New Zealand                                             28547\n",
       "Nigeria                                                114718\n",
       "Other                                                      26\n",
       "Other Africa                                           203244\n",
       "Other Antarctica and Oceania                             2155\n",
       "Other Europe                                           184275\n",
       "Other Middle East and Asia                             161693\n",
       "Other The Americas and the Caribbean                   122248\n",
       "Pakistan                                               112457\n",
       "Philippines                                             44199\n",
       "Poland                                                 158300\n",
       "Portugal                                                41041\n",
       "Romania                                                 44848\n",
       "Russia                                                  16757\n",
       "Somalia                                                 65333\n",
       "South Africa                                            57765\n",
       "Spain (including Canary Islands)                        35880\n",
       "Sri Lanka                                               84542\n",
       "Turkey                                                  59596\n",
       "Uganda                                                  32136\n",
       "United States                                           63920\n",
       "Zimbabwe                                                21309"
      ]
     },
     "execution_count": 7,
     "metadata": {},
     "output_type": "execute_result"
    }
   ],
   "source": [
    "pivot1 = london_outside_uk.pivot_table(values=['Residents'], index=['BirthCountry'], aggfunc='sum')\n",
    "pivot1"
   ]
  },
  {
   "cell_type": "code",
   "execution_count": 8,
   "metadata": {},
   "outputs": [
    {
     "data": {
      "text/plain": [
       "<AxesSubplot:xlabel='BirthCountry'>"
      ]
     },
     "execution_count": 8,
     "metadata": {},
     "output_type": "execute_result"
    },
    {
     "data": {
      "image/png": "[encoded data removed]",
      "text/plain": [
       "<Figure size 864x648 with 1 Axes>"
      ]
     },
     "metadata": {
      "needs_background": "light"
     },
     "output_type": "display_data"
    }
   ],
   "source": [
    "pivot1.plot(kind='bar', figsize=(12,9))"
   ]
  },
  {
   "cell_type": "markdown",
   "metadata": {},
   "source": [
    "## Borough Totals\n",
    "\n",
    "Calulate the total population of each Borough"
   ]
  },
  {
   "cell_type": "code",
   "execution_count": 9,
   "metadata": {},
   "outputs": [
    {
     "data": {
      "text/html": [
       "<div>\n",
       "<style scoped>\n",
       "    .dataframe tbody tr th:only-of-type {\n",
       "        vertical-align: middle;\n",
       "    }\n",
       "\n",
       "    .dataframe tbody tr th {\n",
       "        vertical-align: top;\n",
       "    }\n",
       "\n",
       "    .dataframe thead th {\n",
       "        text-align: right;\n",
       "    }\n",
       "</style>\n",
       "<table border=\"1\" class=\"dataframe\">\n",
       "  <thead>\n",
       "    <tr style=\"text-align: right;\">\n",
       "      <th></th>\n",
       "      <th>Residents</th>\n",
       "    </tr>\n",
       "    <tr>\n",
       "      <th>Area</th>\n",
       "      <th></th>\n",
       "    </tr>\n",
       "  </thead>\n",
       "  <tbody>\n",
       "    <tr>\n",
       "      <th>Barking and Dagenham</th>\n",
       "      <td>185911</td>\n",
       "    </tr>\n",
       "    <tr>\n",
       "      <th>Barnet</th>\n",
       "      <td>356386</td>\n",
       "    </tr>\n",
       "    <tr>\n",
       "      <th>Bexley</th>\n",
       "      <td>231997</td>\n",
       "    </tr>\n",
       "    <tr>\n",
       "      <th>Brent</th>\n",
       "      <td>311215</td>\n",
       "    </tr>\n",
       "    <tr>\n",
       "      <th>Bromley</th>\n",
       "      <td>309392</td>\n",
       "    </tr>\n",
       "    <tr>\n",
       "      <th>Camden</th>\n",
       "      <td>220338</td>\n",
       "    </tr>\n",
       "    <tr>\n",
       "      <th>City of London,Westminster</th>\n",
       "      <td>226771</td>\n",
       "    </tr>\n",
       "    <tr>\n",
       "      <th>Croydon</th>\n",
       "      <td>363378</td>\n",
       "    </tr>\n",
       "    <tr>\n",
       "      <th>Ealing</th>\n",
       "      <td>338449</td>\n",
       "    </tr>\n",
       "    <tr>\n",
       "      <th>Enfield</th>\n",
       "      <td>312466</td>\n",
       "    </tr>\n",
       "    <tr>\n",
       "      <th>Greenwich</th>\n",
       "      <td>254557</td>\n",
       "    </tr>\n",
       "    <tr>\n",
       "      <th>Hackney</th>\n",
       "      <td>246270</td>\n",
       "    </tr>\n",
       "    <tr>\n",
       "      <th>Hammersmith and Fulham</th>\n",
       "      <td>182493</td>\n",
       "    </tr>\n",
       "    <tr>\n",
       "      <th>Haringey</th>\n",
       "      <td>254926</td>\n",
       "    </tr>\n",
       "    <tr>\n",
       "      <th>Harrow</th>\n",
       "      <td>239056</td>\n",
       "    </tr>\n",
       "    <tr>\n",
       "      <th>Havering</th>\n",
       "      <td>237232</td>\n",
       "    </tr>\n",
       "    <tr>\n",
       "      <th>Hillingdon</th>\n",
       "      <td>273936</td>\n",
       "    </tr>\n",
       "    <tr>\n",
       "      <th>Hounslow</th>\n",
       "      <td>253957</td>\n",
       "    </tr>\n",
       "    <tr>\n",
       "      <th>Islington</th>\n",
       "      <td>206125</td>\n",
       "    </tr>\n",
       "    <tr>\n",
       "      <th>Kensington and Chelsea</th>\n",
       "      <td>158649</td>\n",
       "    </tr>\n",
       "    <tr>\n",
       "      <th>Kingston upon Thames</th>\n",
       "      <td>160060</td>\n",
       "    </tr>\n",
       "    <tr>\n",
       "      <th>Lambeth</th>\n",
       "      <td>303086</td>\n",
       "    </tr>\n",
       "    <tr>\n",
       "      <th>Lewisham</th>\n",
       "      <td>275885</td>\n",
       "    </tr>\n",
       "    <tr>\n",
       "      <th>Merton</th>\n",
       "      <td>199693</td>\n",
       "    </tr>\n",
       "    <tr>\n",
       "      <th>Newham</th>\n",
       "      <td>307984</td>\n",
       "    </tr>\n",
       "    <tr>\n",
       "      <th>Redbridge</th>\n",
       "      <td>278970</td>\n",
       "    </tr>\n",
       "    <tr>\n",
       "      <th>Richmond upon Thames</th>\n",
       "      <td>186990</td>\n",
       "    </tr>\n",
       "    <tr>\n",
       "      <th>Southwark</th>\n",
       "      <td>288283</td>\n",
       "    </tr>\n",
       "    <tr>\n",
       "      <th>Sutton</th>\n",
       "      <td>190146</td>\n",
       "    </tr>\n",
       "    <tr>\n",
       "      <th>Tower Hamlets</th>\n",
       "      <td>254096</td>\n",
       "    </tr>\n",
       "    <tr>\n",
       "      <th>Waltham Forest</th>\n",
       "      <td>258249</td>\n",
       "    </tr>\n",
       "    <tr>\n",
       "      <th>Wandsworth</th>\n",
       "      <td>306995</td>\n",
       "    </tr>\n",
       "  </tbody>\n",
       "</table>\n",
       "</div>"
      ],
      "text/plain": [
       "                            Residents\n",
       "Area                                 \n",
       "Barking and Dagenham           185911\n",
       "Barnet                         356386\n",
       "Bexley                         231997\n",
       "Brent                          311215\n",
       "Bromley                        309392\n",
       "Camden                         220338\n",
       "City of London,Westminster     226771\n",
       "Croydon                        363378\n",
       "Ealing                         338449\n",
       "Enfield                        312466\n",
       "Greenwich                      254557\n",
       "Hackney                        246270\n",
       "Hammersmith and Fulham         182493\n",
       "Haringey                       254926\n",
       "Harrow                         239056\n",
       "Havering                       237232\n",
       "Hillingdon                     273936\n",
       "Hounslow                       253957\n",
       "Islington                      206125\n",
       "Kensington and Chelsea         158649\n",
       "Kingston upon Thames           160060\n",
       "Lambeth                        303086\n",
       "Lewisham                       275885\n",
       "Merton                         199693\n",
       "Newham                         307984\n",
       "Redbridge                      278970\n",
       "Richmond upon Thames           186990\n",
       "Southwark                      288283\n",
       "Sutton                         190146\n",
       "Tower Hamlets                  254096\n",
       "Waltham Forest                 258249\n",
       "Wandsworth                     306995"
      ]
     },
     "execution_count": 9,
     "metadata": {},
     "output_type": "execute_result"
    }
   ],
   "source": [
    "boroughT = london_COB.pivot_table(values='Residents', index=['Area'], aggfunc='sum')\n",
    "boroughT"
   ]
  },
  {
   "cell_type": "code",
   "execution_count": 10,
   "metadata": {},
   "outputs": [
    {
     "data": {
      "text/plain": [
       "<AxesSubplot:xlabel='Area'>"
      ]
     },
     "execution_count": 10,
     "metadata": {},
     "output_type": "execute_result"
    },
    {
     "data": {
      "image/png": "[encoded data removed]",
      "text/plain": [
       "<Figure size 1080x576 with 1 Axes>"
      ]
     },
     "metadata": {
      "needs_background": "light"
     },
     "output_type": "display_data"
    }
   ],
   "source": [
    "boroughT.plot(kind='bar',figsize=(15,8))"
   ]
  },
  {
   "cell_type": "code",
   "execution_count": 11,
   "metadata": {},
   "outputs": [
    {
     "data": {
      "text/plain": [
       "1.9616574954774375"
      ]
     },
     "execution_count": 11,
     "metadata": {},
     "output_type": "execute_result"
    }
   ],
   "source": [
    "boroughT.loc['Brent'].Residents / boroughT.loc['Kensington and Chelsea'].Residents"
   ]
  },
  {
   "cell_type": "markdown",
   "metadata": {},
   "source": [
    "## Distribution\n",
    "\n",
    "Two possible questions:\n",
    "\n",
    "1. What proportion of the total Irish population in London lives in each Borough? \n",
    "2. What proportion of the population of each Borough was born in Ireland?\n",
    "\n",
    "Steps:\n",
    "2. Select Ireland data in London\n",
    "1. Get total Ireland in each Borough \n",
    "2. Get the borough total populations\n",
    "3. Add two proportion columns to Irish data: Borough proportion; London proportion\n",
    "4. Create a pivot, summing out age and sex\n",
    "5. Plot distributions"
   ]
  },
  {
   "cell_type": "code",
   "execution_count": 12,
   "metadata": {},
   "outputs": [
    {
     "data": {
      "text/html": [
       "<div>\n",
       "<style scoped>\n",
       "    .dataframe tbody tr th:only-of-type {\n",
       "        vertical-align: middle;\n",
       "    }\n",
       "\n",
       "    .dataframe tbody tr th {\n",
       "        vertical-align: top;\n",
       "    }\n",
       "\n",
       "    .dataframe thead th {\n",
       "        text-align: right;\n",
       "    }\n",
       "</style>\n",
       "<table border=\"1\" class=\"dataframe\">\n",
       "  <thead>\n",
       "    <tr style=\"text-align: right;\">\n",
       "      <th></th>\n",
       "      <th>Area</th>\n",
       "      <th>Age</th>\n",
       "      <th>Sex</th>\n",
       "      <th>Residents</th>\n",
       "      <th>BirthCountry</th>\n",
       "      <th>BirthRegion</th>\n",
       "      <th>boroughProportion</th>\n",
       "      <th>londonProportion</th>\n",
       "    </tr>\n",
       "  </thead>\n",
       "  <tbody>\n",
       "    <tr>\n",
       "      <th>476</th>\n",
       "      <td>Barking and Dagenham</td>\n",
       "      <td>Age 0 to 4</td>\n",
       "      <td>Females</td>\n",
       "      <td>8</td>\n",
       "      <td>Ireland</td>\n",
       "      <td>Europe</td>\n",
       "      <td>0.004303</td>\n",
       "      <td>0.006163</td>\n",
       "    </tr>\n",
       "    <tr>\n",
       "      <th>477</th>\n",
       "      <td>Barking and Dagenham</td>\n",
       "      <td>Age 5 to 9</td>\n",
       "      <td>Females</td>\n",
       "      <td>28</td>\n",
       "      <td>Ireland</td>\n",
       "      <td>Europe</td>\n",
       "      <td>0.015061</td>\n",
       "      <td>0.021570</td>\n",
       "    </tr>\n",
       "    <tr>\n",
       "      <th>478</th>\n",
       "      <td>Barking and Dagenham</td>\n",
       "      <td>Age 10 to 15</td>\n",
       "      <td>Females</td>\n",
       "      <td>16</td>\n",
       "      <td>Ireland</td>\n",
       "      <td>Europe</td>\n",
       "      <td>0.008606</td>\n",
       "      <td>0.012326</td>\n",
       "    </tr>\n",
       "    <tr>\n",
       "      <th>479</th>\n",
       "      <td>Barking and Dagenham</td>\n",
       "      <td>Age 16 to 19</td>\n",
       "      <td>Females</td>\n",
       "      <td>9</td>\n",
       "      <td>Ireland</td>\n",
       "      <td>Europe</td>\n",
       "      <td>0.004841</td>\n",
       "      <td>0.006933</td>\n",
       "    </tr>\n",
       "    <tr>\n",
       "      <th>480</th>\n",
       "      <td>Barking and Dagenham</td>\n",
       "      <td>Age 20 to 24</td>\n",
       "      <td>Females</td>\n",
       "      <td>14</td>\n",
       "      <td>Ireland</td>\n",
       "      <td>Europe</td>\n",
       "      <td>0.007530</td>\n",
       "      <td>0.010785</td>\n",
       "    </tr>\n",
       "    <tr>\n",
       "      <th>...</th>\n",
       "      <td>...</td>\n",
       "      <td>...</td>\n",
       "      <td>...</td>\n",
       "      <td>...</td>\n",
       "      <td>...</td>\n",
       "      <td>...</td>\n",
       "      <td>...</td>\n",
       "      <td>...</td>\n",
       "    </tr>\n",
       "    <tr>\n",
       "      <th>63065</th>\n",
       "      <td>Wandsworth</td>\n",
       "      <td>Age 60 to 64</td>\n",
       "      <td>Males</td>\n",
       "      <td>197</td>\n",
       "      <td>Ireland</td>\n",
       "      <td>Europe</td>\n",
       "      <td>0.064170</td>\n",
       "      <td>0.151764</td>\n",
       "    </tr>\n",
       "    <tr>\n",
       "      <th>63066</th>\n",
       "      <td>Wandsworth</td>\n",
       "      <td>Age 65 to 69</td>\n",
       "      <td>Males</td>\n",
       "      <td>189</td>\n",
       "      <td>Ireland</td>\n",
       "      <td>Europe</td>\n",
       "      <td>0.061565</td>\n",
       "      <td>0.145601</td>\n",
       "    </tr>\n",
       "    <tr>\n",
       "      <th>63067</th>\n",
       "      <td>Wandsworth</td>\n",
       "      <td>Age 70 to 74</td>\n",
       "      <td>Males</td>\n",
       "      <td>209</td>\n",
       "      <td>Ireland</td>\n",
       "      <td>Europe</td>\n",
       "      <td>0.068079</td>\n",
       "      <td>0.161008</td>\n",
       "    </tr>\n",
       "    <tr>\n",
       "      <th>63068</th>\n",
       "      <td>Wandsworth</td>\n",
       "      <td>Age 75 to 79</td>\n",
       "      <td>Males</td>\n",
       "      <td>150</td>\n",
       "      <td>Ireland</td>\n",
       "      <td>Europe</td>\n",
       "      <td>0.048861</td>\n",
       "      <td>0.115556</td>\n",
       "    </tr>\n",
       "    <tr>\n",
       "      <th>63069</th>\n",
       "      <td>Wandsworth</td>\n",
       "      <td>Age 80 or over</td>\n",
       "      <td>Males</td>\n",
       "      <td>112</td>\n",
       "      <td>Ireland</td>\n",
       "      <td>Europe</td>\n",
       "      <td>0.036483</td>\n",
       "      <td>0.086282</td>\n",
       "    </tr>\n",
       "  </tbody>\n",
       "</table>\n",
       "<p>1088 rows × 8 columns</p>\n",
       "</div>"
      ],
      "text/plain": [
       "                       Area             Age      Sex  Residents BirthCountry  \\\n",
       "476    Barking and Dagenham      Age 0 to 4  Females          8      Ireland   \n",
       "477    Barking and Dagenham      Age 5 to 9  Females         28      Ireland   \n",
       "478    Barking and Dagenham    Age 10 to 15  Females         16      Ireland   \n",
       "479    Barking and Dagenham    Age 16 to 19  Females          9      Ireland   \n",
       "480    Barking and Dagenham    Age 20 to 24  Females         14      Ireland   \n",
       "...                     ...             ...      ...        ...          ...   \n",
       "63065            Wandsworth    Age 60 to 64    Males        197      Ireland   \n",
       "63066            Wandsworth    Age 65 to 69    Males        189      Ireland   \n",
       "63067            Wandsworth    Age 70 to 74    Males        209      Ireland   \n",
       "63068            Wandsworth    Age 75 to 79    Males        150      Ireland   \n",
       "63069            Wandsworth  Age 80 or over    Males        112      Ireland   \n",
       "\n",
       "      BirthRegion  boroughProportion  londonProportion  \n",
       "476        Europe           0.004303          0.006163  \n",
       "477        Europe           0.015061          0.021570  \n",
       "478        Europe           0.008606          0.012326  \n",
       "479        Europe           0.004841          0.006933  \n",
       "480        Europe           0.007530          0.010785  \n",
       "...           ...                ...               ...  \n",
       "63065      Europe           0.064170          0.151764  \n",
       "63066      Europe           0.061565          0.145601  \n",
       "63067      Europe           0.068079          0.161008  \n",
       "63068      Europe           0.048861          0.115556  \n",
       "63069      Europe           0.036483          0.086282  \n",
       "\n",
       "[1088 rows x 8 columns]"
      ]
     },
     "execution_count": 12,
     "metadata": {},
     "output_type": "execute_result"
    }
   ],
   "source": [
    "ireland_COB = london_COB.loc[london_COB.BirthCountry == 'Ireland'].copy()\n",
    "boroughTotals = london_COB.pivot_table(index=['Area'],values='Residents', aggfunc='sum')\n",
    "irishTotal = ireland_COB.sum().Residents\n",
    "\n",
    "def bProp(row):\n",
    "    return row.Residents * 100 / boroughTotals.loc[row.Area].Residents\n",
    "\n",
    "def lProp(row):\n",
    "    return row.Residents * 100 / irishTotal\n",
    "\n",
    "ireland_COB2 = ireland_COB.assign(boroughProportion = ireland_COB.apply(bProp, axis=1),\n",
    "                                  londonProportion = ireland_COB.apply(lProp,axis=1))\n",
    "\n",
    "ireland_COB2"
   ]
  },
  {
   "cell_type": "code",
   "execution_count": 13,
   "metadata": {},
   "outputs": [
    {
     "data": {
      "text/plain": [
       "Text(0, 0.5, '% of Borough Residents born in Ireland')"
      ]
     },
     "execution_count": 13,
     "metadata": {},
     "output_type": "execute_result"
    },
    {
     "data": {
      "image/png": "[encoded data removed]",
      "text/plain": [
       "<Figure size 720x432 with 1 Axes>"
      ]
     },
     "metadata": {
      "needs_background": "light"
     },
     "output_type": "display_data"
    }
   ],
   "source": [
    "irishProportions = ireland_COB2.pivot_table(index=['Area'],values=['boroughProportion','londonProportion'], aggfunc='sum')\n",
    "\n",
    "import matplotlib.ticker as mtick\n",
    "\n",
    "ax = irishProportions.sort_values(by='boroughProportion').plot(y='boroughProportion', kind='bar',figsize=(10,6))\n",
    "ax.yaxis.set_major_formatter(mtick.PercentFormatter())\n",
    "ax.set_ylabel(\"% of Borough Residents born in Ireland\")"
   ]
  },
  {
   "cell_type": "code",
   "execution_count": 14,
   "metadata": {},
   "outputs": [
    {
     "data": {
      "text/plain": [
       "Text(0, 0.5, '% of Londoners born in Ireland')"
      ]
     },
     "execution_count": 14,
     "metadata": {},
     "output_type": "execute_result"
    },
    {
     "data": {
      "image/png": "[encoded data removed]",
      "text/plain": [
       "<Figure size 720x432 with 1 Axes>"
      ]
     },
     "metadata": {
      "needs_background": "light"
     },
     "output_type": "display_data"
    }
   ],
   "source": [
    "import matplotlib.ticker as mtick\n",
    "\n",
    "ax = irishProportions.plot(kind='bar',figsize=(10,6),y='londonProportion',color='red')\n",
    "ax.yaxis.set_major_formatter(mtick.PercentFormatter())\n",
    "ax.set_ylabel(\"% of Londoners born in Ireland\")"
   ]
  },
  {
   "cell_type": "markdown",
   "metadata": {},
   "source": [
    "## Proportion by Age\n",
    "Generate the proportion of each age in London and by Borough\n",
    "\n",
    "1. Start with all London data\n",
    "2. Calculate totals for each age \n",
    "3. Calculate an age proportion table\n",
    "4. Plot it\n"
   ]
  },
  {
   "cell_type": "code",
   "execution_count": 15,
   "metadata": {},
   "outputs": [
    {
     "data": {
      "text/plain": [
       "Text(0, 0.5, '% of Londoners')"
      ]
     },
     "execution_count": 15,
     "metadata": {},
     "output_type": "execute_result"
    },
    {
     "data": {
      "image/png": "[encoded data removed]",
      "text/plain": [
       "<Figure size 432x288 with 1 Axes>"
      ]
     },
     "metadata": {
      "needs_background": "light"
     },
     "output_type": "display_data"
    }
   ],
   "source": [
    "ageTotals = london_COB.pivot_table(index='Age', values='Residents', aggfunc='sum')\n",
    "total = ageTotals.sum().Residents\n",
    "\n",
    "ageProp = ageTotals * 100 / total  # this works on a(simple??) pivot table but the column name now wrong\n",
    "ageProp = ageProp.rename(columns={'Residents':'Population Proportion'})\n",
    "ax = ageProp.plot(kind='bar')\n",
    "ax.yaxis.set_major_formatter(mtick.PercentFormatter())\n",
    "ax.set_ylabel(\"% of Londoners\")"
   ]
  },
  {
   "cell_type": "code",
   "execution_count": 16,
   "metadata": {},
   "outputs": [
    {
     "data": {
      "text/html": [
       "<div>\n",
       "<style scoped>\n",
       "    .dataframe tbody tr th:only-of-type {\n",
       "        vertical-align: middle;\n",
       "    }\n",
       "\n",
       "    .dataframe tbody tr th {\n",
       "        vertical-align: top;\n",
       "    }\n",
       "\n",
       "    .dataframe thead th {\n",
       "        text-align: right;\n",
       "    }\n",
       "</style>\n",
       "<table border=\"1\" class=\"dataframe\">\n",
       "  <thead>\n",
       "    <tr style=\"text-align: right;\">\n",
       "      <th></th>\n",
       "      <th>Population Proportion</th>\n",
       "    </tr>\n",
       "    <tr>\n",
       "      <th>Age</th>\n",
       "      <th></th>\n",
       "    </tr>\n",
       "  </thead>\n",
       "  <tbody>\n",
       "    <tr>\n",
       "      <th>Age 0 to 4</th>\n",
       "      <td>7.236350</td>\n",
       "    </tr>\n",
       "    <tr>\n",
       "      <th>Age 10 to 15</th>\n",
       "      <td>6.734377</td>\n",
       "    </tr>\n",
       "    <tr>\n",
       "      <th>Age 16 to 19</th>\n",
       "      <td>4.625186</td>\n",
       "    </tr>\n",
       "    <tr>\n",
       "      <th>Age 20 to 24</th>\n",
       "      <td>7.707078</td>\n",
       "    </tr>\n",
       "    <tr>\n",
       "      <th>Age 25 to 29</th>\n",
       "      <td>10.190507</td>\n",
       "    </tr>\n",
       "    <tr>\n",
       "      <th>Age 30 to 34</th>\n",
       "      <td>9.749128</td>\n",
       "    </tr>\n",
       "    <tr>\n",
       "      <th>Age 35 to 39</th>\n",
       "      <td>8.123939</td>\n",
       "    </tr>\n",
       "    <tr>\n",
       "      <th>Age 40 to 44</th>\n",
       "      <td>7.462985</td>\n",
       "    </tr>\n",
       "    <tr>\n",
       "      <th>Age 45 to 49</th>\n",
       "      <td>6.810130</td>\n",
       "    </tr>\n",
       "    <tr>\n",
       "      <th>Age 5 to 9</th>\n",
       "      <td>5.906686</td>\n",
       "    </tr>\n",
       "    <tr>\n",
       "      <th>Age 50 to 54</th>\n",
       "      <td>5.643422</td>\n",
       "    </tr>\n",
       "    <tr>\n",
       "      <th>Age 55 to 59</th>\n",
       "      <td>4.550265</td>\n",
       "    </tr>\n",
       "    <tr>\n",
       "      <th>Age 60 to 64</th>\n",
       "      <td>4.191246</td>\n",
       "    </tr>\n",
       "    <tr>\n",
       "      <th>Age 65 to 69</th>\n",
       "      <td>3.141349</td>\n",
       "    </tr>\n",
       "    <tr>\n",
       "      <th>Age 70 to 74</th>\n",
       "      <td>2.646043</td>\n",
       "    </tr>\n",
       "    <tr>\n",
       "      <th>Age 75 to 79</th>\n",
       "      <td>2.163351</td>\n",
       "    </tr>\n",
       "    <tr>\n",
       "      <th>Age 80 or over</th>\n",
       "      <td>3.117957</td>\n",
       "    </tr>\n",
       "  </tbody>\n",
       "</table>\n",
       "</div>"
      ],
      "text/plain": [
       "                Population Proportion\n",
       "Age                                  \n",
       "Age 0 to 4                   7.236350\n",
       "Age 10 to 15                 6.734377\n",
       "Age 16 to 19                 4.625186\n",
       "Age 20 to 24                 7.707078\n",
       "Age 25 to 29                10.190507\n",
       "Age 30 to 34                 9.749128\n",
       "Age 35 to 39                 8.123939\n",
       "Age 40 to 44                 7.462985\n",
       "Age 45 to 49                 6.810130\n",
       "Age 5 to 9                   5.906686\n",
       "Age 50 to 54                 5.643422\n",
       "Age 55 to 59                 4.550265\n",
       "Age 60 to 64                 4.191246\n",
       "Age 65 to 69                 3.141349\n",
       "Age 70 to 74                 2.646043\n",
       "Age 75 to 79                 2.163351\n",
       "Age 80 or over               3.117957"
      ]
     },
     "execution_count": 16,
     "metadata": {},
     "output_type": "execute_result"
    }
   ],
   "source": [
    "ageProp"
   ]
  },
  {
   "cell_type": "code",
   "execution_count": 22,
   "metadata": {},
   "outputs": [
    {
     "data": {
      "text/html": [
       "<div>\n",
       "<style scoped>\n",
       "    .dataframe tbody tr th:only-of-type {\n",
       "        vertical-align: middle;\n",
       "    }\n",
       "\n",
       "    .dataframe tbody tr th {\n",
       "        vertical-align: top;\n",
       "    }\n",
       "\n",
       "    .dataframe thead th {\n",
       "        text-align: right;\n",
       "    }\n",
       "</style>\n",
       "<table border=\"1\" class=\"dataframe\">\n",
       "  <thead>\n",
       "    <tr style=\"text-align: right;\">\n",
       "      <th></th>\n",
       "      <th>Population Proportion</th>\n",
       "      <th>Cumul</th>\n",
       "    </tr>\n",
       "    <tr>\n",
       "      <th>Age</th>\n",
       "      <th></th>\n",
       "      <th></th>\n",
       "    </tr>\n",
       "  </thead>\n",
       "  <tbody>\n",
       "    <tr>\n",
       "      <th>Age 0 to 4</th>\n",
       "      <td>7.236350</td>\n",
       "      <td>7.236350</td>\n",
       "    </tr>\n",
       "    <tr>\n",
       "      <th>Age 10 to 15</th>\n",
       "      <td>6.734377</td>\n",
       "      <td>13.970727</td>\n",
       "    </tr>\n",
       "    <tr>\n",
       "      <th>Age 16 to 19</th>\n",
       "      <td>4.625186</td>\n",
       "      <td>18.595914</td>\n",
       "    </tr>\n",
       "    <tr>\n",
       "      <th>Age 20 to 24</th>\n",
       "      <td>7.707078</td>\n",
       "      <td>26.302991</td>\n",
       "    </tr>\n",
       "    <tr>\n",
       "      <th>Age 25 to 29</th>\n",
       "      <td>10.190507</td>\n",
       "      <td>36.493498</td>\n",
       "    </tr>\n",
       "    <tr>\n",
       "      <th>Age 30 to 34</th>\n",
       "      <td>9.749128</td>\n",
       "      <td>46.242626</td>\n",
       "    </tr>\n",
       "    <tr>\n",
       "      <th>Age 35 to 39</th>\n",
       "      <td>8.123939</td>\n",
       "      <td>54.366566</td>\n",
       "    </tr>\n",
       "    <tr>\n",
       "      <th>Age 40 to 44</th>\n",
       "      <td>7.462985</td>\n",
       "      <td>61.829551</td>\n",
       "    </tr>\n",
       "    <tr>\n",
       "      <th>Age 45 to 49</th>\n",
       "      <td>6.810130</td>\n",
       "      <td>68.639681</td>\n",
       "    </tr>\n",
       "    <tr>\n",
       "      <th>Age 5 to 9</th>\n",
       "      <td>5.906686</td>\n",
       "      <td>74.546366</td>\n",
       "    </tr>\n",
       "    <tr>\n",
       "      <th>Age 50 to 54</th>\n",
       "      <td>5.643422</td>\n",
       "      <td>80.189788</td>\n",
       "    </tr>\n",
       "    <tr>\n",
       "      <th>Age 55 to 59</th>\n",
       "      <td>4.550265</td>\n",
       "      <td>84.740054</td>\n",
       "    </tr>\n",
       "    <tr>\n",
       "      <th>Age 60 to 64</th>\n",
       "      <td>4.191246</td>\n",
       "      <td>88.931300</td>\n",
       "    </tr>\n",
       "    <tr>\n",
       "      <th>Age 65 to 69</th>\n",
       "      <td>3.141349</td>\n",
       "      <td>92.072649</td>\n",
       "    </tr>\n",
       "    <tr>\n",
       "      <th>Age 70 to 74</th>\n",
       "      <td>2.646043</td>\n",
       "      <td>94.718692</td>\n",
       "    </tr>\n",
       "    <tr>\n",
       "      <th>Age 75 to 79</th>\n",
       "      <td>2.163351</td>\n",
       "      <td>96.882043</td>\n",
       "    </tr>\n",
       "    <tr>\n",
       "      <th>Age 80 or over</th>\n",
       "      <td>3.117957</td>\n",
       "      <td>100.000000</td>\n",
       "    </tr>\n",
       "  </tbody>\n",
       "</table>\n",
       "</div>"
      ],
      "text/plain": [
       "                Population Proportion       Cumul\n",
       "Age                                              \n",
       "Age 0 to 4                   7.236350    7.236350\n",
       "Age 10 to 15                 6.734377   13.970727\n",
       "Age 16 to 19                 4.625186   18.595914\n",
       "Age 20 to 24                 7.707078   26.302991\n",
       "Age 25 to 29                10.190507   36.493498\n",
       "Age 30 to 34                 9.749128   46.242626\n",
       "Age 35 to 39                 8.123939   54.366566\n",
       "Age 40 to 44                 7.462985   61.829551\n",
       "Age 45 to 49                 6.810130   68.639681\n",
       "Age 5 to 9                   5.906686   74.546366\n",
       "Age 50 to 54                 5.643422   80.189788\n",
       "Age 55 to 59                 4.550265   84.740054\n",
       "Age 60 to 64                 4.191246   88.931300\n",
       "Age 65 to 69                 3.141349   92.072649\n",
       "Age 70 to 74                 2.646043   94.718692\n",
       "Age 75 to 79                 2.163351   96.882043\n",
       "Age 80 or over               3.117957  100.000000"
      ]
     },
     "execution_count": 22,
     "metadata": {},
     "output_type": "execute_result"
    }
   ],
   "source": [
    "ageProp = ageProp.assign(Cumul = ageProp['Population Proportion'].cumsum())\n",
    "ageProp"
   ]
  },
  {
   "cell_type": "markdown",
   "metadata": {},
   "source": [
    "## Histograms"
   ]
  },
  {
   "cell_type": "code",
   "execution_count": 18,
   "metadata": {},
   "outputs": [
    {
     "data": {
      "text/plain": [
       "<AxesSubplot:title={'center':'Histogram of Irish Born Proportion in Each Borough (10 bins)'}, ylabel='Density'>"
      ]
     },
     "execution_count": 18,
     "metadata": {},
     "output_type": "execute_result"
    },
    {
     "data": {
      "image/png": "[encoded data removed]",
      "text/plain": [
       "<Figure size 864x576 with 1 Axes>"
      ]
     },
     "metadata": {
      "needs_background": "light"
     },
     "output_type": "display_data"
    }
   ],
   "source": [
    "#irishProportions.boroughProportion.hist(bins=15)\n",
    "numBins = 10\n",
    "axes = irishProportions.hist(bins=numBins, column='boroughProportion', figsize=(12,8), density=True)\n",
    "axes[0][0].set_title('Histogram of Irish Born Proportion in Each Borough (%d bins)' % numBins)\n",
    "plt.axvline(irishProportions.boroughProportion.mean(), color='k', linestyle='dashed', linewidth=2)\n",
    "irishProportions.boroughProportion.plot.kde(ax=axes[0][0])\n",
    "#plt.show()"
   ]
  },
  {
   "cell_type": "code",
   "execution_count": 19,
   "metadata": {},
   "outputs": [
    {
     "data": {
      "text/plain": [
       "1.5945610225066695"
      ]
     },
     "execution_count": 19,
     "metadata": {},
     "output_type": "execute_result"
    }
   ],
   "source": [
    "irishProportions.boroughProportion.mean()"
   ]
  },
  {
   "cell_type": "code",
   "execution_count": 20,
   "metadata": {},
   "outputs": [
    {
     "data": {
      "text/plain": [
       "2.8514049772665198"
      ]
     },
     "execution_count": 20,
     "metadata": {},
     "output_type": "execute_result"
    }
   ],
   "source": [
    "irishProportions.boroughProportion.max()"
   ]
  },
  {
   "cell_type": "code",
   "execution_count": 32,
   "metadata": {},
   "outputs": [
    {
     "data": {
      "text/plain": [
       "Text(0, 0.5, '% of Borough')"
      ]
     },
     "execution_count": 32,
     "metadata": {},
     "output_type": "execute_result"
    },
    {
     "data": {
      "image/png": "[encoded data removed]",
      "text/plain": [
       "<Figure size 288x432 with 1 Axes>"
      ]
     },
     "metadata": {
      "needs_background": "light"
     },
     "output_type": "display_data"
    }
   ],
   "source": [
    "ax = irishProportions.boxplot(column='boroughProportion', figsize=(4,6))\n",
    "ax.set_title('Irish Born Proportion in Each Borough')\n",
    "ax.yaxis.set_major_formatter(mtick.PercentFormatter())\n",
    "ax.set_ylabel(\"% of Borough\")\n"
   ]
  },
  {
   "cell_type": "code",
   "execution_count": 35,
   "metadata": {},
   "outputs": [
    {
     "data": {
      "text/html": [
       "<div>\n",
       "<style scoped>\n",
       "    .dataframe tbody tr th:only-of-type {\n",
       "        vertical-align: middle;\n",
       "    }\n",
       "\n",
       "    .dataframe tbody tr th {\n",
       "        vertical-align: top;\n",
       "    }\n",
       "\n",
       "    .dataframe thead th {\n",
       "        text-align: right;\n",
       "    }\n",
       "</style>\n",
       "<table border=\"1\" class=\"dataframe\">\n",
       "  <thead>\n",
       "    <tr style=\"text-align: right;\">\n",
       "      <th></th>\n",
       "      <th>boroughProportion</th>\n",
       "      <th>londonProportion</th>\n",
       "    </tr>\n",
       "  </thead>\n",
       "  <tbody>\n",
       "    <tr>\n",
       "      <th>count</th>\n",
       "      <td>32.000000</td>\n",
       "      <td>32.000000</td>\n",
       "    </tr>\n",
       "    <tr>\n",
       "      <th>mean</th>\n",
       "      <td>1.594561</td>\n",
       "      <td>3.125000</td>\n",
       "    </tr>\n",
       "    <tr>\n",
       "      <th>std</th>\n",
       "      <td>0.555163</td>\n",
       "      <td>1.276875</td>\n",
       "    </tr>\n",
       "    <tr>\n",
       "      <th>min</th>\n",
       "      <td>0.621461</td>\n",
       "      <td>1.265725</td>\n",
       "    </tr>\n",
       "    <tr>\n",
       "      <th>25%</th>\n",
       "      <td>1.164165</td>\n",
       "      <td>2.307079</td>\n",
       "    </tr>\n",
       "    <tr>\n",
       "      <th>50%</th>\n",
       "      <td>1.559918</td>\n",
       "      <td>2.994831</td>\n",
       "    </tr>\n",
       "    <tr>\n",
       "      <th>75%</th>\n",
       "      <td>1.885006</td>\n",
       "      <td>3.782731</td>\n",
       "    </tr>\n",
       "    <tr>\n",
       "      <th>max</th>\n",
       "      <td>2.851405</td>\n",
       "      <td>6.836303</td>\n",
       "    </tr>\n",
       "  </tbody>\n",
       "</table>\n",
       "</div>"
      ],
      "text/plain": [
       "       boroughProportion  londonProportion\n",
       "count          32.000000         32.000000\n",
       "mean            1.594561          3.125000\n",
       "std             0.555163          1.276875\n",
       "min             0.621461          1.265725\n",
       "25%             1.164165          2.307079\n",
       "50%             1.559918          2.994831\n",
       "75%             1.885006          3.782731\n",
       "max             2.851405          6.836303"
      ]
     },
     "execution_count": 35,
     "metadata": {},
     "output_type": "execute_result"
    }
   ],
   "source": [
    "irishProportions.describe()"
   ]
  },
  {
   "cell_type": "code",
   "execution_count": null,
   "metadata": {},
   "outputs": [],
   "source": []
  }
 ],
 "metadata": {
  "kernelspec": {
   "display_name": "Python 3",
   "language": "python",
   "name": "python3"
  },
  "language_info": {
   "codemirror_mode": {
    "name": "ipython",
    "version": 3
   },
   "file_extension": ".py",
   "mimetype": "text/x-python",
   "name": "python",
   "nbconvert_exporter": "python",
   "pygments_lexer": "ipython3",
   "version": "3.7.7"
  }
 },
 "nbformat": 4,
 "nbformat_minor": 2
}
