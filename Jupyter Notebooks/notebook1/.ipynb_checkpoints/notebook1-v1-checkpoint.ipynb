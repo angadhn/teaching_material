{
 "cells": [
  {
   "cell_type": "markdown",
   "metadata": {
    "colab_type": "text",
    "id": "FG17p6IUVggd"
   },
   "source": [
    "# ECS7024 Statistics for Artificial Intelligence and Data Science\n",
    "\n",
    "The notebook is not assessed.\n",
    "\n",
    "## Notebook 1: Aims and Outline\n",
    "\n",
    "The overall aim of this notebook is to introduce the Pandas library and the dataframe. Pandas is a complex library (as are the others we will use): our aim is to master Pandas sufficiently to be able to use for practical statistical analysis on this module. You will be able to explore other features of Pandas later.\n",
    "\n",
    " 1. Section 1: Introducing dataframes\n",
    "      1. Importing Pandas\n",
    "      1. Loading data from a CSV file\n",
    "      1. Row and Columns\n",
    "      1. Unique values\n",
    "      \n",
    " 2. Section 2: Selecting Data (Filtering)\n",
    "      1. Filtering using one condition\n",
    "      1. Filtering with multiple conditions\n",
    "      1. Understanding Other Forms of Selection\n",
    "      \n",
    " 3. Section 3: Modifying Data\n",
    "      1. Setting a Value\n",
    "      1. Vectorised Expressions\n",
    "      2. Applying a Function to Cells or Rows \n",
    "      2. Adding a new Column\n",
    " \n",
    " 4. Section 4: Creating and Visualing Pivot Tables\n",
    "      1. Creating a Pivot Table\n",
    "      1. Plotting a Pivot Table\n",
    " \n",
    " 5. Section 5: Example Analysis\n",
    "      1. Selecting London Boroughs  \n",
    "      1. Calculating Total Populations \n",
    "      1. Converting to Proportions (*uses dataframe apply and assign*)\n",
    "      1. Graphing the Proportions (*uses plot*)\n",
    "      \n",
    " 6. Section 6: Analysis Challenge Exercises"
   ]
  },
  {
   "cell_type": "markdown",
   "metadata": {
    "colab_type": "text",
    "id": "ug5UIGca5-uu"
   },
   "source": [
    "## Section 1: Introducing the Dataframe\n",
    "\n",
    "In Pandas, data is held in a Dataframe, which is like a spreadsheet or database table\n",
    " * Each columns has a name. Each column is a 'feature' (alternatively a 'variable' or 'attribute')\n",
    " * Each row contains data from one 'instance' (alternatively an 'observation' or 'record'). \n",
    "\n",
    "In this section you will learn how to:\n",
    "\n",
    " 1. Import the Pandas library\n",
    " 1. Read a CSV file and create a dataframe\n",
    " 1. The columns and rows of a dataframe\n",
    " 1. Have a look at unique values in the columns of the dataframe\n",
    "\n",
    "\n",
    "### Section 1.1 Import the pandas library\n",
    "Since pandas is a very large library, it is probably not a good idea to import the library with a prefix. We use Python's 'import as' so that we can have a short name as a prefix. It is common to use the `pd` prefix.\n",
    "  \n",
    "You can [read more about Pandas](https://pandas.pydata.org/about/index.html). The documentation on Pandas is in two main forms:\n",
    "\n",
    "1. [The user guide](https://pandas.pydata.org/docs/user_guide/index.html) covers topics, and is a good way to go into more depth on some topics introduced here. If you read it all, it is a the length of a textbook. \n",
    "2. The [API reference](https://pandas.pydata.org/docs/reference/index.html) has a section on each function. The description tends to be very detailed, but may include examples. You can look up a particular function. "
   ]
  },
  {
   "cell_type": "code",
   "execution_count": 1,
   "metadata": {
    "colab": {},
    "colab_type": "code",
    "id": "LZdn4_nC7mBS"
   },
   "outputs": [],
   "source": [
    "import pandas as pd"
   ]
  },
  {
   "cell_type": "markdown",
   "metadata": {
    "colab_type": "text",
    "id": "4jj3seHS7siq"
   },
   "source": [
    "### Section 1.2 Creating a Dataframe by Reading a CSV file\n",
    "The CSV file can be loaded from the PC you are using. Check you have downloaded it: the code assumes it is in the same directory as the notebook. The results is a **data frame**.\n",
    "\n",
    "The data is about the country of birth by London Borough, age group and sex. It is from the 2011 census, so not up to date. (See further notes on the course page). \n",
    "\n",
    "The variable `df` below holds the dataframe. Writing `df` on a line on its own causes a summary of the dataframe to be printed. Fortunatley, the system knows not to print too many lines."
   ]
  },
  {
   "cell_type": "code",
   "execution_count": 2,
   "metadata": {
    "colab": {
     "base_uri": "https://localhost:8080/",
     "height": 71,
     "resources": {
      "http://localhost:8080/nbextensions/google.colab/files.js": {
       "data": "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",
       "headers": [
        [
         "content-type",
         "application/javascript"
        ]
       ],
       "ok": true,
       "status": 200,
       "status_text": ""
      }
     }
    },
    "colab_type": "code",
    "id": "7hOKM8sm8bR1",
    "outputId": "97d26d2d-db97-4326-c2e8-76629d08bf92"
   },
   "outputs": [
    {
     "data": {
      "text/html": [
       "<div>\n",
       "<style scoped>\n",
       "    .dataframe tbody tr th:only-of-type {\n",
       "        vertical-align: middle;\n",
       "    }\n",
       "\n",
       "    .dataframe tbody tr th {\n",
       "        vertical-align: top;\n",
       "    }\n",
       "\n",
       "    .dataframe thead th {\n",
       "        text-align: right;\n",
       "    }\n",
       "</style>\n",
       "<table border=\"1\" class=\"dataframe\">\n",
       "  <thead>\n",
       "    <tr style=\"text-align: right;\">\n",
       "      <th></th>\n",
       "      <th>Area</th>\n",
       "      <th>Age</th>\n",
       "      <th>Sex</th>\n",
       "      <th>Usual Residents</th>\n",
       "      <th>BirthCountry</th>\n",
       "      <th>BirthRegion</th>\n",
       "    </tr>\n",
       "  </thead>\n",
       "  <tbody>\n",
       "    <tr>\n",
       "      <th>0</th>\n",
       "      <td>Barking and Dagenham</td>\n",
       "      <td>Age 0 to 4</td>\n",
       "      <td>Females</td>\n",
       "      <td>10</td>\n",
       "      <td>Ghana</td>\n",
       "      <td>Africa</td>\n",
       "    </tr>\n",
       "    <tr>\n",
       "      <th>1</th>\n",
       "      <td>Barking and Dagenham</td>\n",
       "      <td>Age 5 to 9</td>\n",
       "      <td>Females</td>\n",
       "      <td>17</td>\n",
       "      <td>Ghana</td>\n",
       "      <td>Africa</td>\n",
       "    </tr>\n",
       "    <tr>\n",
       "      <th>2</th>\n",
       "      <td>Barking and Dagenham</td>\n",
       "      <td>Age 10 to 15</td>\n",
       "      <td>Females</td>\n",
       "      <td>45</td>\n",
       "      <td>Ghana</td>\n",
       "      <td>Africa</td>\n",
       "    </tr>\n",
       "    <tr>\n",
       "      <th>3</th>\n",
       "      <td>Barking and Dagenham</td>\n",
       "      <td>Age 16 to 19</td>\n",
       "      <td>Females</td>\n",
       "      <td>30</td>\n",
       "      <td>Ghana</td>\n",
       "      <td>Africa</td>\n",
       "    </tr>\n",
       "    <tr>\n",
       "      <th>4</th>\n",
       "      <td>Barking and Dagenham</td>\n",
       "      <td>Age 20 to 24</td>\n",
       "      <td>Females</td>\n",
       "      <td>67</td>\n",
       "      <td>Ghana</td>\n",
       "      <td>Africa</td>\n",
       "    </tr>\n",
       "    <tr>\n",
       "      <th>...</th>\n",
       "      <td>...</td>\n",
       "      <td>...</td>\n",
       "      <td>...</td>\n",
       "      <td>...</td>\n",
       "      <td>...</td>\n",
       "      <td>...</td>\n",
       "    </tr>\n",
       "    <tr>\n",
       "      <th>67247</th>\n",
       "      <td>Yorkshire and The Humber</td>\n",
       "      <td>Age 60 to 64</td>\n",
       "      <td>Males</td>\n",
       "      <td>135</td>\n",
       "      <td>United States</td>\n",
       "      <td>The Americas and the Caribbean</td>\n",
       "    </tr>\n",
       "    <tr>\n",
       "      <th>67248</th>\n",
       "      <td>Yorkshire and The Humber</td>\n",
       "      <td>Age 65 to 69</td>\n",
       "      <td>Males</td>\n",
       "      <td>94</td>\n",
       "      <td>United States</td>\n",
       "      <td>The Americas and the Caribbean</td>\n",
       "    </tr>\n",
       "    <tr>\n",
       "      <th>67249</th>\n",
       "      <td>Yorkshire and The Humber</td>\n",
       "      <td>Age 70 to 74</td>\n",
       "      <td>Males</td>\n",
       "      <td>56</td>\n",
       "      <td>United States</td>\n",
       "      <td>The Americas and the Caribbean</td>\n",
       "    </tr>\n",
       "    <tr>\n",
       "      <th>67250</th>\n",
       "      <td>Yorkshire and The Humber</td>\n",
       "      <td>Age 75 to 79</td>\n",
       "      <td>Males</td>\n",
       "      <td>38</td>\n",
       "      <td>United States</td>\n",
       "      <td>The Americas and the Caribbean</td>\n",
       "    </tr>\n",
       "    <tr>\n",
       "      <th>67251</th>\n",
       "      <td>Yorkshire and The Humber</td>\n",
       "      <td>Age 80 or over</td>\n",
       "      <td>Males</td>\n",
       "      <td>57</td>\n",
       "      <td>United States</td>\n",
       "      <td>The Americas and the Caribbean</td>\n",
       "    </tr>\n",
       "  </tbody>\n",
       "</table>\n",
       "<p>67252 rows × 6 columns</p>\n",
       "</div>"
      ],
      "text/plain": [
       "                           Area             Age      Sex  Usual Residents  \\\n",
       "0          Barking and Dagenham      Age 0 to 4  Females               10   \n",
       "1          Barking and Dagenham      Age 5 to 9  Females               17   \n",
       "2          Barking and Dagenham    Age 10 to 15  Females               45   \n",
       "3          Barking and Dagenham    Age 16 to 19  Females               30   \n",
       "4          Barking and Dagenham    Age 20 to 24  Females               67   \n",
       "...                         ...             ...      ...              ...   \n",
       "67247  Yorkshire and The Humber    Age 60 to 64    Males              135   \n",
       "67248  Yorkshire and The Humber    Age 65 to 69    Males               94   \n",
       "67249  Yorkshire and The Humber    Age 70 to 74    Males               56   \n",
       "67250  Yorkshire and The Humber    Age 75 to 79    Males               38   \n",
       "67251  Yorkshire and The Humber  Age 80 or over    Males               57   \n",
       "\n",
       "        BirthCountry                     BirthRegion  \n",
       "0              Ghana                          Africa  \n",
       "1              Ghana                          Africa  \n",
       "2              Ghana                          Africa  \n",
       "3              Ghana                          Africa  \n",
       "4              Ghana                          Africa  \n",
       "...              ...                             ...  \n",
       "67247  United States  The Americas and the Caribbean  \n",
       "67248  United States  The Americas and the Caribbean  \n",
       "67249  United States  The Americas and the Caribbean  \n",
       "67250  United States  The Americas and the Caribbean  \n",
       "67251  United States  The Americas and the Caribbean  \n",
       "\n",
       "[67252 rows x 6 columns]"
      ]
     },
     "execution_count": 2,
     "metadata": {},
     "output_type": "execute_result"
    }
   ],
   "source": [
    "df = pd.read_csv('LondonCOB.csv')\n",
    "df"
   ]
  },
  {
   "cell_type": "markdown",
   "metadata": {
    "colab_type": "text",
    "id": "aNkAM5CwJCmn"
   },
   "source": [
    "This data is an example of ['narrow' or 'tall' data](https://en.wikipedia.org/wiki/Wide_and_narrow_data), with lots of rows but fewer columns. Each row holds data about one detailed catagory. However, it is not at all easy to look at data in this format."
   ]
  },
  {
   "cell_type": "markdown",
   "metadata": {},
   "source": [
    "### Section 1.3 Rows and Columns\n",
    "\n",
    "A Dataframe has rows and coulmns.\n",
    "\n",
    "The **columns of the dataframe**.\n",
    " * Each columns has a name. \n",
    " * Each column can be called a 'variable' (preferred by statisticians) an 'attribute' (used by a programmer) or a 'feature' (used in ML). \n",
    " \n",
    "The **rows of a dataframe** are similar to an entry is a database. They can be called 'observations', instances' or 'records'. \n",
    "\n",
    "A single column can be accessed using a dot. Try this:"
   ]
  },
  {
   "cell_type": "code",
   "execution_count": 3,
   "metadata": {},
   "outputs": [],
   "source": [
    "# Uncomment and run the following code\n",
    "# df.Area"
   ]
  },
  {
   "cell_type": "markdown",
   "metadata": {},
   "source": [
    "Explore what type a column is by using the following code:"
   ]
  },
  {
   "cell_type": "code",
   "execution_count": 4,
   "metadata": {},
   "outputs": [],
   "source": [
    "# Uncomments the followng code to find the type of dataframe column\n",
    "#type(df.Age)"
   ]
  },
  {
   "cell_type": "markdown",
   "metadata": {
    "colab_type": "text",
    "id": "UJYBsxLT_nZu"
   },
   "source": [
    "Many of the functions in Panadas work on different types (this is called 'overloading' by programmers; others just call it useful). Sometimes it is helpful to look at the type of a variable to understand how a function will behave.\n",
    "\n",
    "### Section 1.4 Unique Values of a Variable\n",
    "To start exploring the data we have loaded, we can find out how many different values there are in each column. For example, the code below shows the different age values."
   ]
  },
  {
   "cell_type": "code",
   "execution_count": 5,
   "metadata": {
    "colab": {},
    "colab_type": "code",
    "id": "Rey5MXbCAPrN"
   },
   "outputs": [
    {
     "data": {
      "text/plain": [
       "array(['Age 0 to 4', 'Age 5 to 9', 'Age 10 to 15', 'Age 16 to 19',\n",
       "       'Age 20 to 24', 'Age 25 to 29', 'Age 30 to 34', 'Age 35 to 39',\n",
       "       'Age 40 to 44', 'Age 45 to 49', 'Age 50 to 54', 'Age 55 to 59',\n",
       "       'Age 60 to 64', 'Age 65 to 69', 'Age 70 to 74', 'Age 75 to 79',\n",
       "       'Age 80 or over'], dtype=object)"
      ]
     },
     "execution_count": 5,
     "metadata": {},
     "output_type": "execute_result"
    }
   ],
   "source": [
    "# age values\n",
    "df.Age.unique()"
   ]
  },
  {
   "cell_type": "markdown",
   "metadata": {
    "colab_type": "text",
    "id": "msDHWsUNzx7U"
   },
   "source": [
    "**What no loops?** You might expect that we would need to loop through the code to accumulate the unique values. However, this is not the case. In fact, we will not be using the `while` keyword anywhere in this notebook. There are loops of course, but they are inside the functions we call.\n",
    "\n",
    "#### Exercise 1.1: Add Code to Show Uniques Values of the Other Features"
   ]
  },
  {
   "cell_type": "code",
   "execution_count": 6,
   "metadata": {
    "colab": {},
    "colab_type": "code",
    "id": "oe2QwsEhAV53"
   },
   "outputs": [],
   "source": [
    "# Add code for looking at the values of Area, BirthCountry and BirthRegion"
   ]
  },
  {
   "cell_type": "markdown",
   "metadata": {
    "colab_type": "text",
    "id": "9mIx_0Dw4wC5"
   },
   "source": [
    "#### Exercise 1.2: Find the answers to the following questions about the data\n",
    "\n",
    "1. Are all countries included?\n",
    "2. How do people from other countries appear in the data?\n",
    "3. Are all the 'Area' value London Boroughs? (See [list on wikipedia](https://en.wikipedia.org/wiki/List_of_London_boroughs) if necessary)\n",
    "4. Why do you suppose other Areas are included?\n",
    "5. It is possible to show the unique values of 'Usual Residents' "
   ]
  },
  {
   "cell_type": "markdown",
   "metadata": {
    "colab_type": "text",
    "id": "2ttFI0ofXbIZ"
   },
   "source": [
    "## Section 2: Selecting Data\n",
    "\n",
    "In this section, we learn about selecting data from the dataframe. In excel, this is described a 'filter'. The concept is the same, but this word is not used in Pandas for this function (the Pandas filter functions does something else).\n",
    "\n",
    "There are several ways to select data from a dataframe - as a result this is a complex area of Pandas. We will use the `.loc` method of the dataframe. We start by introducing the most **useful** form of this method. The final section explains some other forms of the `.loc` method call."
   ]
  },
  {
   "cell_type": "markdown",
   "metadata": {
    "colab_type": "text",
    "id": "mo_KUjXa5pTB"
   },
   "source": [
    "### Section 2.1 Filtering Using One Condition\n",
    "\n",
    "The data for one Area can be selected as shown below. Here we use a condition that is true for the borough we want."
   ]
  },
  {
   "cell_type": "code",
   "execution_count": 7,
   "metadata": {
    "colab": {},
    "colab_type": "code",
    "id": "iaBQ6N-fX_nT"
   },
   "outputs": [
    {
     "data": {
      "text/html": [
       "<div>\n",
       "<style scoped>\n",
       "    .dataframe tbody tr th:only-of-type {\n",
       "        vertical-align: middle;\n",
       "    }\n",
       "\n",
       "    .dataframe tbody tr th {\n",
       "        vertical-align: top;\n",
       "    }\n",
       "\n",
       "    .dataframe thead th {\n",
       "        text-align: right;\n",
       "    }\n",
       "</style>\n",
       "<table border=\"1\" class=\"dataframe\">\n",
       "  <thead>\n",
       "    <tr style=\"text-align: right;\">\n",
       "      <th></th>\n",
       "      <th>Area</th>\n",
       "      <th>Age</th>\n",
       "      <th>Sex</th>\n",
       "      <th>Usual Residents</th>\n",
       "      <th>BirthCountry</th>\n",
       "      <th>BirthRegion</th>\n",
       "    </tr>\n",
       "  </thead>\n",
       "  <tbody>\n",
       "    <tr>\n",
       "      <th>57868</th>\n",
       "      <td>Tower Hamlets</td>\n",
       "      <td>Age 0 to 4</td>\n",
       "      <td>Females</td>\n",
       "      <td>3</td>\n",
       "      <td>Ghana</td>\n",
       "      <td>Africa</td>\n",
       "    </tr>\n",
       "    <tr>\n",
       "      <th>57869</th>\n",
       "      <td>Tower Hamlets</td>\n",
       "      <td>Age 5 to 9</td>\n",
       "      <td>Females</td>\n",
       "      <td>2</td>\n",
       "      <td>Ghana</td>\n",
       "      <td>Africa</td>\n",
       "    </tr>\n",
       "    <tr>\n",
       "      <th>57870</th>\n",
       "      <td>Tower Hamlets</td>\n",
       "      <td>Age 10 to 15</td>\n",
       "      <td>Females</td>\n",
       "      <td>4</td>\n",
       "      <td>Ghana</td>\n",
       "      <td>Africa</td>\n",
       "    </tr>\n",
       "    <tr>\n",
       "      <th>57871</th>\n",
       "      <td>Tower Hamlets</td>\n",
       "      <td>Age 16 to 19</td>\n",
       "      <td>Females</td>\n",
       "      <td>5</td>\n",
       "      <td>Ghana</td>\n",
       "      <td>Africa</td>\n",
       "    </tr>\n",
       "    <tr>\n",
       "      <th>57872</th>\n",
       "      <td>Tower Hamlets</td>\n",
       "      <td>Age 20 to 24</td>\n",
       "      <td>Females</td>\n",
       "      <td>15</td>\n",
       "      <td>Ghana</td>\n",
       "      <td>Africa</td>\n",
       "    </tr>\n",
       "    <tr>\n",
       "      <th>...</th>\n",
       "      <td>...</td>\n",
       "      <td>...</td>\n",
       "      <td>...</td>\n",
       "      <td>...</td>\n",
       "      <td>...</td>\n",
       "      <td>...</td>\n",
       "    </tr>\n",
       "    <tr>\n",
       "      <th>59427</th>\n",
       "      <td>Tower Hamlets</td>\n",
       "      <td>Age 60 to 64</td>\n",
       "      <td>Males</td>\n",
       "      <td>30</td>\n",
       "      <td>United States</td>\n",
       "      <td>The Americas and the Caribbean</td>\n",
       "    </tr>\n",
       "    <tr>\n",
       "      <th>59428</th>\n",
       "      <td>Tower Hamlets</td>\n",
       "      <td>Age 65 to 69</td>\n",
       "      <td>Males</td>\n",
       "      <td>10</td>\n",
       "      <td>United States</td>\n",
       "      <td>The Americas and the Caribbean</td>\n",
       "    </tr>\n",
       "    <tr>\n",
       "      <th>59429</th>\n",
       "      <td>Tower Hamlets</td>\n",
       "      <td>Age 70 to 74</td>\n",
       "      <td>Males</td>\n",
       "      <td>8</td>\n",
       "      <td>United States</td>\n",
       "      <td>The Americas and the Caribbean</td>\n",
       "    </tr>\n",
       "    <tr>\n",
       "      <th>59430</th>\n",
       "      <td>Tower Hamlets</td>\n",
       "      <td>Age 75 to 79</td>\n",
       "      <td>Males</td>\n",
       "      <td>2</td>\n",
       "      <td>United States</td>\n",
       "      <td>The Americas and the Caribbean</td>\n",
       "    </tr>\n",
       "    <tr>\n",
       "      <th>59431</th>\n",
       "      <td>Tower Hamlets</td>\n",
       "      <td>Age 80 or over</td>\n",
       "      <td>Males</td>\n",
       "      <td>2</td>\n",
       "      <td>United States</td>\n",
       "      <td>The Americas and the Caribbean</td>\n",
       "    </tr>\n",
       "  </tbody>\n",
       "</table>\n",
       "<p>1564 rows × 6 columns</p>\n",
       "</div>"
      ],
      "text/plain": [
       "                Area             Age      Sex  Usual Residents   BirthCountry  \\\n",
       "57868  Tower Hamlets      Age 0 to 4  Females                3          Ghana   \n",
       "57869  Tower Hamlets      Age 5 to 9  Females                2          Ghana   \n",
       "57870  Tower Hamlets    Age 10 to 15  Females                4          Ghana   \n",
       "57871  Tower Hamlets    Age 16 to 19  Females                5          Ghana   \n",
       "57872  Tower Hamlets    Age 20 to 24  Females               15          Ghana   \n",
       "...              ...             ...      ...              ...            ...   \n",
       "59427  Tower Hamlets    Age 60 to 64    Males               30  United States   \n",
       "59428  Tower Hamlets    Age 65 to 69    Males               10  United States   \n",
       "59429  Tower Hamlets    Age 70 to 74    Males                8  United States   \n",
       "59430  Tower Hamlets    Age 75 to 79    Males                2  United States   \n",
       "59431  Tower Hamlets  Age 80 or over    Males                2  United States   \n",
       "\n",
       "                          BirthRegion  \n",
       "57868                          Africa  \n",
       "57869                          Africa  \n",
       "57870                          Africa  \n",
       "57871                          Africa  \n",
       "57872                          Africa  \n",
       "...                               ...  \n",
       "59427  The Americas and the Caribbean  \n",
       "59428  The Americas and the Caribbean  \n",
       "59429  The Americas and the Caribbean  \n",
       "59430  The Americas and the Caribbean  \n",
       "59431  The Americas and the Caribbean  \n",
       "\n",
       "[1564 rows x 6 columns]"
      ]
     },
     "execution_count": 7,
     "metadata": {},
     "output_type": "execute_result"
    }
   ],
   "source": [
    "th = df.loc[(df.Area == 'Tower Hamlets')]\n",
    "\n",
    "th"
   ]
  },
  {
   "cell_type": "markdown",
   "metadata": {},
   "source": [
    "#### Exercise 2.1 Selecting (or Filtering) Instances\n",
    "Write code to select other subsets of the data:\n",
    "\n",
    "* Choose an area of interest to you (or 'Sutton' where I live) and select the data for this area.\n",
    "* Select data for one BirthRegion or one BirthCountry"
   ]
  },
  {
   "cell_type": "markdown",
   "metadata": {
    "colab_type": "text",
    "id": "wPgjCGCw6ZhI"
   },
   "source": [
    "### Section 2.2 Filtering using Multiple Conditions\n",
    "It is possible to use two or more conditions, combined into a logical expression as shown below. Note that the `&` operator is used. Other logical operators (such as `||`) can also be used. "
   ]
  },
  {
   "cell_type": "code",
   "execution_count": 8,
   "metadata": {
    "colab": {},
    "colab_type": "code",
    "id": "eR5jtWZz6fMq"
   },
   "outputs": [
    {
     "data": {
      "text/html": [
       "<div>\n",
       "<style scoped>\n",
       "    .dataframe tbody tr th:only-of-type {\n",
       "        vertical-align: middle;\n",
       "    }\n",
       "\n",
       "    .dataframe tbody tr th {\n",
       "        vertical-align: top;\n",
       "    }\n",
       "\n",
       "    .dataframe thead th {\n",
       "        text-align: right;\n",
       "    }\n",
       "</style>\n",
       "<table border=\"1\" class=\"dataframe\">\n",
       "  <thead>\n",
       "    <tr style=\"text-align: right;\">\n",
       "      <th></th>\n",
       "      <th>Area</th>\n",
       "      <th>Age</th>\n",
       "      <th>Sex</th>\n",
       "      <th>Usual Residents</th>\n",
       "      <th>BirthCountry</th>\n",
       "      <th>BirthRegion</th>\n",
       "    </tr>\n",
       "  </thead>\n",
       "  <tbody>\n",
       "    <tr>\n",
       "      <th>57885</th>\n",
       "      <td>Tower Hamlets</td>\n",
       "      <td>Age 0 to 4</td>\n",
       "      <td>Males</td>\n",
       "      <td>0</td>\n",
       "      <td>Ghana</td>\n",
       "      <td>Africa</td>\n",
       "    </tr>\n",
       "    <tr>\n",
       "      <th>57886</th>\n",
       "      <td>Tower Hamlets</td>\n",
       "      <td>Age 5 to 9</td>\n",
       "      <td>Males</td>\n",
       "      <td>0</td>\n",
       "      <td>Ghana</td>\n",
       "      <td>Africa</td>\n",
       "    </tr>\n",
       "    <tr>\n",
       "      <th>57887</th>\n",
       "      <td>Tower Hamlets</td>\n",
       "      <td>Age 10 to 15</td>\n",
       "      <td>Males</td>\n",
       "      <td>6</td>\n",
       "      <td>Ghana</td>\n",
       "      <td>Africa</td>\n",
       "    </tr>\n",
       "    <tr>\n",
       "      <th>57888</th>\n",
       "      <td>Tower Hamlets</td>\n",
       "      <td>Age 16 to 19</td>\n",
       "      <td>Males</td>\n",
       "      <td>4</td>\n",
       "      <td>Ghana</td>\n",
       "      <td>Africa</td>\n",
       "    </tr>\n",
       "    <tr>\n",
       "      <th>57889</th>\n",
       "      <td>Tower Hamlets</td>\n",
       "      <td>Age 20 to 24</td>\n",
       "      <td>Males</td>\n",
       "      <td>22</td>\n",
       "      <td>Ghana</td>\n",
       "      <td>Africa</td>\n",
       "    </tr>\n",
       "    <tr>\n",
       "      <th>...</th>\n",
       "      <td>...</td>\n",
       "      <td>...</td>\n",
       "      <td>...</td>\n",
       "      <td>...</td>\n",
       "      <td>...</td>\n",
       "      <td>...</td>\n",
       "    </tr>\n",
       "    <tr>\n",
       "      <th>59427</th>\n",
       "      <td>Tower Hamlets</td>\n",
       "      <td>Age 60 to 64</td>\n",
       "      <td>Males</td>\n",
       "      <td>30</td>\n",
       "      <td>United States</td>\n",
       "      <td>The Americas and the Caribbean</td>\n",
       "    </tr>\n",
       "    <tr>\n",
       "      <th>59428</th>\n",
       "      <td>Tower Hamlets</td>\n",
       "      <td>Age 65 to 69</td>\n",
       "      <td>Males</td>\n",
       "      <td>10</td>\n",
       "      <td>United States</td>\n",
       "      <td>The Americas and the Caribbean</td>\n",
       "    </tr>\n",
       "    <tr>\n",
       "      <th>59429</th>\n",
       "      <td>Tower Hamlets</td>\n",
       "      <td>Age 70 to 74</td>\n",
       "      <td>Males</td>\n",
       "      <td>8</td>\n",
       "      <td>United States</td>\n",
       "      <td>The Americas and the Caribbean</td>\n",
       "    </tr>\n",
       "    <tr>\n",
       "      <th>59430</th>\n",
       "      <td>Tower Hamlets</td>\n",
       "      <td>Age 75 to 79</td>\n",
       "      <td>Males</td>\n",
       "      <td>2</td>\n",
       "      <td>United States</td>\n",
       "      <td>The Americas and the Caribbean</td>\n",
       "    </tr>\n",
       "    <tr>\n",
       "      <th>59431</th>\n",
       "      <td>Tower Hamlets</td>\n",
       "      <td>Age 80 or over</td>\n",
       "      <td>Males</td>\n",
       "      <td>2</td>\n",
       "      <td>United States</td>\n",
       "      <td>The Americas and the Caribbean</td>\n",
       "    </tr>\n",
       "  </tbody>\n",
       "</table>\n",
       "<p>782 rows × 6 columns</p>\n",
       "</div>"
      ],
      "text/plain": [
       "                Area             Age    Sex  Usual Residents   BirthCountry  \\\n",
       "57885  Tower Hamlets      Age 0 to 4  Males                0          Ghana   \n",
       "57886  Tower Hamlets      Age 5 to 9  Males                0          Ghana   \n",
       "57887  Tower Hamlets    Age 10 to 15  Males                6          Ghana   \n",
       "57888  Tower Hamlets    Age 16 to 19  Males                4          Ghana   \n",
       "57889  Tower Hamlets    Age 20 to 24  Males               22          Ghana   \n",
       "...              ...             ...    ...              ...            ...   \n",
       "59427  Tower Hamlets    Age 60 to 64  Males               30  United States   \n",
       "59428  Tower Hamlets    Age 65 to 69  Males               10  United States   \n",
       "59429  Tower Hamlets    Age 70 to 74  Males                8  United States   \n",
       "59430  Tower Hamlets    Age 75 to 79  Males                2  United States   \n",
       "59431  Tower Hamlets  Age 80 or over  Males                2  United States   \n",
       "\n",
       "                          BirthRegion  \n",
       "57885                          Africa  \n",
       "57886                          Africa  \n",
       "57887                          Africa  \n",
       "57888                          Africa  \n",
       "57889                          Africa  \n",
       "...                               ...  \n",
       "59427  The Americas and the Caribbean  \n",
       "59428  The Americas and the Caribbean  \n",
       "59429  The Americas and the Caribbean  \n",
       "59430  The Americas and the Caribbean  \n",
       "59431  The Americas and the Caribbean  \n",
       "\n",
       "[782 rows x 6 columns]"
      ]
     },
     "execution_count": 8,
     "metadata": {},
     "output_type": "execute_result"
    }
   ],
   "source": [
    "th_men = df.loc[(df.Area == 'Tower Hamlets') & (df.Sex == 'Males')]\n",
    "th_men"
   ]
  },
  {
   "cell_type": "markdown",
   "metadata": {},
   "source": [
    "#### Exercise 2.2 Selecting Instances using Multiple Variables\n",
    "\n",
    "Write code for the following selections\n",
    "\n",
    "  - Select records from two or more BirthCountries. One method is to use the `||` operator to combine two conditions with 'either or'\n",
    "  - Select records from several areas. For example, use [the list on wikipedia](https://en.wikipedia.org/wiki/List_of_London_boroughs) to select boroughs controlled by the Liberal Democrat party (there are only three). Be craeful to check the naming used in the data file. "
   ]
  },
  {
   "cell_type": "markdown",
   "metadata": {},
   "source": [
    "### Section 2.3 Understanding Other forms of Selection (*This Section is Not Essential*)\n",
    "\n",
    "This section explains in more detail how the techniques we have used for selection above work and what other forms of selection using `.loc` are available. The general form of the `.loc` call is:\n",
    "\n",
    "     .loc[row selector, column selector]\n",
    "\n",
    "The column selector is ignored if it is omitted. The 'selectors' can be either:\n",
    "  - a value or list of values\n",
    "  - an series of true or false values, represented by an expression that is true or false.\n",
    "  \n",
    "Above, we have used the second form: when we write an expression such as `df.Area == 'Tower Hamlets')`, it evaluates to a series of values, one for each row, that are either true (in rows where Area is TH) or false (in all other rows). The true rows are selected. \n",
    "\n",
    "#### Exercise 2.3 Uncomment the code in the cell below to see the type of the expression."
   ]
  },
  {
   "cell_type": "code",
   "execution_count": 9,
   "metadata": {
    "colab": {},
    "colab_type": "code",
    "id": "doRUWMTD7tZJ"
   },
   "outputs": [],
   "source": [
    "# df.Area == 'Tower Hamlets'        # Uncomment this line to look at the value of the row selector\n",
    "# type(df.Area == 'Tower Hamlets')  # Uncomment this line to look at the TYPE of the row selector"
   ]
  },
  {
   "cell_type": "markdown",
   "metadata": {},
   "source": [
    "Where we connect several such expressions using the `&` operator (or other logical operators) it is not the standard Python operator but is overloaded for the types being used here: the arguments are of type 'Series' and the effect is to intersect the two series."
   ]
  },
  {
   "cell_type": "markdown",
   "metadata": {},
   "source": [
    "#### Exercise 2.4 Selection Using Values\n",
    "Here are some examples of the other form of selection. Uncomment and run these."
   ]
  },
  {
   "cell_type": "code",
   "execution_count": 10,
   "metadata": {},
   "outputs": [],
   "source": [
    "# Use the index value to select a row\n",
    "#df.loc[57885]\n",
    "\n",
    "# Use a range of index values to select a number of rows\n",
    "#df.loc[0:50]\n",
    "\n",
    "# Use the index value and a column label to select a single cell\n",
    "#df.loc[57885, 'BirthCountry']\n",
    "\n",
    "# Use the index value and a list of column labels to select several cells\n",
    "#df.loc[57885, ['BirthCountry', 'Age']]\n",
    "\n",
    "# Using a list of column labels together with a true or false (boolean) expression\n",
    "#df.loc[df['Area']=='Tower Hamlets', ['BirthCountry', 'Age']]"
   ]
  },
  {
   "cell_type": "markdown",
   "metadata": {
    "colab_type": "text",
    "id": "cEy72H4u9Aa-"
   },
   "source": [
    "To understand more about selection, you can look at the [user guide section](https://pandas.pydata.org/pandas-docs/stable/user_guide/indexing.html). However, it is complex! Some of the code you see will not use the `.loc` method, but you are recommended to use this."
   ]
  },
  {
   "cell_type": "markdown",
   "metadata": {},
   "source": [
    "**Dataframe Index**\n",
    "\n",
    "The numbers such as 57885 used in the example above are index values. A dataframe has an index: in this case the index is automatically generated (and can be ignored). In other cases the index is more useful."
   ]
  },
  {
   "cell_type": "markdown",
   "metadata": {
    "colab_type": "text",
    "id": "l00s4dKgdShX"
   },
   "source": [
    "## Section 3: Modifying the Dataframe\n",
    "\n",
    "We first explain how (and when) to create a copy of a dataframe.\n",
    "We then consider the following types of changes to a dataframe.\n",
    "\n",
    "  - Setting a Value\n",
    "  - Renaming a Column\n",
    "  - Evaluating an Expression for all Rows\n",
    "  - Applying a Function to Cells or Rows \n",
    "  - Adding a New Column\n",
    "\n",
    "Adding new columns is often needed as part of an analysis to present the data in a new way. "
   ]
  },
  {
   "cell_type": "markdown",
   "metadata": {},
   "source": [
    "### Section 3.1 Copy or View\n",
    "\n",
    "The dataframes `th` and `th_men` were created above from the `df` dataframe, which was loaded from a data file. How many copies of the data do we have? The answer to this question does not matter provided we only **look at** data. \n",
    "\n",
    "In fact, so far we have only **a single** copy of the data. The two new dataframe have been created as views, without copying the data. Note that it is not easy to check this behaviour, but this is the behaviour described. \n",
    "\n",
    "Uncomment the code below to create a copy of the data. We will use this when we modify data. \n",
    "  * Copying data takes space; we should not copy data unless we need to\n",
    "  * If you change data, the changes will affect all views. Usually copy data before modifying it\n",
    "  * It is not always easy to be sure whether data has been copied "
   ]
  },
  {
   "cell_type": "code",
   "execution_count": 11,
   "metadata": {},
   "outputs": [],
   "source": [
    "croydon = df.loc[(df.Area == 'Croydon')].copy()\n",
    "#croydon"
   ]
  },
  {
   "cell_type": "markdown",
   "metadata": {},
   "source": [
    "#### Exercise 3.1 Comparing Copied and Original Data\n",
    "Has the data been copied? If you uncomment and run the code below, you see the exact same values but taken from the original `df`. In Section 3.3 below we will make a change to the new copy of the data and see that the original data is unchanged.  "
   ]
  },
  {
   "cell_type": "code",
   "execution_count": 12,
   "metadata": {},
   "outputs": [],
   "source": [
    "# df.loc[df.Area == 'Croydon']"
   ]
  },
  {
   "cell_type": "markdown",
   "metadata": {},
   "source": [
    "### Section 3.2 Renaming a Column\n",
    "\n",
    "We discovered above that we can select a column (or variable) from the dataframe using the form `df.Area`. However, there is a limitation that when we write `df.X` then the `X` must be a valid Python identifier. One of our columns is headed `Usual Residents`; because of the space this is not a valid identifier in Python.\n",
    "\n",
    "The code below shows how to rename a column. The value of the parameter is a [Python dictionary](https://docs.python.org/3.7/tutorial/datastructures.html#dictionaries). Run this code to rename the column."
   ]
  },
  {
   "cell_type": "code",
   "execution_count": 13,
   "metadata": {},
   "outputs": [
    {
     "data": {
      "text/html": [
       "<div>\n",
       "<style scoped>\n",
       "    .dataframe tbody tr th:only-of-type {\n",
       "        vertical-align: middle;\n",
       "    }\n",
       "\n",
       "    .dataframe tbody tr th {\n",
       "        vertical-align: top;\n",
       "    }\n",
       "\n",
       "    .dataframe thead th {\n",
       "        text-align: right;\n",
       "    }\n",
       "</style>\n",
       "<table border=\"1\" class=\"dataframe\">\n",
       "  <thead>\n",
       "    <tr style=\"text-align: right;\">\n",
       "      <th></th>\n",
       "      <th>Area</th>\n",
       "      <th>Age</th>\n",
       "      <th>Sex</th>\n",
       "      <th>Residents</th>\n",
       "      <th>BirthCountry</th>\n",
       "      <th>BirthRegion</th>\n",
       "    </tr>\n",
       "  </thead>\n",
       "  <tbody>\n",
       "    <tr>\n",
       "      <th>10948</th>\n",
       "      <td>Croydon</td>\n",
       "      <td>Age 0 to 4</td>\n",
       "      <td>Females</td>\n",
       "      <td>5</td>\n",
       "      <td>Ghana</td>\n",
       "      <td>Africa</td>\n",
       "    </tr>\n",
       "    <tr>\n",
       "      <th>10949</th>\n",
       "      <td>Croydon</td>\n",
       "      <td>Age 5 to 9</td>\n",
       "      <td>Females</td>\n",
       "      <td>22</td>\n",
       "      <td>Ghana</td>\n",
       "      <td>Africa</td>\n",
       "    </tr>\n",
       "    <tr>\n",
       "      <th>10950</th>\n",
       "      <td>Croydon</td>\n",
       "      <td>Age 10 to 15</td>\n",
       "      <td>Females</td>\n",
       "      <td>75</td>\n",
       "      <td>Ghana</td>\n",
       "      <td>Africa</td>\n",
       "    </tr>\n",
       "    <tr>\n",
       "      <th>10951</th>\n",
       "      <td>Croydon</td>\n",
       "      <td>Age 16 to 19</td>\n",
       "      <td>Females</td>\n",
       "      <td>64</td>\n",
       "      <td>Ghana</td>\n",
       "      <td>Africa</td>\n",
       "    </tr>\n",
       "    <tr>\n",
       "      <th>10952</th>\n",
       "      <td>Croydon</td>\n",
       "      <td>Age 20 to 24</td>\n",
       "      <td>Females</td>\n",
       "      <td>145</td>\n",
       "      <td>Ghana</td>\n",
       "      <td>Africa</td>\n",
       "    </tr>\n",
       "    <tr>\n",
       "      <th>...</th>\n",
       "      <td>...</td>\n",
       "      <td>...</td>\n",
       "      <td>...</td>\n",
       "      <td>...</td>\n",
       "      <td>...</td>\n",
       "      <td>...</td>\n",
       "    </tr>\n",
       "    <tr>\n",
       "      <th>12507</th>\n",
       "      <td>Croydon</td>\n",
       "      <td>Age 60 to 64</td>\n",
       "      <td>Males</td>\n",
       "      <td>15</td>\n",
       "      <td>United States</td>\n",
       "      <td>The Americas and the Caribbean</td>\n",
       "    </tr>\n",
       "    <tr>\n",
       "      <th>12508</th>\n",
       "      <td>Croydon</td>\n",
       "      <td>Age 65 to 69</td>\n",
       "      <td>Males</td>\n",
       "      <td>6</td>\n",
       "      <td>United States</td>\n",
       "      <td>The Americas and the Caribbean</td>\n",
       "    </tr>\n",
       "    <tr>\n",
       "      <th>12509</th>\n",
       "      <td>Croydon</td>\n",
       "      <td>Age 70 to 74</td>\n",
       "      <td>Males</td>\n",
       "      <td>4</td>\n",
       "      <td>United States</td>\n",
       "      <td>The Americas and the Caribbean</td>\n",
       "    </tr>\n",
       "    <tr>\n",
       "      <th>12510</th>\n",
       "      <td>Croydon</td>\n",
       "      <td>Age 75 to 79</td>\n",
       "      <td>Males</td>\n",
       "      <td>7</td>\n",
       "      <td>United States</td>\n",
       "      <td>The Americas and the Caribbean</td>\n",
       "    </tr>\n",
       "    <tr>\n",
       "      <th>12511</th>\n",
       "      <td>Croydon</td>\n",
       "      <td>Age 80 or over</td>\n",
       "      <td>Males</td>\n",
       "      <td>4</td>\n",
       "      <td>United States</td>\n",
       "      <td>The Americas and the Caribbean</td>\n",
       "    </tr>\n",
       "  </tbody>\n",
       "</table>\n",
       "<p>1564 rows × 6 columns</p>\n",
       "</div>"
      ],
      "text/plain": [
       "          Area             Age      Sex  Residents   BirthCountry  \\\n",
       "10948  Croydon      Age 0 to 4  Females          5          Ghana   \n",
       "10949  Croydon      Age 5 to 9  Females         22          Ghana   \n",
       "10950  Croydon    Age 10 to 15  Females         75          Ghana   \n",
       "10951  Croydon    Age 16 to 19  Females         64          Ghana   \n",
       "10952  Croydon    Age 20 to 24  Females        145          Ghana   \n",
       "...        ...             ...      ...        ...            ...   \n",
       "12507  Croydon    Age 60 to 64    Males         15  United States   \n",
       "12508  Croydon    Age 65 to 69    Males          6  United States   \n",
       "12509  Croydon    Age 70 to 74    Males          4  United States   \n",
       "12510  Croydon    Age 75 to 79    Males          7  United States   \n",
       "12511  Croydon  Age 80 or over    Males          4  United States   \n",
       "\n",
       "                          BirthRegion  \n",
       "10948                          Africa  \n",
       "10949                          Africa  \n",
       "10950                          Africa  \n",
       "10951                          Africa  \n",
       "10952                          Africa  \n",
       "...                               ...  \n",
       "12507  The Americas and the Caribbean  \n",
       "12508  The Americas and the Caribbean  \n",
       "12509  The Americas and the Caribbean  \n",
       "12510  The Americas and the Caribbean  \n",
       "12511  The Americas and the Caribbean  \n",
       "\n",
       "[1564 rows x 6 columns]"
      ]
     },
     "execution_count": 13,
     "metadata": {},
     "output_type": "execute_result"
    }
   ],
   "source": [
    "croydon = croydon.rename(columns={\"Usual Residents\": \"Residents\"})\n",
    "croydon "
   ]
  },
  {
   "cell_type": "markdown",
   "metadata": {},
   "source": [
    "### Section 3.3 Setting a Value\n",
    "\n",
    "The value of a cell in a dataframe can be updated by assigning a new value to it. Uncomment and run the code below: observe the change."
   ]
  },
  {
   "cell_type": "code",
   "execution_count": 14,
   "metadata": {},
   "outputs": [],
   "source": [
    "#croydon.loc[10948,'Residents'] = 0\n",
    "#croydon"
   ]
  },
  {
   "cell_type": "markdown",
   "metadata": {},
   "source": [
    "#### Exercise 3.2 Changing Data Values\n",
    "\n",
    "  * Assign a new value to other enteries in the `croydon` dataframe.\n",
    "  * Again compare the `croydon` data frame with the same data selected from the `df` dataframe and confirm that the two are now different."
   ]
  },
  {
   "cell_type": "code",
   "execution_count": 15,
   "metadata": {},
   "outputs": [],
   "source": [
    "# df.loc[df.Area == 'Croydon']"
   ]
  },
  {
   "cell_type": "markdown",
   "metadata": {},
   "source": [
    "### Section 3.4 Evaluating an Expression for all Rows\n",
    "It is possible to modify all (or any) of the values in a column without using a loop. In the following example, the expression `croydon.Residents * 2` is re-evaluated in every row and used to update the column. Expressions like this are described as 'vectorised' or 'elementwise'.\n",
    "\n",
    "Run the example and observe the result."
   ]
  },
  {
   "cell_type": "code",
   "execution_count": 16,
   "metadata": {},
   "outputs": [],
   "source": [
    "#croydon.Residents = croydon.Residents * 2\n",
    "#croydon"
   ]
  },
  {
   "cell_type": "markdown",
   "metadata": {},
   "source": [
    "The following types of expression can be applied in this way:\n",
    "   * Binary arthimetic operators `+ - * / // %` applied **element by element**\n",
    "   * Methods `.add`, `.sub`, `.mul`, `.div`, `.mod`, `.pow`, similar but with more options\n",
    "   * Methods `.sum`, `.min` and `.max` applied to the complete column (or dataframe) \n",
    "   \n",
    "If you need to make a change for only some row, you can use the condition as a selector. \n",
    "   \n",
    "#### Exercise 3.3 Evaluating an Expressions for all Rows\n",
    "Try the following examples to understand some of the options available."
   ]
  },
  {
   "cell_type": "code",
   "execution_count": 17,
   "metadata": {},
   "outputs": [],
   "source": [
    "# Applying an expression to only some rows using a (selector) condition\n",
    "#croydon.loc[croydon.Age != 'Age 0 to 4', 'Residents'] * 2\n",
    "\n",
    "# Updating row differently using a (selector) condition \n",
    "#croydon.loc[croydon.Age == 'Age 0 to 4', 'Residents'] = 0\n",
    "#croydon.loc[croydon.Age != 'Age 0 to 4', 'Residents'] = croydon.Residents * 2\n",
    "\n",
    "# Applying a function to a column to get a single value\n",
    "#croydon.Residents.sum()"
   ]
  },
  {
   "cell_type": "markdown",
   "metadata": {},
   "source": [
    "### Section 3.4 Applying a Function to Cells or Rows\n",
    "Not all functions can be automatically vectorised. A more general approach is to use the `apply` function. It can be used to apply a function to each row.\n",
    "  *  To apply the function to each row use `axis=1`\n",
    "  *  Define the function; you can use the parameter name `row` to remind you how the function is applied\n",
    "  *  Applying the function gives a new series. We often use this to assign a new column (see next section)\n",
    "\n",
    "Uncomment and run the code to see the effect. If you are familiar with python `lambda`, you can often use it to define a function be applied (the function may only contain an expression). However, it is not necessary to use this and a separate function is easier to test."
   ]
  },
  {
   "cell_type": "code",
   "execution_count": 18,
   "metadata": {},
   "outputs": [],
   "source": [
    "#def schoolCategory(row):\n",
    "#    if (row.Age == 'Age 0 to 4') : return 'PreSchool'\n",
    "#    if (row.Age == 'Age 5 to 9') : return 'PrimarySchool'\n",
    "#    if (row.Age in ['Age 10 to 15', 'Age 16 to 19']) : return 'SecondarySchool'\n",
    "#    return 'No School'\n",
    "    \n",
    "#croydon.apply(schoolCategory, axis=1)"
   ]
  },
  {
   "cell_type": "markdown",
   "metadata": {},
   "source": [
    "### Section 3.5 Adding a New Column\n",
    "We have shown above how an existing column can be modified (using `.loc` on the left hand side of an assignment). It is often useful to add a new column: we do this using the `.assign` function. This returns a new dataframe (i.e. a copy). \n",
    "  * The argument to `apply` can be an assignments statement\n",
    "  * It is often used with `.apply`\n",
    "\n",
    "Uncomment and run the following examples. Note that a new dataframe is created: assign it to a variable if you want to use it further."
   ]
  },
  {
   "cell_type": "code",
   "execution_count": 19,
   "metadata": {},
   "outputs": [],
   "source": [
    "# Assign a column with a fixed value\n",
    "#croydon.assign(Constant = 42)\n",
    "\n",
    "# Assign a column applying the fuunction defined above\n",
    "#croydon.assign(School = croydon.apply(schoolCategory, axis=1))"
   ]
  },
  {
   "cell_type": "markdown",
   "metadata": {
    "colab_type": "text",
    "id": "P_Dg_sMF5dNT"
   },
   "source": [
    "## Section 4 Creating and Visualising a Pivot Table\n",
    "\n",
    "### Section 4.1 Creating a Pivot Table\n",
    "\n",
    "The Pivot table gives a summary of the data in a number of rows and columns. There are four arguments, each of which can be a variable name or a list of names:\n",
    "* **values** The values you want shown in the table\n",
    "* **index** The variables used to give the rows. \n",
    "* **columns** The variables whose values are used as columns for each value\n",
    "* **aggfunc** The function used to combine values in each entry, such as `sum`, `max`, `min`, `mean`, `var`\n",
    "\n",
    "Together, the index and column variables show how the values are analysed. Moving variables between index and columns lists changes the shape but not the contents of the table. The aggregation function (or functions, a list is possible) must apply to the type of the values variable(s). The aggregation combines values for the cases of the variables not in either the index or columns lists.\n",
    "\n",
    "#### Exercise 4.1 Pivot Tables\n",
    "The following examples show some different pivot tables:\n",
    "   * **p1** gives a breakdown number of people by sex (columns) and birth Country (rows). The ages are aggregated.\n",
    "   * **p2** has more columns, breaking down the residents by sex and age. Can you explain why no aggregation function is needed?\n",
    "   * **p3** has more rows, one for each combination of BirthRegion and Sex. The aggregation is over the countries within each region.\n",
    "\n",
    "Uncomment and try each example. "
   ]
  },
  {
   "cell_type": "code",
   "execution_count": 20,
   "metadata": {
    "colab": {},
    "colab_type": "code",
    "id": "oqvyX_K9ZkDT",
    "scrolled": false
   },
   "outputs": [],
   "source": [
    "p1 = th.pivot_table(values=['Usual Residents'], index=['BirthCountry'], columns=['Sex'], aggfunc='sum')\n",
    "p2 = th.pivot_table(values=['Usual Residents'], index=['BirthCountry'], columns=['Sex','Age'])\n",
    "p3 = th.pivot_table(values=['Usual Residents'], index=['BirthRegion', 'Sex'], columns=['Age'], aggfunc='sum')\n",
    "#p3"
   ]
  },
  {
   "cell_type": "markdown",
   "metadata": {
    "colab_type": "text",
    "id": "S8vvbykcMU6a"
   },
   "source": [
    "#### Exercise 4.2 Creating a New Pivot Table.\n",
    "\n",
    "Create a pivot table showing the breakdown of (the sum of) Usual Residents by Age and BirthRegion. \n",
    " * Which variables do choose for the index and columns?\n",
    " * Which variables are aggregated?"
   ]
  },
  {
   "cell_type": "markdown",
   "metadata": {
    "colab_type": "text",
    "id": "S8vvbykcMU6a"
   },
   "source": [
    "#### Exercise 4.3 Indexing Into a Pivot Table (*optional*)\n",
    "\n",
    "The following example show a method of indexing into a pivot table to look up a value. The principles are:\n",
    "  * The pivot table can be thought of a dataframe containing dataframes\n",
    "  * Use `.loc` to remove first the index variables, by giving the values you wish to select\n",
    "  * Look at the shape of the dataframe produced and use further calls to `.loc` to access it\n",
    "\n",
    "Uncomment and try the following examples."
   ]
  },
  {
   "cell_type": "code",
   "execution_count": 21,
   "metadata": {
    "scrolled": false
   },
   "outputs": [],
   "source": [
    "#p1.loc['Turkey','Usual Residents'].loc['Males']\n",
    "#p2.loc['Turkey','Usual Residents'].loc['Males','Age 0 to 4']\n",
    "#p3.loc['Africa','Males'].loc['Usual Residents','Age 80 or over']"
   ]
  },
  {
   "cell_type": "markdown",
   "metadata": {
    "colab_type": "text",
    "id": "c-H6P_t6Ceg_"
   },
   "source": [
    "### Section 4.2 Sorting the Pivot Table\n",
    "\n",
    "We can sort the pivot table using one of the columns. \n",
    "\n",
    "#### Exercise 4.4 Sorting Pivots\n",
    "Try the following example and then sort the other ones you have created."
   ]
  },
  {
   "cell_type": "code",
   "execution_count": 22,
   "metadata": {
    "colab": {},
    "colab_type": "code",
    "id": "jyQH9-_aYbPm",
    "scrolled": false
   },
   "outputs": [],
   "source": [
    "p1=p1.sort_values(by=('Usual Residents', 'Males'))\n",
    "#p1"
   ]
  },
  {
   "cell_type": "markdown",
   "metadata": {
    "colab_type": "text",
    "id": "HuoEHG9mCpSC"
   },
   "source": [
    "### Section 4.3 Plotting Data\n",
    "\n",
    "Data can be plotted (i.e. shown on a graph). This uses the matplotlib library, which is also very complex. However, Pandas provides a plot function so that we do not have to use matplotlib explicitly (*at least at first*).\n",
    "\n",
    "Plot function arguments include:\n",
    "* `kind`: different kinds of plot e.g. 'bar', 'barh' or 'pie'\n",
    "* `figsize`: written as (width, height)\n",
    "* `stacked`: true or false\n",
    "* `logy`: show log of the data\n",
    "* `subplots`: see example below\n",
    "* `title`: plot title\n",
    "\n",
    "[The Pandas guide on visualisation is useful](https://pandas.pydata.org/pandas-docs/stable/user_guide/visualization.html)\n"
   ]
  },
  {
   "cell_type": "code",
   "execution_count": 23,
   "metadata": {
    "colab": {},
    "colab_type": "code",
    "id": "eSOvK1SCboZu"
   },
   "outputs": [
    {
     "data": {
      "text/plain": [
       "<AxesSubplot:xlabel='BirthCountry'>"
      ]
     },
     "execution_count": 23,
     "metadata": {},
     "output_type": "execute_result"
    },
    {
     "data": {
      "image/png": "[encoded data removed]",
      "text/plain": [
       "<Figure size 1080x1440 with 1 Axes>"
      ]
     },
     "metadata": {
      "needs_background": "light"
     },
     "output_type": "display_data"
    }
   ],
   "source": [
    "import matplotlib.pyplot as plt\n",
    "%matplotlib inline   \n",
    "   # this directive ensure plots are displayed\n",
    "\n",
    "p1.plot(kind=\"bar\",figsize=(15,20), logy=True) # this creates a plot; look carefully at the vertical axis"
   ]
  },
  {
   "cell_type": "markdown",
   "metadata": {
    "colab_type": "text",
    "id": "8AZQX7fytcHj"
   },
   "source": [
    "#### Exercise 4.5 Plotting\n",
    "The following plots show more features. Try out these examples and also apply them to the other pivot tables you have created."
   ]
  },
  {
   "cell_type": "code",
   "execution_count": 24,
   "metadata": {
    "colab": {},
    "colab_type": "code",
    "id": "ebG5GOT6NYbn"
   },
   "outputs": [],
   "source": [
    "#p.plot(kind=\"pie\",figsize=(20,20), subplots=True) \n",
    "#p1.plot(kind='bar', stacked=True, figsize=(15,10))\n",
    "#p1.plot(kind='bar', subplots=True, figsize=(15,20))\n",
    "#plt.show()"
   ]
  },
  {
   "cell_type": "markdown",
   "metadata": {
    "colab_type": "text",
    "id": "5BA9_hZO1Us5"
   },
   "source": [
    "## Section 5: Analysis Example\n",
    "This section combines the techniques introduced above in an example analysis. We wish to compare the composition of the population by sex and region of birth in different boroughs in London. We do this in the following steps:\n",
    "  1. select the data for the London boroughs\n",
    "  1. caluate the total population in each borough using a pivot table\n",
    "  1. add a column showing the proportion of the population of the borough coming from each region\n",
    "  1. create a pivot table aggregating these proportions for all the values of each region, within each borough\n",
    "  1. sort this pivot table using values for one borough\n",
    "  1. plot the data \n",
    "\n",
    "Review and run the code. The statements that generate output have been commented out.\n",
    "\n",
    "### Section 5.1: Selecting Data for London Boroughs\n",
    "\n",
    "Not all the areas are London Boroughs. We want to discard the rows that are not for London Boroughs. However, this achieved by selecting the data we want rather than deleting the data we do not want. The following steps are needed:\n",
    "\n",
    "1. We define a function that returns true if an area is a London Borough.\n",
    "1. We `apply` this function to the `Area` column. "
   ]
  },
  {
   "cell_type": "code",
   "execution_count": 25,
   "metadata": {
    "colab": {},
    "colab_type": "code",
    "id": "gFC55S4_v0po"
   },
   "outputs": [],
   "source": [
    "def isLondon(area):\n",
    "  l = area in {'Barking and Dagenham', 'Barnet', 'Bexley', 'Brent', \n",
    "               'Bromley', 'Camden', 'City of London,Westminster', 'Croydon',\n",
    "               'Ealing', 'Enfield', 'Greenwich', 'Hackney', 'Hammersmith and Fulham',\n",
    "               'Haringey', 'Harrow', 'Havering', 'Hillingdon', 'Hounslow', 'Islington',\n",
    "               'Kensington and Chelsea', 'Kingston upon Thames', 'Lambeth', \n",
    "               'Lewisham', 'Merton', 'Newham', 'Redbridge', 'Richmond upon Thames', \n",
    "               'Southwark', 'Sutton', 'Tower Hamlets', 'Waltham Forest', 'Wandsworth' }\n",
    "  return l\n",
    "\n",
    "# test cases for isLondon\n",
    "#isLondon('Sutton')\n",
    "#isLondon('Wales')\n",
    "\n",
    "df_London = df.loc[df['Area'].apply(isLondon) == True].copy()\n",
    "#df_London"
   ]
  },
  {
   "cell_type": "markdown",
   "metadata": {
    "colab_type": "text",
    "id": "Ef22tBAZze3n"
   },
   "source": [
    "### Section 5.2: Calculating Total Population for Each Borough\n",
    "\n",
    "A problem with our approach so far is that we looked at absolute numbers of people. But this cannot be used to compare the populations structure in different boroughs as they vary in overall size.\n",
    "\n",
    "We can calculate the totals using a pivot table. "
   ]
  },
  {
   "cell_type": "code",
   "execution_count": 26,
   "metadata": {
    "colab": {},
    "colab_type": "code",
    "id": "ZqmosHg2t68J"
   },
   "outputs": [],
   "source": [
    "totals = df_London.pivot_table(values='Usual Residents', index=['Area'], aggfunc='sum')\n",
    "#totals"
   ]
  },
  {
   "cell_type": "markdown",
   "metadata": {
    "colab_type": "text",
    "id": "m8Hyp-El2KA8"
   },
   "source": [
    "**Challenge** Plot these populations in sorted order"
   ]
  },
  {
   "cell_type": "markdown",
   "metadata": {
    "colab_type": "text",
    "id": "46cR1PLA2qtd"
   },
   "source": [
    "We can use the totals dataframe to access the total for one Borough. The following code shows how:"
   ]
  },
  {
   "cell_type": "code",
   "execution_count": 27,
   "metadata": {
    "colab": {},
    "colab_type": "code",
    "id": "nUZrhlUpukeO"
   },
   "outputs": [],
   "source": [
    "#totals.loc['Redbridge', 'Usual Residents']"
   ]
  },
  {
   "cell_type": "markdown",
   "metadata": {
    "colab_type": "text",
    "id": "VqUg9k-Z3HJt"
   },
   "source": [
    "### Section 5.3: Adding a Population Proportion Column\n",
    "\n",
    "We will add a new column to the London dataframe with the population proportion. The steps are:\n",
    "\n",
    "1. Define a new function to do the calculation\n",
    "1. Apply it to every row\n"
   ]
  },
  {
   "cell_type": "code",
   "execution_count": 28,
   "metadata": {
    "colab": {},
    "colab_type": "code",
    "id": "2IClnuTi3Z_7"
   },
   "outputs": [],
   "source": [
    "def calcProportion(row):\n",
    "    #print(row)\n",
    "    total = totals.loc[row.Area, 'Usual Residents']\n",
    "    return row.loc['Usual Residents'] / total\n",
    "\n",
    "df_London2 = df_London.assign(Proportion = df_London.apply(calcProportion, axis=1)) \n",
    "#df_London2\n"
   ]
  },
  {
   "cell_type": "markdown",
   "metadata": {
    "colab": {},
    "colab_type": "code",
    "id": "2IClnuTi3Z_7"
   },
   "source": [
    "### Section 5.4 Pivot and Plot Population Proportions\n"
   ]
  },
  {
   "cell_type": "markdown",
   "metadata": {
    "colab_type": "text",
    "id": "9HcfmbbwBcqK"
   },
   "source": [
    "We can use the new column is a pivot table"
   ]
  },
  {
   "cell_type": "code",
   "execution_count": 29,
   "metadata": {
    "colab": {},
    "colab_type": "code",
    "id": "nSck1yXp9F2n"
   },
   "outputs": [],
   "source": [
    "analysis = df_London2.pivot_table(values='Proportion', index='Area', columns=['BirthRegion'], aggfunc='sum')\n",
    "#analysis"
   ]
  },
  {
   "cell_type": "markdown",
   "metadata": {
    "colab_type": "text",
    "id": "vLzp8rDWBmWs"
   },
   "source": [
    "Then we can plot a figure comparing the region of birth in different Boroughs. We use a stacked bar chart. "
   ]
  },
  {
   "cell_type": "code",
   "execution_count": 30,
   "metadata": {
    "colab": {},
    "colab_type": "code",
    "id": "iQkYrB_e9n1y"
   },
   "outputs": [],
   "source": [
    "#analysis.sort_values(by=['Europe']).sort_values(by=['Sutton'],axis=1, ascending=False).plot(\n",
    "#    kind='bar', stacked=True, figsize=(15,10))"
   ]
  },
  {
   "cell_type": "markdown",
   "metadata": {
    "colab_type": "text",
    "id": "_bfnFfTsB3Id"
   },
   "source": [
    "## Section 6: Analysis Challenge Exercises\n",
    "\n",
    "Try some further analyses. For example:\n",
    "\n",
    "1. Look at the age structure of different Boroughs. Use the Borough totals to normalise the counts in each Borough (this is done above). Then add up the values with the same age band, eliminating the other values: use a pivot. \n",
    "\n",
    "1. Change this around, to ask where do people of a certain age live? Now we want to normalise data (i.e. calculate proportions) using totals based on age group.\n",
    "\n",
    "1. Add a column distinguishing inner and outer London Boroughs. [They are listed here](https://www.londoncouncils.gov.uk/node/1938) but watch out for different spelling. Compare the age distribution in inner and outer London.\n",
    "\n",
    "To tackle any of these challenges you need to work in stages:\n",
    "   * Start by making a plan. The biggest problem is to get started, so the plan need not be complete at first. \n",
    "   * Test each step as you go along. If you get an error that you do not understand, try breaking the statement in to simpler parts.\n",
    "   * Write as you work, explaining what you are doing. Code that is explained is much more likely to work correctly! "
   ]
  },
  {
   "cell_type": "code",
   "execution_count": null,
   "metadata": {},
   "outputs": [],
   "source": []
  }
 ],
 "metadata": {
  "colab": {
   "collapsed_sections": [],
   "name": "CAS-london-data-analysis.ipynb",
   "provenance": [],
   "toc_visible": true
  },
  "kernelspec": {
   "display_name": "Python 3",
   "language": "python",
   "name": "python3"
  },
  "language_info": {
   "codemirror_mode": {
    "name": "ipython",
    "version": 3
   },
   "file_extension": ".py",
   "mimetype": "text/x-python",
   "name": "python",
   "nbconvert_exporter": "python",
   "pygments_lexer": "ipython3",
   "version": "3.7.7"
  }
 },
 "nbformat": 4,
 "nbformat_minor": 1
}
