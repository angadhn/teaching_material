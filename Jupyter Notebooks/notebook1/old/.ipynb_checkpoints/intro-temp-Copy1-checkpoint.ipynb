{
 "cells": [
  {
   "cell_type": "markdown",
   "metadata": {},
   "source": [
    "# Session 0 - Using Jupyter Notebooks\n",
    "\n",
    "## A brief introduction\n",
    "\n",
    "Jupyter notebooks are built on the `python` programming language, which itself was designed to offer a clear and simple coding experience. Python code can be run in many ways, meaning you don't necessarily need a Jupyter notebook to perform the tasks you will learn in these sessions. However, Jupyter allows for the easy communication, visualisation and sharing of python code and so we will take advantage of these benefits.\n",
    "\n",
    "## Resources\n",
    "\n",
    "The Jupyter website (https://jupyter.org/) contains many good interactive resources and online documentation for learning about Jupyter notebooks and experimenting with examples. In addition...\n",
    "\n",
    "#### Online tutorials\n",
    "\n",
    "A number of people have uploaded excellent blog posts that give good guides for getting started, and even more advanced functionality \n",
    "\n",
    "* https://www.dataquest.io/blog/jupyter-notebook-tutorial/\n",
    "* https://www.datacamp.com/community/tutorials/tutorial-jupyter-notebook\n",
    "\n",
    "#### YouTube videos\n",
    "\n",
    "There are also free youtube videos that provide nice introductions.\n",
    "\n",
    "* https://www.youtube.com/watch?v=HW29067qVWk\n",
    "* https://www.youtube.com/watch?v=jZ952vChhuI\n",
    "* https://www.youtube.com/watch?v=3C9E2yPBw7s\n",
    "\n",
    "\n",
    "## Getting started\n",
    "\n",
    "Firstly, click on the help menu and select `user interface tour`. A pop up menu will appear. Then use the keyboard arrow keys to see some of the functionality offered by Jupyter notebooks.\n",
    "\n",
    "#### Cells\n",
    "\n",
    "Jupyter is comprised of grey boxes called **cells**. These contain one of two things\n",
    "\n",
    "* Python code than can be run or executed\n",
    "* Text content to help with explanation\n",
    "\n",
    "We start with the former.\n",
    "\n",
    "Click on the cell below, change the text 'Hello World' to something else, e.g. 'Hello Jupyter'. This is the command that will be executed. To execute the command do one of the following\n",
    "* Select Cell/Run Cell from the dropdown menu\n",
    "* Hit ctrl+Enter on the keyboard\n",
    "\n",
    "You should see the output change to what you specified"
   ]
  },
  {
   "cell_type": "code",
   "execution_count": 1,
   "metadata": {},
   "outputs": [
    {
     "name": "stdout",
     "output_type": "stream",
     "text": [
      "Hello World\n"
     ]
    }
   ],
   "source": [
    "print('Hello World')"
   ]
  },
  {
   "cell_type": "markdown",
   "metadata": {},
   "source": [
    "## Programming Basics\n",
    "The notes below introduce soem programming ideas. It is not essential to cover all of these: go as far as you can depending on your previous experience. \n",
    "\n",
    "#### Performing calculations\n",
    "\n",
    "Add a new cell by clicking on this cell (the one with the text) and doing one of the following\n",
    "\n",
    "* Click the small '+' icon on the toolbar\n",
    "* Select Insert/Insert Cell Below from the menu\n",
    "* Hit shift+Enter on the keyboard\n",
    "\n",
    "Then type in an mathematical operation, e.g. 4 + 3, or 12/4 or 3*9 or 7-5, and run the cell (ctrl+Enter). Select the cell again and try something else."
   ]
  },
  {
   "cell_type": "code",
   "execution_count": 1,
   "metadata": {},
   "outputs": [
    {
     "data": {
      "text/plain": [
       "54"
      ]
     },
     "execution_count": 1,
     "metadata": {},
     "output_type": "execute_result"
    }
   ],
   "source": [
    "(1+3+5)*3*2"
   ]
  },
  {
   "cell_type": "markdown",
   "metadata": {},
   "source": [
    "#### Assigning variables\n",
    "\n",
    "To do more interesting things it usually becomes necessary to remember quantities for later. Try the following\n",
    "\n",
    "* Create a new cell below this one (see above)\n",
    "* Write `x = 3` in this cell and run the cell (see above)\n",
    "\n",
    "You will notice there is no output this time. This is because we have assigned the value 3 to x. Create another cell, type `x` and run the cell. You should see an output this time of 3."
   ]
  },
  {
   "cell_type": "code",
   "execution_count": 11,
   "metadata": {},
   "outputs": [],
   "source": [
    "x = 3"
   ]
  },
  {
   "cell_type": "code",
   "execution_count": 12,
   "metadata": {},
   "outputs": [
    {
     "data": {
      "text/plain": [
       "3"
      ]
     },
     "execution_count": 12,
     "metadata": {},
     "output_type": "execute_result"
    }
   ],
   "source": [
    "x"
   ]
  },
  {
   "cell_type": "markdown",
   "metadata": {},
   "source": [
    "#### Reassigning variables\n",
    "\n",
    "In Jupyter it is possible to reassign the values of variables. For example, we can reassign the value assigned to x that we set above. Do the following\n",
    "\n",
    "* Create a new cell below this one\n",
    "* Write `x = 11` in this cell and run the cell\n",
    "* Create a new cell below that one and type x\n",
    "\n",
    "You should see the output has changed to 11.\n",
    "\n",
    "**IMPORTANT** - This brings us to a key aspect of Jupyter: The outputs depend on the order on which you run the cells, not the way they are order in the notebook. For example, run the cell above for which you previously entered `x`. This should now output 11. Moreover, the number inside of the `Out[.]` should change, this indicates the order in which the cells have been run.\n"
   ]
  },
  {
   "cell_type": "code",
   "execution_count": 5,
   "metadata": {},
   "outputs": [],
   "source": [
    "x = 11"
   ]
  },
  {
   "cell_type": "code",
   "execution_count": 13,
   "metadata": {},
   "outputs": [
    {
     "data": {
      "text/plain": [
       "3"
      ]
     },
     "execution_count": 13,
     "metadata": {},
     "output_type": "execute_result"
    }
   ],
   "source": [
    "x"
   ]
  },
  {
   "cell_type": "markdown",
   "metadata": {},
   "source": [
    "#### Using multiple line programs\n",
    "\n",
    "Rather than using single lines Jupyter is designed to handle blocks of code that run together. This gives us more flexibility in writing longer commands and helps breakup the whole notebook into workable chunks. This is particularly necessary in writing things like for-loops.\n",
    "\n",
    "Below are some examples."
   ]
  },
  {
   "cell_type": "code",
   "execution_count": 7,
   "metadata": {},
   "outputs": [
    {
     "name": "stdout",
     "output_type": "stream",
     "text": [
      "My name is Alan Turing\n"
     ]
    }
   ],
   "source": [
    "my_name = 'Alan Turing'\n",
    "print('My name is', my_name)"
   ]
  },
  {
   "cell_type": "code",
   "execution_count": 8,
   "metadata": {},
   "outputs": [
    {
     "name": "stdout",
     "output_type": "stream",
     "text": [
      "0\n",
      "1\n",
      "2\n"
     ]
    }
   ],
   "source": [
    "for count in range(0,3):\n",
    "    print(count)"
   ]
  },
  {
   "cell_type": "markdown",
   "metadata": {},
   "source": [
    "#### Exercise\n",
    "\n",
    "Change the for loop in the code above so that the ouput is\n",
    "\n",
    "* 1, 2, 3\n",
    "* 0, 2, 4, 6"
   ]
  },
  {
   "cell_type": "code",
   "execution_count": 9,
   "metadata": {},
   "outputs": [
    {
     "name": "stdout",
     "output_type": "stream",
     "text": [
      "apple\n",
      "dog\n",
      "Yes\n",
      "45\n",
      "True\n"
     ]
    }
   ],
   "source": [
    "my_list = ['apple', 'dog', 45, True]\n",
    "for item in my_list:\n",
    "    \n",
    "    print(item)\n",
    "    \n",
    "    if item == 'dog':\n",
    "        \n",
    "        print('Yes')\n",
    "    "
   ]
  },
  {
   "cell_type": "markdown",
   "metadata": {},
   "source": [
    "#### Getting Errors\n",
    "\n",
    "If you have never run programs before then be aware that it is very common to get errors. Whenever Juptyer (or Python) encounters an error it displays an error message. This is nothing to worry about, it simply says there is something wrong with the command you have tried to run and tries to help you identify what is wrong.\n",
    "\n",
    "#### Exercise:\n",
    "\n",
    "Try running the following cells - they will give you error messages. From those messages attempt to figure out what is wrong, correct the command and run the cells again"
   ]
  },
  {
   "cell_type": "code",
   "execution_count": 10,
   "metadata": {},
   "outputs": [
    {
     "ename": "SyntaxError",
     "evalue": "unexpected EOF while parsing (<ipython-input-10-cc98faec0927>, line 1)",
     "output_type": "error",
     "traceback": [
      "\u001b[0;36m  File \u001b[0;32m\"<ipython-input-10-cc98faec0927>\"\u001b[0;36m, line \u001b[0;32m1\u001b[0m\n\u001b[0;31m    print('This is my message'\u001b[0m\n\u001b[0m                              ^\u001b[0m\n\u001b[0;31mSyntaxError\u001b[0m\u001b[0;31m:\u001b[0m unexpected EOF while parsing\n"
     ]
    }
   ],
   "source": [
    "print('This is my message'"
   ]
  },
  {
   "cell_type": "code",
   "execution_count": null,
   "metadata": {},
   "outputs": [],
   "source": [
    "z = 3*'7'\n",
    "z"
   ]
  },
  {
   "cell_type": "markdown",
   "metadata": {},
   "source": [
    "#### Writing text comments\n",
    "\n",
    "As you will have noticed, there are many comments in this text. You can do the same should you wish. To do so create a new cell, select that cell and then from the dropdown menu in the toolbar change 'code' to 'markdown. You can then start writing in the cell. Run the cell as normal to see the text changed from edit mode to display mode.\n",
    "\n",
    "You can also double-click on any of the other text, or markdown, cells above to see how to write headings, bullet points, or bold type-face.\n",
    "\n",
    "A nice cheatsheet for markdown syntax is given here\n",
    "* https://medium.com/ibm-data-science-experience/markdown-for-jupyter-notebooks-cheatsheet-386c05aeebed"
   ]
  },
  {
   "cell_type": "markdown",
   "metadata": {},
   "source": [
    "# Introduction to DataFrames\n",
    "\n",
    "Dataframes are essentially tables of information, like those traditionally seen in Excel. They are one of the most common forms of storing data, particularly for data-visulatisation, statistical analysisand machine-learning.\n",
    "\n",
    "Pandas (Python Data Analysis Library) is an open-source package for python that allows the user to easily create and manipulate DataFrames. Many other packages now use pandas DataFrames as a means for inputting information.\n",
    "\n",
    "## Resources\n",
    "\n",
    "#### Pandas website\n",
    "\n",
    "The website for pandas is https://pandas.pydata.org/. It contains extensive documentation about all the commands you can use as well as tutorials for getting started. In fact we will be loosely following their '10 minutes to Pandas' guide, which you can find here\n",
    "\n",
    "* https://pandas.pydata.org/pandas-docs/stable/getting_started/10min.html\n",
    "\n",
    "#### Other resources\n",
    "\n",
    "Again, you will be able to find many blogposts and youtube videos giving both introductory and advanced tutorials on Pandas, here are two for example\n",
    "\n",
    "* https://www.youtube.com/watch?v=e60ItwlZTKM\n",
    "* https://www.youtube.com/watch?v=vmEHCJofslg\n",
    "\n",
    "## Outline\n",
    "\n",
    "In the current session we will learn about\n",
    "\n",
    "1. Creating Dataframes\n",
    "2. Viewing the data\n",
    "3. Selecting/filtering data\n",
    "4. Reassigning data"
   ]
  },
  {
   "cell_type": "markdown",
   "metadata": {},
   "source": [
    "## Creating DataFrames\n",
    "\n",
    "#### Importing pandas\n",
    "In order to use pandas we must use the `import` statement, as below. We only need to do this once in a notebook, however you must run that cell before any of the others, otherwise you will get an error. In fact, try running another cell beforehand to see what happens, then do it again after running the one with the import command.\n",
    "\n",
    "#### Series\n",
    "The first thing we are going to create is a series, this is essentially an ordered list of data. For example, a list of names"
   ]
  },
  {
   "cell_type": "code",
   "execution_count": 1,
   "metadata": {},
   "outputs": [
    {
     "data": {
      "text/plain": [
       "0         Ada\n",
       "1        Alan\n",
       "2       Isaac\n",
       "3    Rosalind\n",
       "dtype: object"
      ]
     },
     "execution_count": 1,
     "metadata": {},
     "output_type": "execute_result"
    }
   ],
   "source": [
    "import pandas as pd\n",
    "\n",
    "names = pd.Series(['Ada', 'Alan', 'Isaac', 'Rosalind'])\n",
    "\n",
    "names"
   ]
  },
  {
   "cell_type": "markdown",
   "metadata": {},
   "source": [
    "#### Dataframes\n",
    "\n",
    "As aluded to in the beginning, dataframes are tables of information. In the pandas world they are collections of series, where each column of the table is a series (i.e. an ordered list of data).\n",
    "\n",
    "There are numerous ways of creating dataframes in pandas, all of them require using the `DataFrame` object. Below are two examples."
   ]
  },
  {
   "cell_type": "code",
   "execution_count": 2,
   "metadata": {},
   "outputs": [
    {
     "data": {
      "text/html": [
       "<div>\n",
       "<style scoped>\n",
       "    .dataframe tbody tr th:only-of-type {\n",
       "        vertical-align: middle;\n",
       "    }\n",
       "\n",
       "    .dataframe tbody tr th {\n",
       "        vertical-align: top;\n",
       "    }\n",
       "\n",
       "    .dataframe thead th {\n",
       "        text-align: right;\n",
       "    }\n",
       "</style>\n",
       "<table border=\"1\" class=\"dataframe\">\n",
       "  <thead>\n",
       "    <tr style=\"text-align: right;\">\n",
       "      <th></th>\n",
       "      <th>Surname</th>\n",
       "      <th>Hours</th>\n",
       "    </tr>\n",
       "  </thead>\n",
       "  <tbody>\n",
       "    <tr>\n",
       "      <td>0</td>\n",
       "      <td>Lovelace</td>\n",
       "      <td>35</td>\n",
       "    </tr>\n",
       "    <tr>\n",
       "      <td>1</td>\n",
       "      <td>Turing</td>\n",
       "      <td>15</td>\n",
       "    </tr>\n",
       "    <tr>\n",
       "      <td>2</td>\n",
       "      <td>Newton</td>\n",
       "      <td>35</td>\n",
       "    </tr>\n",
       "    <tr>\n",
       "      <td>3</td>\n",
       "      <td>Franklin</td>\n",
       "      <td>15</td>\n",
       "    </tr>\n",
       "  </tbody>\n",
       "</table>\n",
       "</div>"
      ],
      "text/plain": [
       "    Surname  Hours\n",
       "0  Lovelace     35\n",
       "1    Turing     15\n",
       "2    Newton     35\n",
       "3  Franklin     15"
      ]
     },
     "execution_count": 2,
     "metadata": {},
     "output_type": "execute_result"
    }
   ],
   "source": [
    "df1 = pd.DataFrame([['Lovelace', 35], ['Turing', 15], \n",
    "                          ['Newton', 35], ['Franklin', 15]], columns=['Surname', 'Hours'])\n",
    "\n",
    "df1"
   ]
  },
  {
   "cell_type": "code",
   "execution_count": 3,
   "metadata": {},
   "outputs": [
    {
     "data": {
      "text/html": [
       "<div>\n",
       "<style scoped>\n",
       "    .dataframe tbody tr th:only-of-type {\n",
       "        vertical-align: middle;\n",
       "    }\n",
       "\n",
       "    .dataframe tbody tr th {\n",
       "        vertical-align: top;\n",
       "    }\n",
       "\n",
       "    .dataframe thead th {\n",
       "        text-align: right;\n",
       "    }\n",
       "</style>\n",
       "<table border=\"1\" class=\"dataframe\">\n",
       "  <thead>\n",
       "    <tr style=\"text-align: right;\">\n",
       "      <th></th>\n",
       "      <th>Department</th>\n",
       "      <th>Years Service</th>\n",
       "      <th>EmployeeID</th>\n",
       "    </tr>\n",
       "  </thead>\n",
       "  <tbody>\n",
       "    <tr>\n",
       "      <td>0</td>\n",
       "      <td>Computer Science</td>\n",
       "      <td>5</td>\n",
       "      <td>1</td>\n",
       "    </tr>\n",
       "    <tr>\n",
       "      <td>1</td>\n",
       "      <td>Mathematics</td>\n",
       "      <td>7</td>\n",
       "      <td>2</td>\n",
       "    </tr>\n",
       "    <tr>\n",
       "      <td>2</td>\n",
       "      <td>Physics</td>\n",
       "      <td>3</td>\n",
       "      <td>3</td>\n",
       "    </tr>\n",
       "    <tr>\n",
       "      <td>3</td>\n",
       "      <td>Chemistry</td>\n",
       "      <td>9</td>\n",
       "      <td>4</td>\n",
       "    </tr>\n",
       "  </tbody>\n",
       "</table>\n",
       "</div>"
      ],
      "text/plain": [
       "         Department  Years Service  EmployeeID\n",
       "0  Computer Science              5           1\n",
       "1       Mathematics              7           2\n",
       "2           Physics              3           3\n",
       "3         Chemistry              9           4"
      ]
     },
     "execution_count": 3,
     "metadata": {},
     "output_type": "execute_result"
    }
   ],
   "source": [
    "df2 = pd.DataFrame({'Department': ['Computer Science', 'Mathematics', 'Physics', 'Chemistry'],\n",
    "                   'Years Service': [5, 7, 3, 9],\n",
    "                   'EmployeeID': [1, 2, 3, 4]})\n",
    "\n",
    "df2"
   ]
  },
  {
   "cell_type": "markdown",
   "metadata": {},
   "source": [
    "## Indexing, viewing and filtering\n",
    "\n",
    "Before proceeding, let us join our two dataframes together"
   ]
  },
  {
   "cell_type": "code",
   "execution_count": 4,
   "metadata": {},
   "outputs": [
    {
     "data": {
      "text/html": [
       "<div>\n",
       "<style scoped>\n",
       "    .dataframe tbody tr th:only-of-type {\n",
       "        vertical-align: middle;\n",
       "    }\n",
       "\n",
       "    .dataframe tbody tr th {\n",
       "        vertical-align: top;\n",
       "    }\n",
       "\n",
       "    .dataframe thead th {\n",
       "        text-align: right;\n",
       "    }\n",
       "</style>\n",
       "<table border=\"1\" class=\"dataframe\">\n",
       "  <thead>\n",
       "    <tr style=\"text-align: right;\">\n",
       "      <th></th>\n",
       "      <th>Surname</th>\n",
       "      <th>Hours</th>\n",
       "      <th>Department</th>\n",
       "      <th>Years Service</th>\n",
       "      <th>EmployeeID</th>\n",
       "    </tr>\n",
       "  </thead>\n",
       "  <tbody>\n",
       "    <tr>\n",
       "      <td>0</td>\n",
       "      <td>Lovelace</td>\n",
       "      <td>35</td>\n",
       "      <td>Computer Science</td>\n",
       "      <td>5</td>\n",
       "      <td>1</td>\n",
       "    </tr>\n",
       "    <tr>\n",
       "      <td>1</td>\n",
       "      <td>Turing</td>\n",
       "      <td>15</td>\n",
       "      <td>Mathematics</td>\n",
       "      <td>7</td>\n",
       "      <td>2</td>\n",
       "    </tr>\n",
       "    <tr>\n",
       "      <td>2</td>\n",
       "      <td>Newton</td>\n",
       "      <td>35</td>\n",
       "      <td>Physics</td>\n",
       "      <td>3</td>\n",
       "      <td>3</td>\n",
       "    </tr>\n",
       "    <tr>\n",
       "      <td>3</td>\n",
       "      <td>Franklin</td>\n",
       "      <td>15</td>\n",
       "      <td>Chemistry</td>\n",
       "      <td>9</td>\n",
       "      <td>4</td>\n",
       "    </tr>\n",
       "  </tbody>\n",
       "</table>\n",
       "</div>"
      ],
      "text/plain": [
       "    Surname  Hours        Department  Years Service  EmployeeID\n",
       "0  Lovelace     35  Computer Science              5           1\n",
       "1    Turing     15       Mathematics              7           2\n",
       "2    Newton     35           Physics              3           3\n",
       "3  Franklin     15         Chemistry              9           4"
      ]
     },
     "execution_count": 4,
     "metadata": {},
     "output_type": "execute_result"
    }
   ],
   "source": [
    "df = df1.join(df2)\n",
    "df"
   ]
  },
  {
   "cell_type": "code",
   "execution_count": 5,
   "metadata": {},
   "outputs": [
    {
     "data": {
      "text/plain": [
       "0    Lovelace\n",
       "1      Turing\n",
       "2      Newton\n",
       "3    Franklin\n",
       "Name: Surname, dtype: object"
      ]
     },
     "execution_count": 5,
     "metadata": {},
     "output_type": "execute_result"
    }
   ],
   "source": [
    "df['Surname']"
   ]
  },
  {
   "cell_type": "code",
   "execution_count": null,
   "metadata": {},
   "outputs": [],
   "source": []
  }
 ],
 "metadata": {
  "kernelspec": {
   "display_name": "Python 3",
   "language": "python",
   "name": "python3"
  },
  "language_info": {
   "codemirror_mode": {
    "name": "ipython",
    "version": 3
   },
   "file_extension": ".py",
   "mimetype": "text/x-python",
   "name": "python",
   "nbconvert_exporter": "python",
   "pygments_lexer": "ipython3",
   "version": "3.7.4"
  }
 },
 "nbformat": 4,
 "nbformat_minor": 2
}
