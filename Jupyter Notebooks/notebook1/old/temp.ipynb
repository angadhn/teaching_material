{
 "cells": [
  {
   "cell_type": "markdown",
   "metadata": {},
   "source": [
    "# Introduction to DataFrames\n",
    "\n",
    "Dataframes are essentially tables of information, like those traditionally seen in Excel. They are one of the most common forms of storing data, particularly for data-visulatisation, statistical analysisand machine-learning.\n",
    "\n",
    "Pandas (Python Data Analysis Library) is an open-source package for python that allows the user to easily create and manipulate DataFrames. Many other packages now use pandas DataFrames as a means for inputting information.\n",
    "\n",
    "## 1. Resources\n",
    "\n",
    "#### Pandas website\n",
    "\n",
    "The website for pandas is https://pandas.pydata.org/. It contains extensive documentation about all the commands you can use as well as tutorials for getting started. In fact we will be loosely following their '10 minutes to Pandas' guide, which you can find here\n",
    "\n",
    "* https://pandas.pydata.org/pandas-docs/stable/getting_started/10min.html\n",
    "\n",
    "#### Other resources\n",
    "\n",
    "Again, you will be able to find many blogposts and youtube videos giving both introductory and advanced tutorials on Pandas, here are two for example\n",
    "\n",
    "* https://www.youtube.com/watch?v=e60ItwlZTKM\n",
    "* https://www.youtube.com/watch?v=vmEHCJofslg\n",
    "\n",
    "#### General advice\n",
    "\n",
    "Once you become accustomed to the sytax and methodology that pandas uses, the workflow of dataframes becomes very quick and natural. However this can take some practice and many people (including programming experts) can struggle at the beggining. They may have an idea of the objective they wish to achieve, but don't know how to do it, or use a method that is very cumbersome compared to inbuilt pandas method that accomplish the same feat in a quicker and more elegant manner.\n",
    "\n",
    "Fortunately pandas has a very active community online and it is a very strong possibility that the problem you will inevitably encounter has also been encountered by numerous other people and remedied on various internet forums. Do not be afraid to Google your problem - often the first two or three hits will bring back explanations of ways how to solve it. Be aware that there are often many ways to get to the same solution.\n",
    "\n",
    "## 2. Outline\n",
    "\n",
    "In the current session we will learn about\n",
    "\n",
    "1. Creating Dataframes\n",
    "2. Viewing the data\n",
    "3. Selecting/filtering data\n",
    "4. Reassigning data"
   ]
  },
  {
   "cell_type": "markdown",
   "metadata": {},
   "source": [
    "## 3. Creating DataFrames\n",
    "\n",
    "#### Importing pandas\n",
    "In order to use pandas we must use the `import` statement, as below. We only need to do this once in a notebook, however you must run that cell before any of the others, otherwise you will get an error. In fact, try running another cell beforehand to see what happens, then do it again after running the one with the import command.\n",
    "\n",
    "#### Series\n",
    "The first thing we are going to create is a series, this is essentially an ordered list of data. For example, a list of names"
   ]
  },
  {
   "cell_type": "code",
   "execution_count": 193,
   "metadata": {},
   "outputs": [
    {
     "data": {
      "text/plain": [
       "0         Ada\n",
       "1        Alan\n",
       "2       Isaac\n",
       "3    Rosalind\n",
       "dtype: object"
      ]
     },
     "execution_count": 193,
     "metadata": {},
     "output_type": "execute_result"
    }
   ],
   "source": [
    "import pandas as pd\n",
    "\n",
    "names = pd.Series(['Ada', 'Alan', 'Isaac', 'Rosalind'])\n",
    "\n",
    "names"
   ]
  },
  {
   "cell_type": "markdown",
   "metadata": {},
   "source": [
    "#### Dataframes\n",
    "\n",
    "As aluded to in the beginning, dataframes are tables of information. In the pandas world they are collections of series, where each column of the table is a series (i.e. an ordered list of data).\n",
    "\n",
    "There are numerous ways of creating dataframes in pandas, all of them require using the `DataFrame` object. Below are two examples."
   ]
  },
  {
   "cell_type": "code",
   "execution_count": 194,
   "metadata": {},
   "outputs": [
    {
     "data": {
      "text/html": [
       "<div>\n",
       "<style scoped>\n",
       "    .dataframe tbody tr th:only-of-type {\n",
       "        vertical-align: middle;\n",
       "    }\n",
       "\n",
       "    .dataframe tbody tr th {\n",
       "        vertical-align: top;\n",
       "    }\n",
       "\n",
       "    .dataframe thead th {\n",
       "        text-align: right;\n",
       "    }\n",
       "</style>\n",
       "<table border=\"1\" class=\"dataframe\">\n",
       "  <thead>\n",
       "    <tr style=\"text-align: right;\">\n",
       "      <th></th>\n",
       "      <th>Surname</th>\n",
       "      <th>Hours</th>\n",
       "    </tr>\n",
       "  </thead>\n",
       "  <tbody>\n",
       "    <tr>\n",
       "      <td>0</td>\n",
       "      <td>Lovelace</td>\n",
       "      <td>35</td>\n",
       "    </tr>\n",
       "    <tr>\n",
       "      <td>1</td>\n",
       "      <td>Turing</td>\n",
       "      <td>15</td>\n",
       "    </tr>\n",
       "    <tr>\n",
       "      <td>2</td>\n",
       "      <td>Newton</td>\n",
       "      <td>35</td>\n",
       "    </tr>\n",
       "    <tr>\n",
       "      <td>3</td>\n",
       "      <td>Franklin</td>\n",
       "      <td>15</td>\n",
       "    </tr>\n",
       "  </tbody>\n",
       "</table>\n",
       "</div>"
      ],
      "text/plain": [
       "    Surname  Hours\n",
       "0  Lovelace     35\n",
       "1    Turing     15\n",
       "2    Newton     35\n",
       "3  Franklin     15"
      ]
     },
     "execution_count": 194,
     "metadata": {},
     "output_type": "execute_result"
    }
   ],
   "source": [
    "df1 = pd.DataFrame([['Lovelace', 35], ['Turing', 15], \n",
    "                          ['Newton', 35], ['Franklin', 15]], columns=['Surname', 'Hours'])\n",
    "\n",
    "df1"
   ]
  },
  {
   "cell_type": "code",
   "execution_count": 195,
   "metadata": {},
   "outputs": [
    {
     "data": {
      "text/html": [
       "<div>\n",
       "<style scoped>\n",
       "    .dataframe tbody tr th:only-of-type {\n",
       "        vertical-align: middle;\n",
       "    }\n",
       "\n",
       "    .dataframe tbody tr th {\n",
       "        vertical-align: top;\n",
       "    }\n",
       "\n",
       "    .dataframe thead th {\n",
       "        text-align: right;\n",
       "    }\n",
       "</style>\n",
       "<table border=\"1\" class=\"dataframe\">\n",
       "  <thead>\n",
       "    <tr style=\"text-align: right;\">\n",
       "      <th></th>\n",
       "      <th>Department</th>\n",
       "      <th>Years Service</th>\n",
       "      <th>EmployeeID</th>\n",
       "    </tr>\n",
       "  </thead>\n",
       "  <tbody>\n",
       "    <tr>\n",
       "      <td>0</td>\n",
       "      <td>Computer Science</td>\n",
       "      <td>5.1</td>\n",
       "      <td>1</td>\n",
       "    </tr>\n",
       "    <tr>\n",
       "      <td>1</td>\n",
       "      <td>Mathematics</td>\n",
       "      <td>7.3</td>\n",
       "      <td>2</td>\n",
       "    </tr>\n",
       "    <tr>\n",
       "      <td>2</td>\n",
       "      <td>Physics</td>\n",
       "      <td>3.9</td>\n",
       "      <td>3</td>\n",
       "    </tr>\n",
       "    <tr>\n",
       "      <td>3</td>\n",
       "      <td>Chemistry</td>\n",
       "      <td>9.2</td>\n",
       "      <td>4</td>\n",
       "    </tr>\n",
       "  </tbody>\n",
       "</table>\n",
       "</div>"
      ],
      "text/plain": [
       "         Department  Years Service  EmployeeID\n",
       "0  Computer Science            5.1           1\n",
       "1       Mathematics            7.3           2\n",
       "2           Physics            3.9           3\n",
       "3         Chemistry            9.2           4"
      ]
     },
     "execution_count": 195,
     "metadata": {},
     "output_type": "execute_result"
    }
   ],
   "source": [
    "df2 = pd.DataFrame({'Department': ['Computer Science', 'Mathematics', 'Physics', 'Chemistry'],\n",
    "                   'Years Service': [5.1, 7.3, 3.9, 9.2],\n",
    "                   'EmployeeID': [1, 2, 3, 4]})\n",
    "\n",
    "df2"
   ]
  },
  {
   "cell_type": "markdown",
   "metadata": {},
   "source": [
    "We can select an individual column (e.g. 'Years service') of the above dataframe by issuing the command `df2['Years Service']`. When doing so we see that we get a pandas Series back (compare to the names series that we have above)"
   ]
  },
  {
   "cell_type": "code",
   "execution_count": 196,
   "metadata": {},
   "outputs": [
    {
     "data": {
      "text/plain": [
       "0    5.1\n",
       "1    7.3\n",
       "2    3.9\n",
       "3    9.2\n",
       "Name: Years Service, dtype: float64"
      ]
     },
     "execution_count": 196,
     "metadata": {},
     "output_type": "execute_result"
    }
   ],
   "source": [
    "df2['Years Service']"
   ]
  },
  {
   "cell_type": "markdown",
   "metadata": {},
   "source": [
    "## 4. Viewing dataframes\n",
    "\n",
    "Pandas has a number of commands that allow us to quickly view our data and characteristics of our data in meaningful ways. However before proceeding, let us first join our two dataframes together, we come back to more avdance operations for combining dataframes later."
   ]
  },
  {
   "cell_type": "code",
   "execution_count": 197,
   "metadata": {},
   "outputs": [
    {
     "data": {
      "text/html": [
       "<div>\n",
       "<style scoped>\n",
       "    .dataframe tbody tr th:only-of-type {\n",
       "        vertical-align: middle;\n",
       "    }\n",
       "\n",
       "    .dataframe tbody tr th {\n",
       "        vertical-align: top;\n",
       "    }\n",
       "\n",
       "    .dataframe thead th {\n",
       "        text-align: right;\n",
       "    }\n",
       "</style>\n",
       "<table border=\"1\" class=\"dataframe\">\n",
       "  <thead>\n",
       "    <tr style=\"text-align: right;\">\n",
       "      <th></th>\n",
       "      <th>Surname</th>\n",
       "      <th>Hours</th>\n",
       "      <th>Department</th>\n",
       "      <th>Years Service</th>\n",
       "      <th>EmployeeID</th>\n",
       "    </tr>\n",
       "  </thead>\n",
       "  <tbody>\n",
       "    <tr>\n",
       "      <td>0</td>\n",
       "      <td>Lovelace</td>\n",
       "      <td>35</td>\n",
       "      <td>Computer Science</td>\n",
       "      <td>5.1</td>\n",
       "      <td>1</td>\n",
       "    </tr>\n",
       "    <tr>\n",
       "      <td>1</td>\n",
       "      <td>Turing</td>\n",
       "      <td>15</td>\n",
       "      <td>Mathematics</td>\n",
       "      <td>7.3</td>\n",
       "      <td>2</td>\n",
       "    </tr>\n",
       "    <tr>\n",
       "      <td>2</td>\n",
       "      <td>Newton</td>\n",
       "      <td>35</td>\n",
       "      <td>Physics</td>\n",
       "      <td>3.9</td>\n",
       "      <td>3</td>\n",
       "    </tr>\n",
       "    <tr>\n",
       "      <td>3</td>\n",
       "      <td>Franklin</td>\n",
       "      <td>15</td>\n",
       "      <td>Chemistry</td>\n",
       "      <td>9.2</td>\n",
       "      <td>4</td>\n",
       "    </tr>\n",
       "  </tbody>\n",
       "</table>\n",
       "</div>"
      ],
      "text/plain": [
       "    Surname  Hours        Department  Years Service  EmployeeID\n",
       "0  Lovelace     35  Computer Science            5.1           1\n",
       "1    Turing     15       Mathematics            7.3           2\n",
       "2    Newton     35           Physics            3.9           3\n",
       "3  Franklin     15         Chemistry            9.2           4"
      ]
     },
     "execution_count": 197,
     "metadata": {},
     "output_type": "execute_result"
    }
   ],
   "source": [
    "df = df1.join(df2)\n",
    "df"
   ]
  },
  {
   "cell_type": "markdown",
   "metadata": {},
   "source": [
    "#### Selecting a few rows\n",
    "\n",
    "Often we only want to view a few rows of our dataframe in order to get a sense of what it contains. Pandas contain the following commands to help with this\n",
    "\n",
    "* `dataframe.head(n)` - returns the first n rows\n",
    "* `dataframe.tail(n)` - returns the last n rows\n",
    "* `dataframe.sample(n)`- returns n randomly sampled rows"
   ]
  },
  {
   "cell_type": "code",
   "execution_count": 198,
   "metadata": {},
   "outputs": [
    {
     "data": {
      "text/html": [
       "<div>\n",
       "<style scoped>\n",
       "    .dataframe tbody tr th:only-of-type {\n",
       "        vertical-align: middle;\n",
       "    }\n",
       "\n",
       "    .dataframe tbody tr th {\n",
       "        vertical-align: top;\n",
       "    }\n",
       "\n",
       "    .dataframe thead th {\n",
       "        text-align: right;\n",
       "    }\n",
       "</style>\n",
       "<table border=\"1\" class=\"dataframe\">\n",
       "  <thead>\n",
       "    <tr style=\"text-align: right;\">\n",
       "      <th></th>\n",
       "      <th>Surname</th>\n",
       "      <th>Hours</th>\n",
       "      <th>Department</th>\n",
       "      <th>Years Service</th>\n",
       "      <th>EmployeeID</th>\n",
       "    </tr>\n",
       "  </thead>\n",
       "  <tbody>\n",
       "    <tr>\n",
       "      <td>0</td>\n",
       "      <td>Lovelace</td>\n",
       "      <td>35</td>\n",
       "      <td>Computer Science</td>\n",
       "      <td>5.1</td>\n",
       "      <td>1</td>\n",
       "    </tr>\n",
       "    <tr>\n",
       "      <td>1</td>\n",
       "      <td>Turing</td>\n",
       "      <td>15</td>\n",
       "      <td>Mathematics</td>\n",
       "      <td>7.3</td>\n",
       "      <td>2</td>\n",
       "    </tr>\n",
       "  </tbody>\n",
       "</table>\n",
       "</div>"
      ],
      "text/plain": [
       "    Surname  Hours        Department  Years Service  EmployeeID\n",
       "0  Lovelace     35  Computer Science            5.1           1\n",
       "1    Turing     15       Mathematics            7.3           2"
      ]
     },
     "execution_count": 198,
     "metadata": {},
     "output_type": "execute_result"
    }
   ],
   "source": [
    "df.head(2)"
   ]
  },
  {
   "cell_type": "code",
   "execution_count": 199,
   "metadata": {},
   "outputs": [
    {
     "data": {
      "text/html": [
       "<div>\n",
       "<style scoped>\n",
       "    .dataframe tbody tr th:only-of-type {\n",
       "        vertical-align: middle;\n",
       "    }\n",
       "\n",
       "    .dataframe tbody tr th {\n",
       "        vertical-align: top;\n",
       "    }\n",
       "\n",
       "    .dataframe thead th {\n",
       "        text-align: right;\n",
       "    }\n",
       "</style>\n",
       "<table border=\"1\" class=\"dataframe\">\n",
       "  <thead>\n",
       "    <tr style=\"text-align: right;\">\n",
       "      <th></th>\n",
       "      <th>Surname</th>\n",
       "      <th>Hours</th>\n",
       "      <th>Department</th>\n",
       "      <th>Years Service</th>\n",
       "      <th>EmployeeID</th>\n",
       "    </tr>\n",
       "  </thead>\n",
       "  <tbody>\n",
       "    <tr>\n",
       "      <td>1</td>\n",
       "      <td>Turing</td>\n",
       "      <td>15</td>\n",
       "      <td>Mathematics</td>\n",
       "      <td>7.3</td>\n",
       "      <td>2</td>\n",
       "    </tr>\n",
       "    <tr>\n",
       "      <td>2</td>\n",
       "      <td>Newton</td>\n",
       "      <td>35</td>\n",
       "      <td>Physics</td>\n",
       "      <td>3.9</td>\n",
       "      <td>3</td>\n",
       "    </tr>\n",
       "    <tr>\n",
       "      <td>3</td>\n",
       "      <td>Franklin</td>\n",
       "      <td>15</td>\n",
       "      <td>Chemistry</td>\n",
       "      <td>9.2</td>\n",
       "      <td>4</td>\n",
       "    </tr>\n",
       "  </tbody>\n",
       "</table>\n",
       "</div>"
      ],
      "text/plain": [
       "    Surname  Hours   Department  Years Service  EmployeeID\n",
       "1    Turing     15  Mathematics            7.3           2\n",
       "2    Newton     35      Physics            3.9           3\n",
       "3  Franklin     15    Chemistry            9.2           4"
      ]
     },
     "execution_count": 199,
     "metadata": {},
     "output_type": "execute_result"
    }
   ],
   "source": [
    "df.tail(3)"
   ]
  },
  {
   "cell_type": "code",
   "execution_count": 200,
   "metadata": {},
   "outputs": [
    {
     "data": {
      "text/html": [
       "<div>\n",
       "<style scoped>\n",
       "    .dataframe tbody tr th:only-of-type {\n",
       "        vertical-align: middle;\n",
       "    }\n",
       "\n",
       "    .dataframe tbody tr th {\n",
       "        vertical-align: top;\n",
       "    }\n",
       "\n",
       "    .dataframe thead th {\n",
       "        text-align: right;\n",
       "    }\n",
       "</style>\n",
       "<table border=\"1\" class=\"dataframe\">\n",
       "  <thead>\n",
       "    <tr style=\"text-align: right;\">\n",
       "      <th></th>\n",
       "      <th>Surname</th>\n",
       "      <th>Hours</th>\n",
       "      <th>Department</th>\n",
       "      <th>Years Service</th>\n",
       "      <th>EmployeeID</th>\n",
       "    </tr>\n",
       "  </thead>\n",
       "  <tbody>\n",
       "    <tr>\n",
       "      <td>1</td>\n",
       "      <td>Turing</td>\n",
       "      <td>15</td>\n",
       "      <td>Mathematics</td>\n",
       "      <td>7.3</td>\n",
       "      <td>2</td>\n",
       "    </tr>\n",
       "    <tr>\n",
       "      <td>2</td>\n",
       "      <td>Newton</td>\n",
       "      <td>35</td>\n",
       "      <td>Physics</td>\n",
       "      <td>3.9</td>\n",
       "      <td>3</td>\n",
       "    </tr>\n",
       "  </tbody>\n",
       "</table>\n",
       "</div>"
      ],
      "text/plain": [
       "  Surname  Hours   Department  Years Service  EmployeeID\n",
       "1  Turing     15  Mathematics            7.3           2\n",
       "2  Newton     35      Physics            3.9           3"
      ]
     },
     "execution_count": 200,
     "metadata": {},
     "output_type": "execute_result"
    }
   ],
   "source": [
    "df.sample(2)"
   ]
  },
  {
   "cell_type": "markdown",
   "metadata": {},
   "source": [
    "#### Getting help\n",
    "\n",
    "Try putting a number of more than 4 in the above command. You will receive an error because we only have 4 entries and so we can't get more samples than that.\n",
    "\n",
    "Sppose that we didn't care about getting duplicate records in our sample, one way to see if we can accomplish that is asking python for help. If you want to find out more about a certain command, you can write help(command). Run the cell below to see what python gives back for the sample method mentioned above."
   ]
  },
  {
   "cell_type": "code",
   "execution_count": 201,
   "metadata": {},
   "outputs": [
    {
     "name": "stdout",
     "output_type": "stream",
     "text": [
      "Help on method sample in module pandas.core.generic:\n",
      "\n",
      "sample(n=None, frac=None, replace=False, weights=None, random_state=None, axis=None) method of pandas.core.frame.DataFrame instance\n",
      "    Return a random sample of items from an axis of object.\n",
      "    \n",
      "    You can use `random_state` for reproducibility.\n",
      "    \n",
      "    Parameters\n",
      "    ----------\n",
      "    n : int, optional\n",
      "        Number of items from axis to return. Cannot be used with `frac`.\n",
      "        Default = 1 if `frac` = None.\n",
      "    frac : float, optional\n",
      "        Fraction of axis items to return. Cannot be used with `n`.\n",
      "    replace : bool, default False\n",
      "        Sample with or without replacement.\n",
      "    weights : str or ndarray-like, optional\n",
      "        Default 'None' results in equal probability weighting.\n",
      "        If passed a Series, will align with target object on index. Index\n",
      "        values in weights not found in sampled object will be ignored and\n",
      "        index values in sampled object not in weights will be assigned\n",
      "        weights of zero.\n",
      "        If called on a DataFrame, will accept the name of a column\n",
      "        when axis = 0.\n",
      "        Unless weights are a Series, weights must be same length as axis\n",
      "        being sampled.\n",
      "        If weights do not sum to 1, they will be normalized to sum to 1.\n",
      "        Missing values in the weights column will be treated as zero.\n",
      "        Infinite values not allowed.\n",
      "    random_state : int or numpy.random.RandomState, optional\n",
      "        Seed for the random number generator (if int), or numpy RandomState\n",
      "        object.\n",
      "    axis : int or string, optional\n",
      "        Axis to sample. Accepts axis number or name. Default is stat axis\n",
      "        for given data type (0 for Series and DataFrames).\n",
      "    \n",
      "    Returns\n",
      "    -------\n",
      "    Series or DataFrame\n",
      "        A new object of same type as caller containing `n` items randomly\n",
      "        sampled from the caller object.\n",
      "    \n",
      "    See Also\n",
      "    --------\n",
      "    numpy.random.choice: Generates a random sample from a given 1-D numpy\n",
      "        array.\n",
      "    \n",
      "    Examples\n",
      "    --------\n",
      "    >>> df = pd.DataFrame({'num_legs': [2, 4, 8, 0],\n",
      "    ...                    'num_wings': [2, 0, 0, 0],\n",
      "    ...                    'num_specimen_seen': [10, 2, 1, 8]},\n",
      "    ...                   index=['falcon', 'dog', 'spider', 'fish'])\n",
      "    >>> df\n",
      "            num_legs  num_wings  num_specimen_seen\n",
      "    falcon         2          2                 10\n",
      "    dog            4          0                  2\n",
      "    spider         8          0                  1\n",
      "    fish           0          0                  8\n",
      "    \n",
      "    Extract 3 random elements from the ``Series`` ``df['num_legs']``:\n",
      "    Note that we use `random_state` to ensure the reproducibility of\n",
      "    the examples.\n",
      "    \n",
      "    >>> df['num_legs'].sample(n=3, random_state=1)\n",
      "    fish      0\n",
      "    spider    8\n",
      "    falcon    2\n",
      "    Name: num_legs, dtype: int64\n",
      "    \n",
      "    A random 50% sample of the ``DataFrame`` with replacement:\n",
      "    \n",
      "    >>> df.sample(frac=0.5, replace=True, random_state=1)\n",
      "          num_legs  num_wings  num_specimen_seen\n",
      "    dog          4          0                  2\n",
      "    fish         0          0                  8\n",
      "    \n",
      "    Using a DataFrame column as weights. Rows with larger value in the\n",
      "    `num_specimen_seen` column are more likely to be sampled.\n",
      "    \n",
      "    >>> df.sample(n=2, weights='num_specimen_seen', random_state=1)\n",
      "            num_legs  num_wings  num_specimen_seen\n",
      "    falcon         2          2                 10\n",
      "    fish           0          0                  8\n",
      "\n"
     ]
    }
   ],
   "source": [
    "help(df.sample)"
   ]
  },
  {
   "cell_type": "markdown",
   "metadata": {},
   "source": [
    "In the help information above we see there is a parameter called replace, this has a defaulte value `replace=False`. We can change that by inserting  the phrase `replace=True` into the previous command, this will allow us to get more samples."
   ]
  },
  {
   "cell_type": "code",
   "execution_count": 202,
   "metadata": {},
   "outputs": [
    {
     "data": {
      "text/html": [
       "<div>\n",
       "<style scoped>\n",
       "    .dataframe tbody tr th:only-of-type {\n",
       "        vertical-align: middle;\n",
       "    }\n",
       "\n",
       "    .dataframe tbody tr th {\n",
       "        vertical-align: top;\n",
       "    }\n",
       "\n",
       "    .dataframe thead th {\n",
       "        text-align: right;\n",
       "    }\n",
       "</style>\n",
       "<table border=\"1\" class=\"dataframe\">\n",
       "  <thead>\n",
       "    <tr style=\"text-align: right;\">\n",
       "      <th></th>\n",
       "      <th>Surname</th>\n",
       "      <th>Hours</th>\n",
       "      <th>Department</th>\n",
       "      <th>Years Service</th>\n",
       "      <th>EmployeeID</th>\n",
       "    </tr>\n",
       "  </thead>\n",
       "  <tbody>\n",
       "    <tr>\n",
       "      <td>3</td>\n",
       "      <td>Franklin</td>\n",
       "      <td>15</td>\n",
       "      <td>Chemistry</td>\n",
       "      <td>9.2</td>\n",
       "      <td>4</td>\n",
       "    </tr>\n",
       "    <tr>\n",
       "      <td>2</td>\n",
       "      <td>Newton</td>\n",
       "      <td>35</td>\n",
       "      <td>Physics</td>\n",
       "      <td>3.9</td>\n",
       "      <td>3</td>\n",
       "    </tr>\n",
       "    <tr>\n",
       "      <td>2</td>\n",
       "      <td>Newton</td>\n",
       "      <td>35</td>\n",
       "      <td>Physics</td>\n",
       "      <td>3.9</td>\n",
       "      <td>3</td>\n",
       "    </tr>\n",
       "    <tr>\n",
       "      <td>3</td>\n",
       "      <td>Franklin</td>\n",
       "      <td>15</td>\n",
       "      <td>Chemistry</td>\n",
       "      <td>9.2</td>\n",
       "      <td>4</td>\n",
       "    </tr>\n",
       "    <tr>\n",
       "      <td>2</td>\n",
       "      <td>Newton</td>\n",
       "      <td>35</td>\n",
       "      <td>Physics</td>\n",
       "      <td>3.9</td>\n",
       "      <td>3</td>\n",
       "    </tr>\n",
       "    <tr>\n",
       "      <td>1</td>\n",
       "      <td>Turing</td>\n",
       "      <td>15</td>\n",
       "      <td>Mathematics</td>\n",
       "      <td>7.3</td>\n",
       "      <td>2</td>\n",
       "    </tr>\n",
       "    <tr>\n",
       "      <td>2</td>\n",
       "      <td>Newton</td>\n",
       "      <td>35</td>\n",
       "      <td>Physics</td>\n",
       "      <td>3.9</td>\n",
       "      <td>3</td>\n",
       "    </tr>\n",
       "    <tr>\n",
       "      <td>1</td>\n",
       "      <td>Turing</td>\n",
       "      <td>15</td>\n",
       "      <td>Mathematics</td>\n",
       "      <td>7.3</td>\n",
       "      <td>2</td>\n",
       "    </tr>\n",
       "    <tr>\n",
       "      <td>2</td>\n",
       "      <td>Newton</td>\n",
       "      <td>35</td>\n",
       "      <td>Physics</td>\n",
       "      <td>3.9</td>\n",
       "      <td>3</td>\n",
       "    </tr>\n",
       "    <tr>\n",
       "      <td>0</td>\n",
       "      <td>Lovelace</td>\n",
       "      <td>35</td>\n",
       "      <td>Computer Science</td>\n",
       "      <td>5.1</td>\n",
       "      <td>1</td>\n",
       "    </tr>\n",
       "  </tbody>\n",
       "</table>\n",
       "</div>"
      ],
      "text/plain": [
       "    Surname  Hours        Department  Years Service  EmployeeID\n",
       "3  Franklin     15         Chemistry            9.2           4\n",
       "2    Newton     35           Physics            3.9           3\n",
       "2    Newton     35           Physics            3.9           3\n",
       "3  Franklin     15         Chemistry            9.2           4\n",
       "2    Newton     35           Physics            3.9           3\n",
       "1    Turing     15       Mathematics            7.3           2\n",
       "2    Newton     35           Physics            3.9           3\n",
       "1    Turing     15       Mathematics            7.3           2\n",
       "2    Newton     35           Physics            3.9           3\n",
       "0  Lovelace     35  Computer Science            5.1           1"
      ]
     },
     "execution_count": 202,
     "metadata": {},
     "output_type": "execute_result"
    }
   ],
   "source": [
    "df.sample(10, replace=True)"
   ]
  },
  {
   "cell_type": "markdown",
   "metadata": {},
   "source": [
    "#### Summarising information\n",
    "\n",
    "Pandas has numerous commands for quickly viewing summarising information about the dataframe. A couple of common ones are\n",
    "\n",
    "* `dataframe.dtype` - This will tell you the type of information in each column of your dataframe, for example whether they are text (called objects), integers (int) or floats (numbers with decimal points in them)\n",
    "* `dataframe.describe()` - For columns containing numerical information this gives basic statistics like counts, mean, standard deviation, minimum/maximum values and important percentiles"
   ]
  },
  {
   "cell_type": "code",
   "execution_count": 203,
   "metadata": {},
   "outputs": [
    {
     "data": {
      "text/plain": [
       "Surname           object\n",
       "Hours              int64\n",
       "Department        object\n",
       "Years Service    float64\n",
       "EmployeeID         int64\n",
       "dtype: object"
      ]
     },
     "execution_count": 203,
     "metadata": {},
     "output_type": "execute_result"
    }
   ],
   "source": [
    "df.dtypes"
   ]
  },
  {
   "cell_type": "code",
   "execution_count": 204,
   "metadata": {},
   "outputs": [
    {
     "data": {
      "text/html": [
       "<div>\n",
       "<style scoped>\n",
       "    .dataframe tbody tr th:only-of-type {\n",
       "        vertical-align: middle;\n",
       "    }\n",
       "\n",
       "    .dataframe tbody tr th {\n",
       "        vertical-align: top;\n",
       "    }\n",
       "\n",
       "    .dataframe thead th {\n",
       "        text-align: right;\n",
       "    }\n",
       "</style>\n",
       "<table border=\"1\" class=\"dataframe\">\n",
       "  <thead>\n",
       "    <tr style=\"text-align: right;\">\n",
       "      <th></th>\n",
       "      <th>Hours</th>\n",
       "      <th>Years Service</th>\n",
       "      <th>EmployeeID</th>\n",
       "    </tr>\n",
       "  </thead>\n",
       "  <tbody>\n",
       "    <tr>\n",
       "      <td>count</td>\n",
       "      <td>4.000000</td>\n",
       "      <td>4.000000</td>\n",
       "      <td>4.000000</td>\n",
       "    </tr>\n",
       "    <tr>\n",
       "      <td>mean</td>\n",
       "      <td>25.000000</td>\n",
       "      <td>6.375000</td>\n",
       "      <td>2.500000</td>\n",
       "    </tr>\n",
       "    <tr>\n",
       "      <td>std</td>\n",
       "      <td>11.547005</td>\n",
       "      <td>2.351418</td>\n",
       "      <td>1.290994</td>\n",
       "    </tr>\n",
       "    <tr>\n",
       "      <td>min</td>\n",
       "      <td>15.000000</td>\n",
       "      <td>3.900000</td>\n",
       "      <td>1.000000</td>\n",
       "    </tr>\n",
       "    <tr>\n",
       "      <td>25%</td>\n",
       "      <td>15.000000</td>\n",
       "      <td>4.800000</td>\n",
       "      <td>1.750000</td>\n",
       "    </tr>\n",
       "    <tr>\n",
       "      <td>50%</td>\n",
       "      <td>25.000000</td>\n",
       "      <td>6.200000</td>\n",
       "      <td>2.500000</td>\n",
       "    </tr>\n",
       "    <tr>\n",
       "      <td>75%</td>\n",
       "      <td>35.000000</td>\n",
       "      <td>7.775000</td>\n",
       "      <td>3.250000</td>\n",
       "    </tr>\n",
       "    <tr>\n",
       "      <td>max</td>\n",
       "      <td>35.000000</td>\n",
       "      <td>9.200000</td>\n",
       "      <td>4.000000</td>\n",
       "    </tr>\n",
       "  </tbody>\n",
       "</table>\n",
       "</div>"
      ],
      "text/plain": [
       "           Hours  Years Service  EmployeeID\n",
       "count   4.000000       4.000000    4.000000\n",
       "mean   25.000000       6.375000    2.500000\n",
       "std    11.547005       2.351418    1.290994\n",
       "min    15.000000       3.900000    1.000000\n",
       "25%    15.000000       4.800000    1.750000\n",
       "50%    25.000000       6.200000    2.500000\n",
       "75%    35.000000       7.775000    3.250000\n",
       "max    35.000000       9.200000    4.000000"
      ]
     },
     "execution_count": 204,
     "metadata": {},
     "output_type": "execute_result"
    }
   ],
   "source": [
    "df.describe()"
   ]
  },
  {
   "cell_type": "markdown",
   "metadata": {},
   "source": [
    "## 5. Indexing\n",
    "\n",
    "In the above print outs the rows have been number from 0 to 3. This is the default way that pandas number the rows. To view the index we can write `dataframe.index`"
   ]
  },
  {
   "cell_type": "code",
   "execution_count": 205,
   "metadata": {},
   "outputs": [
    {
     "data": {
      "text/plain": [
       "RangeIndex(start=0, stop=4, step=1)"
      ]
     },
     "execution_count": 205,
     "metadata": {},
     "output_type": "execute_result"
    }
   ],
   "source": [
    "df.index"
   ]
  },
  {
   "cell_type": "markdown",
   "metadata": {},
   "source": [
    "However it is possible to change the index should you so wish. For example, we might want to number the rows by the Employee ID instead. To do this we can "
   ]
  },
  {
   "cell_type": "code",
   "execution_count": 206,
   "metadata": {},
   "outputs": [
    {
     "data": {
      "text/html": [
       "<div>\n",
       "<style scoped>\n",
       "    .dataframe tbody tr th:only-of-type {\n",
       "        vertical-align: middle;\n",
       "    }\n",
       "\n",
       "    .dataframe tbody tr th {\n",
       "        vertical-align: top;\n",
       "    }\n",
       "\n",
       "    .dataframe thead th {\n",
       "        text-align: right;\n",
       "    }\n",
       "</style>\n",
       "<table border=\"1\" class=\"dataframe\">\n",
       "  <thead>\n",
       "    <tr style=\"text-align: right;\">\n",
       "      <th></th>\n",
       "      <th>Surname</th>\n",
       "      <th>Hours</th>\n",
       "      <th>Department</th>\n",
       "      <th>Years Service</th>\n",
       "    </tr>\n",
       "    <tr>\n",
       "      <th>EmployeeID</th>\n",
       "      <th></th>\n",
       "      <th></th>\n",
       "      <th></th>\n",
       "      <th></th>\n",
       "    </tr>\n",
       "  </thead>\n",
       "  <tbody>\n",
       "    <tr>\n",
       "      <td>1</td>\n",
       "      <td>Lovelace</td>\n",
       "      <td>35</td>\n",
       "      <td>Computer Science</td>\n",
       "      <td>5.1</td>\n",
       "    </tr>\n",
       "    <tr>\n",
       "      <td>2</td>\n",
       "      <td>Turing</td>\n",
       "      <td>15</td>\n",
       "      <td>Mathematics</td>\n",
       "      <td>7.3</td>\n",
       "    </tr>\n",
       "    <tr>\n",
       "      <td>3</td>\n",
       "      <td>Newton</td>\n",
       "      <td>35</td>\n",
       "      <td>Physics</td>\n",
       "      <td>3.9</td>\n",
       "    </tr>\n",
       "    <tr>\n",
       "      <td>4</td>\n",
       "      <td>Franklin</td>\n",
       "      <td>15</td>\n",
       "      <td>Chemistry</td>\n",
       "      <td>9.2</td>\n",
       "    </tr>\n",
       "  </tbody>\n",
       "</table>\n",
       "</div>"
      ],
      "text/plain": [
       "             Surname  Hours        Department  Years Service\n",
       "EmployeeID                                                  \n",
       "1           Lovelace     35  Computer Science            5.1\n",
       "2             Turing     15       Mathematics            7.3\n",
       "3             Newton     35           Physics            3.9\n",
       "4           Franklin     15         Chemistry            9.2"
      ]
     },
     "execution_count": 206,
     "metadata": {},
     "output_type": "execute_result"
    }
   ],
   "source": [
    "df.set_index('EmployeeID')"
   ]
  },
  {
   "cell_type": "markdown",
   "metadata": {},
   "source": [
    "**REMEMBER:** The command `df.set_index('EmployeeID')` written above will only show you what the dataframe looks like with the new index, it will not update the dataframe itself. To see that is the case now create a new cell below with the command `df`. You will get the old dataframe back.\n",
    "\n",
    "In order to update the dataframe itself, you must reassign it. For example,\n",
    "```\n",
    "df = df.set_index('EmployeeID')\n",
    "```"
   ]
  },
  {
   "cell_type": "code",
   "execution_count": 207,
   "metadata": {},
   "outputs": [
    {
     "data": {
      "text/html": [
       "<div>\n",
       "<style scoped>\n",
       "    .dataframe tbody tr th:only-of-type {\n",
       "        vertical-align: middle;\n",
       "    }\n",
       "\n",
       "    .dataframe tbody tr th {\n",
       "        vertical-align: top;\n",
       "    }\n",
       "\n",
       "    .dataframe thead th {\n",
       "        text-align: right;\n",
       "    }\n",
       "</style>\n",
       "<table border=\"1\" class=\"dataframe\">\n",
       "  <thead>\n",
       "    <tr style=\"text-align: right;\">\n",
       "      <th></th>\n",
       "      <th>Surname</th>\n",
       "      <th>Hours</th>\n",
       "      <th>Department</th>\n",
       "      <th>Years Service</th>\n",
       "    </tr>\n",
       "    <tr>\n",
       "      <th>EmployeeID</th>\n",
       "      <th></th>\n",
       "      <th></th>\n",
       "      <th></th>\n",
       "      <th></th>\n",
       "    </tr>\n",
       "  </thead>\n",
       "  <tbody>\n",
       "    <tr>\n",
       "      <td>1</td>\n",
       "      <td>Lovelace</td>\n",
       "      <td>35</td>\n",
       "      <td>Computer Science</td>\n",
       "      <td>5.1</td>\n",
       "    </tr>\n",
       "    <tr>\n",
       "      <td>2</td>\n",
       "      <td>Turing</td>\n",
       "      <td>15</td>\n",
       "      <td>Mathematics</td>\n",
       "      <td>7.3</td>\n",
       "    </tr>\n",
       "    <tr>\n",
       "      <td>3</td>\n",
       "      <td>Newton</td>\n",
       "      <td>35</td>\n",
       "      <td>Physics</td>\n",
       "      <td>3.9</td>\n",
       "    </tr>\n",
       "    <tr>\n",
       "      <td>4</td>\n",
       "      <td>Franklin</td>\n",
       "      <td>15</td>\n",
       "      <td>Chemistry</td>\n",
       "      <td>9.2</td>\n",
       "    </tr>\n",
       "  </tbody>\n",
       "</table>\n",
       "</div>"
      ],
      "text/plain": [
       "             Surname  Hours        Department  Years Service\n",
       "EmployeeID                                                  \n",
       "1           Lovelace     35  Computer Science            5.1\n",
       "2             Turing     15       Mathematics            7.3\n",
       "3             Newton     35           Physics            3.9\n",
       "4           Franklin     15         Chemistry            9.2"
      ]
     },
     "execution_count": 207,
     "metadata": {},
     "output_type": "execute_result"
    }
   ],
   "source": [
    "df = df.set_index('EmployeeID')\n",
    "df"
   ]
  },
  {
   "cell_type": "markdown",
   "metadata": {},
   "source": [
    "You can reset the index by simply writing `dataframe.reset_index()`"
   ]
  },
  {
   "cell_type": "code",
   "execution_count": 208,
   "metadata": {},
   "outputs": [],
   "source": [
    "df = df.reset_index()"
   ]
  },
  {
   "cell_type": "markdown",
   "metadata": {},
   "source": [
    "## 6. Selecting data from the dataframe\n",
    "\n",
    "There are a number of very useful methods for obtaining certain parts of the dataframe. Often this is known as **filtering**. We will quickly explore the four different methods that can be employed within pandas.\n",
    "\n",
    "#### 6.1. Getting\n",
    "\n",
    "This is where we explicitly state which rows or columns we would like to select."
   ]
  },
  {
   "cell_type": "markdown",
   "metadata": {},
   "source": [
    "##### Selecting columns\n",
    "\n",
    "We have already seen how to select a simple columns, but one may also specify multiple columns"
   ]
  },
  {
   "cell_type": "code",
   "execution_count": 209,
   "metadata": {},
   "outputs": [
    {
     "data": {
      "text/html": [
       "<div>\n",
       "<style scoped>\n",
       "    .dataframe tbody tr th:only-of-type {\n",
       "        vertical-align: middle;\n",
       "    }\n",
       "\n",
       "    .dataframe tbody tr th {\n",
       "        vertical-align: top;\n",
       "    }\n",
       "\n",
       "    .dataframe thead th {\n",
       "        text-align: right;\n",
       "    }\n",
       "</style>\n",
       "<table border=\"1\" class=\"dataframe\">\n",
       "  <thead>\n",
       "    <tr style=\"text-align: right;\">\n",
       "      <th></th>\n",
       "      <th>Surname</th>\n",
       "      <th>Department</th>\n",
       "    </tr>\n",
       "  </thead>\n",
       "  <tbody>\n",
       "    <tr>\n",
       "      <td>0</td>\n",
       "      <td>Lovelace</td>\n",
       "      <td>Computer Science</td>\n",
       "    </tr>\n",
       "    <tr>\n",
       "      <td>1</td>\n",
       "      <td>Turing</td>\n",
       "      <td>Mathematics</td>\n",
       "    </tr>\n",
       "    <tr>\n",
       "      <td>2</td>\n",
       "      <td>Newton</td>\n",
       "      <td>Physics</td>\n",
       "    </tr>\n",
       "    <tr>\n",
       "      <td>3</td>\n",
       "      <td>Franklin</td>\n",
       "      <td>Chemistry</td>\n",
       "    </tr>\n",
       "  </tbody>\n",
       "</table>\n",
       "</div>"
      ],
      "text/plain": [
       "    Surname        Department\n",
       "0  Lovelace  Computer Science\n",
       "1    Turing       Mathematics\n",
       "2    Newton           Physics\n",
       "3  Franklin         Chemistry"
      ]
     },
     "execution_count": 209,
     "metadata": {},
     "output_type": "execute_result"
    }
   ],
   "source": [
    "df[['Surname', 'Department']]"
   ]
  },
  {
   "cell_type": "markdown",
   "metadata": {},
   "source": [
    "##### Selecting columns\n",
    "\n",
    "This is done by specifying a starting row and end row from the index. Note that, by convention, the end row will not be included."
   ]
  },
  {
   "cell_type": "code",
   "execution_count": 210,
   "metadata": {},
   "outputs": [
    {
     "data": {
      "text/html": [
       "<div>\n",
       "<style scoped>\n",
       "    .dataframe tbody tr th:only-of-type {\n",
       "        vertical-align: middle;\n",
       "    }\n",
       "\n",
       "    .dataframe tbody tr th {\n",
       "        vertical-align: top;\n",
       "    }\n",
       "\n",
       "    .dataframe thead th {\n",
       "        text-align: right;\n",
       "    }\n",
       "</style>\n",
       "<table border=\"1\" class=\"dataframe\">\n",
       "  <thead>\n",
       "    <tr style=\"text-align: right;\">\n",
       "      <th></th>\n",
       "      <th>EmployeeID</th>\n",
       "      <th>Surname</th>\n",
       "      <th>Hours</th>\n",
       "      <th>Department</th>\n",
       "      <th>Years Service</th>\n",
       "    </tr>\n",
       "  </thead>\n",
       "  <tbody>\n",
       "    <tr>\n",
       "      <td>0</td>\n",
       "      <td>1</td>\n",
       "      <td>Lovelace</td>\n",
       "      <td>35</td>\n",
       "      <td>Computer Science</td>\n",
       "      <td>5.1</td>\n",
       "    </tr>\n",
       "    <tr>\n",
       "      <td>1</td>\n",
       "      <td>2</td>\n",
       "      <td>Turing</td>\n",
       "      <td>15</td>\n",
       "      <td>Mathematics</td>\n",
       "      <td>7.3</td>\n",
       "    </tr>\n",
       "  </tbody>\n",
       "</table>\n",
       "</div>"
      ],
      "text/plain": [
       "   EmployeeID   Surname  Hours        Department  Years Service\n",
       "0           1  Lovelace     35  Computer Science            5.1\n",
       "1           2    Turing     15       Mathematics            7.3"
      ]
     },
     "execution_count": 210,
     "metadata": {},
     "output_type": "execute_result"
    }
   ],
   "source": [
    "df[0:2]"
   ]
  },
  {
   "cell_type": "markdown",
   "metadata": {},
   "source": [
    "#### 6.2. Selecting by label\n",
    "\n",
    "By using the `dataframe.loc[]` syntax we can simultaneously select certain rows and columns by specifying the **labels** of the rows and the index, for example"
   ]
  },
  {
   "cell_type": "code",
   "execution_count": 211,
   "metadata": {},
   "outputs": [
    {
     "data": {
      "text/html": [
       "<div>\n",
       "<style scoped>\n",
       "    .dataframe tbody tr th:only-of-type {\n",
       "        vertical-align: middle;\n",
       "    }\n",
       "\n",
       "    .dataframe tbody tr th {\n",
       "        vertical-align: top;\n",
       "    }\n",
       "\n",
       "    .dataframe thead th {\n",
       "        text-align: right;\n",
       "    }\n",
       "</style>\n",
       "<table border=\"1\" class=\"dataframe\">\n",
       "  <thead>\n",
       "    <tr style=\"text-align: right;\">\n",
       "      <th></th>\n",
       "      <th>Surname</th>\n",
       "      <th>Department</th>\n",
       "    </tr>\n",
       "  </thead>\n",
       "  <tbody>\n",
       "    <tr>\n",
       "      <td>0</td>\n",
       "      <td>Lovelace</td>\n",
       "      <td>Computer Science</td>\n",
       "    </tr>\n",
       "    <tr>\n",
       "      <td>3</td>\n",
       "      <td>Franklin</td>\n",
       "      <td>Chemistry</td>\n",
       "    </tr>\n",
       "  </tbody>\n",
       "</table>\n",
       "</div>"
      ],
      "text/plain": [
       "    Surname        Department\n",
       "0  Lovelace  Computer Science\n",
       "3  Franklin         Chemistry"
      ]
     },
     "execution_count": 211,
     "metadata": {},
     "output_type": "execute_result"
    }
   ],
   "source": [
    "df.loc[[0, 3], ['Surname', 'Department']]"
   ]
  },
  {
   "cell_type": "markdown",
   "metadata": {},
   "source": [
    "**Exercise:** To reinforce the above point, create a new dataframe and set the index to be the surname. Then attempt to select the 'Years Service' and 'Hours' columns for Newton and Franklin"
   ]
  },
  {
   "cell_type": "markdown",
   "metadata": {},
   "source": [
    "#### 6.3. Selecting by position\n",
    "\n",
    "If we know the exact positions of the data we are interested in we can specify the appropriate numbers, for example, if we know that the columns 'EmployeeID' and 'Hours' are the first and third (0 and 2 in python ordering) we can use the `iloc` command instead of `loc`. This stands for integer location."
   ]
  },
  {
   "cell_type": "code",
   "execution_count": 212,
   "metadata": {},
   "outputs": [
    {
     "data": {
      "text/html": [
       "<div>\n",
       "<style scoped>\n",
       "    .dataframe tbody tr th:only-of-type {\n",
       "        vertical-align: middle;\n",
       "    }\n",
       "\n",
       "    .dataframe tbody tr th {\n",
       "        vertical-align: top;\n",
       "    }\n",
       "\n",
       "    .dataframe thead th {\n",
       "        text-align: right;\n",
       "    }\n",
       "</style>\n",
       "<table border=\"1\" class=\"dataframe\">\n",
       "  <thead>\n",
       "    <tr style=\"text-align: right;\">\n",
       "      <th></th>\n",
       "      <th>EmployeeID</th>\n",
       "      <th>Hours</th>\n",
       "    </tr>\n",
       "  </thead>\n",
       "  <tbody>\n",
       "    <tr>\n",
       "      <td>2</td>\n",
       "      <td>3</td>\n",
       "      <td>35</td>\n",
       "    </tr>\n",
       "    <tr>\n",
       "      <td>3</td>\n",
       "      <td>4</td>\n",
       "      <td>15</td>\n",
       "    </tr>\n",
       "  </tbody>\n",
       "</table>\n",
       "</div>"
      ],
      "text/plain": [
       "   EmployeeID  Hours\n",
       "2           3     35\n",
       "3           4     15"
      ]
     },
     "execution_count": 212,
     "metadata": {},
     "output_type": "execute_result"
    }
   ],
   "source": [
    "df.iloc[2:4, [0, 2]]"
   ]
  },
  {
   "cell_type": "markdown",
   "metadata": {},
   "source": [
    "#### 6.4. Logical selecting\n",
    "\n",
    "Probably the most powerful form of selecting information within pandas is with logical specification. Since it might be the most confusing for those new to programming, we attempt to understand this step by step.\n",
    "\n",
    "Firstly, we note that in python we can issue logical commands. These return either a true or false value, for example we can ask whether a number is either more than, less than, equal to, or not equal to something else."
   ]
  },
  {
   "cell_type": "code",
   "execution_count": 213,
   "metadata": {},
   "outputs": [
    {
     "data": {
      "text/plain": [
       "True"
      ]
     },
     "execution_count": 213,
     "metadata": {},
     "output_type": "execute_result"
    }
   ],
   "source": [
    "x = 7\n",
    "x > 6"
   ]
  },
  {
   "cell_type": "code",
   "execution_count": 214,
   "metadata": {},
   "outputs": [
    {
     "data": {
      "text/plain": [
       "False"
      ]
     },
     "execution_count": 214,
     "metadata": {},
     "output_type": "execute_result"
    }
   ],
   "source": [
    "x < 5"
   ]
  },
  {
   "cell_type": "code",
   "execution_count": 215,
   "metadata": {},
   "outputs": [
    {
     "data": {
      "text/plain": [
       "False"
      ]
     },
     "execution_count": 215,
     "metadata": {},
     "output_type": "execute_result"
    }
   ],
   "source": [
    "x == 9"
   ]
  },
  {
   "cell_type": "code",
   "execution_count": 216,
   "metadata": {},
   "outputs": [
    {
     "data": {
      "text/plain": [
       "True"
      ]
     },
     "execution_count": 216,
     "metadata": {},
     "output_type": "execute_result"
    }
   ],
   "source": [
    "x != 10"
   ]
  },
  {
   "cell_type": "markdown",
   "metadata": {},
   "source": [
    "The same idea hold in pandas. This time we can ask for a series (a single column in a dataframe) or for a dataframe whether a certain statement holds. For example below we can ask from the 'Years Service' column, which entries are more than 6."
   ]
  },
  {
   "cell_type": "code",
   "execution_count": 217,
   "metadata": {},
   "outputs": [
    {
     "data": {
      "text/plain": [
       "0    False\n",
       "1     True\n",
       "2    False\n",
       "3     True\n",
       "Name: Years Service, dtype: bool"
      ]
     },
     "execution_count": 217,
     "metadata": {},
     "output_type": "execute_result"
    }
   ],
   "source": [
    "df['Years Service'] > 6"
   ]
  },
  {
   "cell_type": "markdown",
   "metadata": {},
   "source": [
    "We receive back a series containing either `True` or `False` values (note the series type, which is bool - short for Boolean). It tells us which rows satisfy this condition. If we want we can record (i.e. assign it to a variable) this series by writing"
   ]
  },
  {
   "cell_type": "code",
   "execution_count": 218,
   "metadata": {},
   "outputs": [
    {
     "data": {
      "text/plain": [
       "0    False\n",
       "1     True\n",
       "2    False\n",
       "3     True\n",
       "Name: Years Service, dtype: bool"
      ]
     },
     "execution_count": 218,
     "metadata": {},
     "output_type": "execute_result"
    }
   ],
   "source": [
    "my_records = df['Years Service'] > 6\n",
    "my_records"
   ]
  },
  {
   "cell_type": "markdown",
   "metadata": {},
   "source": [
    "Now we can use this series to select certain rows in our dataframe, for example the command below will return all rows for which the employee has more than 6 years service"
   ]
  },
  {
   "cell_type": "code",
   "execution_count": 219,
   "metadata": {},
   "outputs": [
    {
     "data": {
      "text/html": [
       "<div>\n",
       "<style scoped>\n",
       "    .dataframe tbody tr th:only-of-type {\n",
       "        vertical-align: middle;\n",
       "    }\n",
       "\n",
       "    .dataframe tbody tr th {\n",
       "        vertical-align: top;\n",
       "    }\n",
       "\n",
       "    .dataframe thead th {\n",
       "        text-align: right;\n",
       "    }\n",
       "</style>\n",
       "<table border=\"1\" class=\"dataframe\">\n",
       "  <thead>\n",
       "    <tr style=\"text-align: right;\">\n",
       "      <th></th>\n",
       "      <th>EmployeeID</th>\n",
       "      <th>Surname</th>\n",
       "      <th>Hours</th>\n",
       "      <th>Department</th>\n",
       "      <th>Years Service</th>\n",
       "    </tr>\n",
       "  </thead>\n",
       "  <tbody>\n",
       "    <tr>\n",
       "      <td>1</td>\n",
       "      <td>2</td>\n",
       "      <td>Turing</td>\n",
       "      <td>15</td>\n",
       "      <td>Mathematics</td>\n",
       "      <td>7.3</td>\n",
       "    </tr>\n",
       "    <tr>\n",
       "      <td>3</td>\n",
       "      <td>4</td>\n",
       "      <td>Franklin</td>\n",
       "      <td>15</td>\n",
       "      <td>Chemistry</td>\n",
       "      <td>9.2</td>\n",
       "    </tr>\n",
       "  </tbody>\n",
       "</table>\n",
       "</div>"
      ],
      "text/plain": [
       "   EmployeeID   Surname  Hours   Department  Years Service\n",
       "1           2    Turing     15  Mathematics            7.3\n",
       "3           4  Franklin     15    Chemistry            9.2"
      ]
     },
     "execution_count": 219,
     "metadata": {},
     "output_type": "execute_result"
    }
   ],
   "source": [
    "df[my_records]"
   ]
  },
  {
   "cell_type": "markdown",
   "metadata": {},
   "source": [
    "We can also combine the above commands into a single line if we wish, which will give the same result"
   ]
  },
  {
   "cell_type": "code",
   "execution_count": 220,
   "metadata": {},
   "outputs": [
    {
     "data": {
      "text/html": [
       "<div>\n",
       "<style scoped>\n",
       "    .dataframe tbody tr th:only-of-type {\n",
       "        vertical-align: middle;\n",
       "    }\n",
       "\n",
       "    .dataframe tbody tr th {\n",
       "        vertical-align: top;\n",
       "    }\n",
       "\n",
       "    .dataframe thead th {\n",
       "        text-align: right;\n",
       "    }\n",
       "</style>\n",
       "<table border=\"1\" class=\"dataframe\">\n",
       "  <thead>\n",
       "    <tr style=\"text-align: right;\">\n",
       "      <th></th>\n",
       "      <th>EmployeeID</th>\n",
       "      <th>Surname</th>\n",
       "      <th>Hours</th>\n",
       "      <th>Department</th>\n",
       "      <th>Years Service</th>\n",
       "    </tr>\n",
       "  </thead>\n",
       "  <tbody>\n",
       "    <tr>\n",
       "      <td>1</td>\n",
       "      <td>2</td>\n",
       "      <td>Turing</td>\n",
       "      <td>15</td>\n",
       "      <td>Mathematics</td>\n",
       "      <td>7.3</td>\n",
       "    </tr>\n",
       "    <tr>\n",
       "      <td>3</td>\n",
       "      <td>4</td>\n",
       "      <td>Franklin</td>\n",
       "      <td>15</td>\n",
       "      <td>Chemistry</td>\n",
       "      <td>9.2</td>\n",
       "    </tr>\n",
       "  </tbody>\n",
       "</table>\n",
       "</div>"
      ],
      "text/plain": [
       "   EmployeeID   Surname  Hours   Department  Years Service\n",
       "1           2    Turing     15  Mathematics            7.3\n",
       "3           4  Franklin     15    Chemistry            9.2"
      ]
     },
     "execution_count": 220,
     "metadata": {},
     "output_type": "execute_result"
    }
   ],
   "source": [
    "df[df['Years Service']>6]"
   ]
  },
  {
   "cell_type": "markdown",
   "metadata": {},
   "source": [
    "**Exercise:**\n",
    "\n",
    "1. Select those rows in which the hours are less than 20.\n",
    "2. Select those rows where the department is not Chemistry\n",
    "3. Using the loc syntax, select those rows where the employee ID is more than 1 with columns 'Employee ID', 'Surname' and 'Years Service'"
   ]
  },
  {
   "cell_type": "markdown",
   "metadata": {},
   "source": [
    "## 7. Setting and adding to the dataframe\n",
    "\n",
    "The final class of pandas operations involve manipulating the data, by either adding to the dataframe or changing what is already there. As we will see, the syntax does not change very much between the two\n",
    "\n",
    "#### 7.1 Adding data to the dataframe\n",
    "\n",
    "Very often we might want to add whole rows or columns to the dataframe.\n",
    "\n",
    "##### Adding columns\n",
    "pandas allows us to do that easily by specifying the new column and setting it equal to an appropriate object, examples include"
   ]
  },
  {
   "cell_type": "markdown",
   "metadata": {},
   "source": [
    "A pandas series"
   ]
  },
  {
   "cell_type": "code",
   "execution_count": 221,
   "metadata": {},
   "outputs": [],
   "source": [
    "df['First Name'] = names"
   ]
  },
  {
   "cell_type": "markdown",
   "metadata": {},
   "source": [
    "Manipulated pandas series, for example other columns from the same dataframe"
   ]
  },
  {
   "cell_type": "code",
   "execution_count": 222,
   "metadata": {},
   "outputs": [],
   "source": [
    "df['Total hours'] = 365*df['Hours']*df['Years Service']"
   ]
  },
  {
   "cell_type": "markdown",
   "metadata": {},
   "source": [
    "A single number (will be assigned to every row in the columns), this could also be a string (i.e. text) or a True/False value."
   ]
  },
  {
   "cell_type": "code",
   "execution_count": 223,
   "metadata": {},
   "outputs": [],
   "source": [
    "df['Awards'] = 1"
   ]
  },
  {
   "cell_type": "markdown",
   "metadata": {},
   "source": [
    "A python list, which can contain anything you want. The length of the list must be the same as the number of rows however."
   ]
  },
  {
   "cell_type": "code",
   "execution_count": 224,
   "metadata": {},
   "outputs": [],
   "source": [
    "df['students'] = [1, 9, 2, 3.5]"
   ]
  },
  {
   "cell_type": "code",
   "execution_count": 225,
   "metadata": {},
   "outputs": [
    {
     "data": {
      "text/html": [
       "<div>\n",
       "<style scoped>\n",
       "    .dataframe tbody tr th:only-of-type {\n",
       "        vertical-align: middle;\n",
       "    }\n",
       "\n",
       "    .dataframe tbody tr th {\n",
       "        vertical-align: top;\n",
       "    }\n",
       "\n",
       "    .dataframe thead th {\n",
       "        text-align: right;\n",
       "    }\n",
       "</style>\n",
       "<table border=\"1\" class=\"dataframe\">\n",
       "  <thead>\n",
       "    <tr style=\"text-align: right;\">\n",
       "      <th></th>\n",
       "      <th>EmployeeID</th>\n",
       "      <th>Surname</th>\n",
       "      <th>Hours</th>\n",
       "      <th>Department</th>\n",
       "      <th>Years Service</th>\n",
       "      <th>First Name</th>\n",
       "      <th>Total hours</th>\n",
       "      <th>Awards</th>\n",
       "      <th>students</th>\n",
       "    </tr>\n",
       "  </thead>\n",
       "  <tbody>\n",
       "    <tr>\n",
       "      <td>0</td>\n",
       "      <td>1</td>\n",
       "      <td>Lovelace</td>\n",
       "      <td>35</td>\n",
       "      <td>Computer Science</td>\n",
       "      <td>5.1</td>\n",
       "      <td>Ada</td>\n",
       "      <td>65152.5</td>\n",
       "      <td>1</td>\n",
       "      <td>1.0</td>\n",
       "    </tr>\n",
       "    <tr>\n",
       "      <td>1</td>\n",
       "      <td>2</td>\n",
       "      <td>Turing</td>\n",
       "      <td>15</td>\n",
       "      <td>Mathematics</td>\n",
       "      <td>7.3</td>\n",
       "      <td>Alan</td>\n",
       "      <td>39967.5</td>\n",
       "      <td>1</td>\n",
       "      <td>9.0</td>\n",
       "    </tr>\n",
       "    <tr>\n",
       "      <td>2</td>\n",
       "      <td>3</td>\n",
       "      <td>Newton</td>\n",
       "      <td>35</td>\n",
       "      <td>Physics</td>\n",
       "      <td>3.9</td>\n",
       "      <td>Isaac</td>\n",
       "      <td>49822.5</td>\n",
       "      <td>1</td>\n",
       "      <td>2.0</td>\n",
       "    </tr>\n",
       "    <tr>\n",
       "      <td>3</td>\n",
       "      <td>4</td>\n",
       "      <td>Franklin</td>\n",
       "      <td>15</td>\n",
       "      <td>Chemistry</td>\n",
       "      <td>9.2</td>\n",
       "      <td>Rosalind</td>\n",
       "      <td>50370.0</td>\n",
       "      <td>1</td>\n",
       "      <td>3.5</td>\n",
       "    </tr>\n",
       "  </tbody>\n",
       "</table>\n",
       "</div>"
      ],
      "text/plain": [
       "   EmployeeID   Surname  Hours        Department  Years Service First Name  \\\n",
       "0           1  Lovelace     35  Computer Science            5.1        Ada   \n",
       "1           2    Turing     15       Mathematics            7.3       Alan   \n",
       "2           3    Newton     35           Physics            3.9      Isaac   \n",
       "3           4  Franklin     15         Chemistry            9.2   Rosalind   \n",
       "\n",
       "   Total hours  Awards  students  \n",
       "0      65152.5       1       1.0  \n",
       "1      39967.5       1       9.0  \n",
       "2      49822.5       1       2.0  \n",
       "3      50370.0       1       3.5  "
      ]
     },
     "execution_count": 225,
     "metadata": {},
     "output_type": "execute_result"
    }
   ],
   "source": [
    "df"
   ]
  },
  {
   "cell_type": "markdown",
   "metadata": {},
   "source": [
    "##### Adding rows\n",
    "\n",
    "In this case, we must use the loc syntax to specify a label for the new row, but again we can either assign a constant value"
   ]
  },
  {
   "cell_type": "code",
   "execution_count": 226,
   "metadata": {},
   "outputs": [],
   "source": [
    "df.loc[4] = 0"
   ]
  },
  {
   "cell_type": "markdown",
   "metadata": {},
   "source": [
    "Or a list"
   ]
  },
  {
   "cell_type": "code",
   "execution_count": 227,
   "metadata": {},
   "outputs": [],
   "source": [
    "df.loc[5] = [9, 'Maxwell', 30, 'Physics', 4.2, 'James Clerk', 76, 2, 2]"
   ]
  },
  {
   "cell_type": "code",
   "execution_count": 228,
   "metadata": {},
   "outputs": [
    {
     "data": {
      "text/html": [
       "<div>\n",
       "<style scoped>\n",
       "    .dataframe tbody tr th:only-of-type {\n",
       "        vertical-align: middle;\n",
       "    }\n",
       "\n",
       "    .dataframe tbody tr th {\n",
       "        vertical-align: top;\n",
       "    }\n",
       "\n",
       "    .dataframe thead th {\n",
       "        text-align: right;\n",
       "    }\n",
       "</style>\n",
       "<table border=\"1\" class=\"dataframe\">\n",
       "  <thead>\n",
       "    <tr style=\"text-align: right;\">\n",
       "      <th></th>\n",
       "      <th>EmployeeID</th>\n",
       "      <th>Surname</th>\n",
       "      <th>Hours</th>\n",
       "      <th>Department</th>\n",
       "      <th>Years Service</th>\n",
       "      <th>First Name</th>\n",
       "      <th>Total hours</th>\n",
       "      <th>Awards</th>\n",
       "      <th>students</th>\n",
       "    </tr>\n",
       "  </thead>\n",
       "  <tbody>\n",
       "    <tr>\n",
       "      <td>0</td>\n",
       "      <td>1</td>\n",
       "      <td>Lovelace</td>\n",
       "      <td>35</td>\n",
       "      <td>Computer Science</td>\n",
       "      <td>5.1</td>\n",
       "      <td>Ada</td>\n",
       "      <td>65152.5</td>\n",
       "      <td>1</td>\n",
       "      <td>1.0</td>\n",
       "    </tr>\n",
       "    <tr>\n",
       "      <td>1</td>\n",
       "      <td>2</td>\n",
       "      <td>Turing</td>\n",
       "      <td>15</td>\n",
       "      <td>Mathematics</td>\n",
       "      <td>7.3</td>\n",
       "      <td>Alan</td>\n",
       "      <td>39967.5</td>\n",
       "      <td>1</td>\n",
       "      <td>9.0</td>\n",
       "    </tr>\n",
       "    <tr>\n",
       "      <td>2</td>\n",
       "      <td>3</td>\n",
       "      <td>Newton</td>\n",
       "      <td>35</td>\n",
       "      <td>Physics</td>\n",
       "      <td>3.9</td>\n",
       "      <td>Isaac</td>\n",
       "      <td>49822.5</td>\n",
       "      <td>1</td>\n",
       "      <td>2.0</td>\n",
       "    </tr>\n",
       "    <tr>\n",
       "      <td>3</td>\n",
       "      <td>4</td>\n",
       "      <td>Franklin</td>\n",
       "      <td>15</td>\n",
       "      <td>Chemistry</td>\n",
       "      <td>9.2</td>\n",
       "      <td>Rosalind</td>\n",
       "      <td>50370.0</td>\n",
       "      <td>1</td>\n",
       "      <td>3.5</td>\n",
       "    </tr>\n",
       "    <tr>\n",
       "      <td>4</td>\n",
       "      <td>0</td>\n",
       "      <td>0</td>\n",
       "      <td>0</td>\n",
       "      <td>0</td>\n",
       "      <td>0.0</td>\n",
       "      <td>0</td>\n",
       "      <td>0.0</td>\n",
       "      <td>0</td>\n",
       "      <td>0.0</td>\n",
       "    </tr>\n",
       "    <tr>\n",
       "      <td>5</td>\n",
       "      <td>9</td>\n",
       "      <td>Maxwell</td>\n",
       "      <td>30</td>\n",
       "      <td>Physics</td>\n",
       "      <td>4.2</td>\n",
       "      <td>James Clerk</td>\n",
       "      <td>76.0</td>\n",
       "      <td>2</td>\n",
       "      <td>2.0</td>\n",
       "    </tr>\n",
       "  </tbody>\n",
       "</table>\n",
       "</div>"
      ],
      "text/plain": [
       "   EmployeeID   Surname  Hours        Department  Years Service   First Name  \\\n",
       "0           1  Lovelace     35  Computer Science            5.1          Ada   \n",
       "1           2    Turing     15       Mathematics            7.3         Alan   \n",
       "2           3    Newton     35           Physics            3.9        Isaac   \n",
       "3           4  Franklin     15         Chemistry            9.2     Rosalind   \n",
       "4           0         0      0                 0            0.0            0   \n",
       "5           9   Maxwell     30           Physics            4.2  James Clerk   \n",
       "\n",
       "   Total hours  Awards  students  \n",
       "0      65152.5       1       1.0  \n",
       "1      39967.5       1       9.0  \n",
       "2      49822.5       1       2.0  \n",
       "3      50370.0       1       3.5  \n",
       "4          0.0       0       0.0  \n",
       "5         76.0       2       2.0  "
      ]
     },
     "execution_count": 228,
     "metadata": {},
     "output_type": "execute_result"
    }
   ],
   "source": [
    "df"
   ]
  },
  {
   "cell_type": "markdown",
   "metadata": {},
   "source": [
    "#### 7.2 Changing data in a dataframe\n",
    "\n",
    "Fortunately, the syntax we have just come across above works if we want to change the data that is already there, for instance we can go back and add the data for row 4"
   ]
  },
  {
   "cell_type": "code",
   "execution_count": 229,
   "metadata": {},
   "outputs": [],
   "source": [
    "df.loc[4] = [17, 'Darwin', 30, 'Biology', 9.8, 'Charles', 38, 3, 1]"
   ]
  },
  {
   "cell_type": "markdown",
   "metadata": {},
   "source": [
    "We now notice that the entries in 'Total Hours' are not correct for our most recent additions, fortunately we can change these by using the same command as above, this time to change the data, rather than add it"
   ]
  },
  {
   "cell_type": "code",
   "execution_count": 230,
   "metadata": {},
   "outputs": [],
   "source": [
    "df['Total hours'] = 365*df['Hours']*df['Years Service']"
   ]
  },
  {
   "cell_type": "code",
   "execution_count": 231,
   "metadata": {
    "scrolled": true
   },
   "outputs": [
    {
     "data": {
      "text/html": [
       "<div>\n",
       "<style scoped>\n",
       "    .dataframe tbody tr th:only-of-type {\n",
       "        vertical-align: middle;\n",
       "    }\n",
       "\n",
       "    .dataframe tbody tr th {\n",
       "        vertical-align: top;\n",
       "    }\n",
       "\n",
       "    .dataframe thead th {\n",
       "        text-align: right;\n",
       "    }\n",
       "</style>\n",
       "<table border=\"1\" class=\"dataframe\">\n",
       "  <thead>\n",
       "    <tr style=\"text-align: right;\">\n",
       "      <th></th>\n",
       "      <th>EmployeeID</th>\n",
       "      <th>Surname</th>\n",
       "      <th>Hours</th>\n",
       "      <th>Department</th>\n",
       "      <th>Years Service</th>\n",
       "      <th>First Name</th>\n",
       "      <th>Total hours</th>\n",
       "      <th>Awards</th>\n",
       "      <th>students</th>\n",
       "    </tr>\n",
       "  </thead>\n",
       "  <tbody>\n",
       "    <tr>\n",
       "      <td>0</td>\n",
       "      <td>1</td>\n",
       "      <td>Lovelace</td>\n",
       "      <td>35</td>\n",
       "      <td>Computer Science</td>\n",
       "      <td>5.1</td>\n",
       "      <td>Ada</td>\n",
       "      <td>65152.5</td>\n",
       "      <td>1</td>\n",
       "      <td>1.0</td>\n",
       "    </tr>\n",
       "    <tr>\n",
       "      <td>1</td>\n",
       "      <td>2</td>\n",
       "      <td>Turing</td>\n",
       "      <td>15</td>\n",
       "      <td>Mathematics</td>\n",
       "      <td>7.3</td>\n",
       "      <td>Alan</td>\n",
       "      <td>39967.5</td>\n",
       "      <td>1</td>\n",
       "      <td>9.0</td>\n",
       "    </tr>\n",
       "    <tr>\n",
       "      <td>2</td>\n",
       "      <td>3</td>\n",
       "      <td>Newton</td>\n",
       "      <td>35</td>\n",
       "      <td>Physics</td>\n",
       "      <td>3.9</td>\n",
       "      <td>Isaac</td>\n",
       "      <td>49822.5</td>\n",
       "      <td>1</td>\n",
       "      <td>2.0</td>\n",
       "    </tr>\n",
       "    <tr>\n",
       "      <td>3</td>\n",
       "      <td>4</td>\n",
       "      <td>Franklin</td>\n",
       "      <td>15</td>\n",
       "      <td>Chemistry</td>\n",
       "      <td>9.2</td>\n",
       "      <td>Rosalind</td>\n",
       "      <td>50370.0</td>\n",
       "      <td>1</td>\n",
       "      <td>3.5</td>\n",
       "    </tr>\n",
       "    <tr>\n",
       "      <td>4</td>\n",
       "      <td>17</td>\n",
       "      <td>Darwin</td>\n",
       "      <td>30</td>\n",
       "      <td>Biology</td>\n",
       "      <td>9.8</td>\n",
       "      <td>Charles</td>\n",
       "      <td>107310.0</td>\n",
       "      <td>3</td>\n",
       "      <td>1.0</td>\n",
       "    </tr>\n",
       "    <tr>\n",
       "      <td>5</td>\n",
       "      <td>9</td>\n",
       "      <td>Maxwell</td>\n",
       "      <td>30</td>\n",
       "      <td>Physics</td>\n",
       "      <td>4.2</td>\n",
       "      <td>James Clerk</td>\n",
       "      <td>45990.0</td>\n",
       "      <td>2</td>\n",
       "      <td>2.0</td>\n",
       "    </tr>\n",
       "  </tbody>\n",
       "</table>\n",
       "</div>"
      ],
      "text/plain": [
       "   EmployeeID   Surname  Hours        Department  Years Service   First Name  \\\n",
       "0           1  Lovelace     35  Computer Science            5.1          Ada   \n",
       "1           2    Turing     15       Mathematics            7.3         Alan   \n",
       "2           3    Newton     35           Physics            3.9        Isaac   \n",
       "3           4  Franklin     15         Chemistry            9.2     Rosalind   \n",
       "4          17    Darwin     30           Biology            9.8      Charles   \n",
       "5           9   Maxwell     30           Physics            4.2  James Clerk   \n",
       "\n",
       "   Total hours  Awards  students  \n",
       "0      65152.5       1       1.0  \n",
       "1      39967.5       1       9.0  \n",
       "2      49822.5       1       2.0  \n",
       "3      50370.0       1       3.5  \n",
       "4     107310.0       3       1.0  \n",
       "5      45990.0       2       2.0  "
      ]
     },
     "execution_count": 231,
     "metadata": {},
     "output_type": "execute_result"
    }
   ],
   "source": [
    "df"
   ]
  },
  {
   "cell_type": "markdown",
   "metadata": {},
   "source": [
    "And here are a couple examples where we use logical indexing to change certain cells in our dataframe"
   ]
  },
  {
   "cell_type": "code",
   "execution_count": 233,
   "metadata": {},
   "outputs": [],
   "source": [
    "# - Giving Rosalind Franklin 4 awards\n",
    "df.loc[df['Surname']=='Franklin', 'Awards'] = 4"
   ]
  },
  {
   "cell_type": "code",
   "execution_count": 235,
   "metadata": {},
   "outputs": [],
   "source": [
    "# - Giving those employees with at most 2 students another student\n",
    "df.loc[df['students']<=2, 'students'] += 1"
   ]
  },
  {
   "cell_type": "code",
   "execution_count": 236,
   "metadata": {},
   "outputs": [
    {
     "data": {
      "text/html": [
       "<div>\n",
       "<style scoped>\n",
       "    .dataframe tbody tr th:only-of-type {\n",
       "        vertical-align: middle;\n",
       "    }\n",
       "\n",
       "    .dataframe tbody tr th {\n",
       "        vertical-align: top;\n",
       "    }\n",
       "\n",
       "    .dataframe thead th {\n",
       "        text-align: right;\n",
       "    }\n",
       "</style>\n",
       "<table border=\"1\" class=\"dataframe\">\n",
       "  <thead>\n",
       "    <tr style=\"text-align: right;\">\n",
       "      <th></th>\n",
       "      <th>EmployeeID</th>\n",
       "      <th>Surname</th>\n",
       "      <th>Hours</th>\n",
       "      <th>Department</th>\n",
       "      <th>Years Service</th>\n",
       "      <th>First Name</th>\n",
       "      <th>Total hours</th>\n",
       "      <th>Awards</th>\n",
       "      <th>students</th>\n",
       "    </tr>\n",
       "  </thead>\n",
       "  <tbody>\n",
       "    <tr>\n",
       "      <td>0</td>\n",
       "      <td>1</td>\n",
       "      <td>Lovelace</td>\n",
       "      <td>35</td>\n",
       "      <td>Computer Science</td>\n",
       "      <td>5.1</td>\n",
       "      <td>Ada</td>\n",
       "      <td>65152.5</td>\n",
       "      <td>1</td>\n",
       "      <td>2.0</td>\n",
       "    </tr>\n",
       "    <tr>\n",
       "      <td>1</td>\n",
       "      <td>2</td>\n",
       "      <td>Turing</td>\n",
       "      <td>15</td>\n",
       "      <td>Mathematics</td>\n",
       "      <td>7.3</td>\n",
       "      <td>Alan</td>\n",
       "      <td>39967.5</td>\n",
       "      <td>1</td>\n",
       "      <td>9.0</td>\n",
       "    </tr>\n",
       "    <tr>\n",
       "      <td>2</td>\n",
       "      <td>3</td>\n",
       "      <td>Newton</td>\n",
       "      <td>35</td>\n",
       "      <td>Physics</td>\n",
       "      <td>3.9</td>\n",
       "      <td>Isaac</td>\n",
       "      <td>49822.5</td>\n",
       "      <td>1</td>\n",
       "      <td>3.0</td>\n",
       "    </tr>\n",
       "    <tr>\n",
       "      <td>3</td>\n",
       "      <td>4</td>\n",
       "      <td>Franklin</td>\n",
       "      <td>15</td>\n",
       "      <td>Chemistry</td>\n",
       "      <td>9.2</td>\n",
       "      <td>Rosalind</td>\n",
       "      <td>50370.0</td>\n",
       "      <td>4</td>\n",
       "      <td>3.5</td>\n",
       "    </tr>\n",
       "    <tr>\n",
       "      <td>4</td>\n",
       "      <td>17</td>\n",
       "      <td>Darwin</td>\n",
       "      <td>30</td>\n",
       "      <td>Biology</td>\n",
       "      <td>9.8</td>\n",
       "      <td>Charles</td>\n",
       "      <td>107310.0</td>\n",
       "      <td>3</td>\n",
       "      <td>2.0</td>\n",
       "    </tr>\n",
       "    <tr>\n",
       "      <td>5</td>\n",
       "      <td>9</td>\n",
       "      <td>Maxwell</td>\n",
       "      <td>30</td>\n",
       "      <td>Physics</td>\n",
       "      <td>4.2</td>\n",
       "      <td>James Clerk</td>\n",
       "      <td>45990.0</td>\n",
       "      <td>2</td>\n",
       "      <td>3.0</td>\n",
       "    </tr>\n",
       "  </tbody>\n",
       "</table>\n",
       "</div>"
      ],
      "text/plain": [
       "   EmployeeID   Surname  Hours        Department  Years Service   First Name  \\\n",
       "0           1  Lovelace     35  Computer Science            5.1          Ada   \n",
       "1           2    Turing     15       Mathematics            7.3         Alan   \n",
       "2           3    Newton     35           Physics            3.9        Isaac   \n",
       "3           4  Franklin     15         Chemistry            9.2     Rosalind   \n",
       "4          17    Darwin     30           Biology            9.8      Charles   \n",
       "5           9   Maxwell     30           Physics            4.2  James Clerk   \n",
       "\n",
       "   Total hours  Awards  students  \n",
       "0      65152.5       1       2.0  \n",
       "1      39967.5       1       9.0  \n",
       "2      49822.5       1       3.0  \n",
       "3      50370.0       4       3.5  \n",
       "4     107310.0       3       2.0  \n",
       "5      45990.0       2       3.0  "
      ]
     },
     "execution_count": 236,
     "metadata": {},
     "output_type": "execute_result"
    }
   ],
   "source": [
    "df"
   ]
  }
 ],
 "metadata": {
  "kernelspec": {
   "display_name": "Python 3",
   "language": "python",
   "name": "python3"
  },
  "language_info": {
   "codemirror_mode": {
    "name": "ipython",
    "version": 3
   },
   "file_extension": ".py",
   "mimetype": "text/x-python",
   "name": "python",
   "nbconvert_exporter": "python",
   "pygments_lexer": "ipython3",
   "version": "3.7.4"
  }
 },
 "nbformat": 4,
 "nbformat_minor": 2
}
