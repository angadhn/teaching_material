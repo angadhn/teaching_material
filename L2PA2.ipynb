{
 "cells": [
  {
   "cell_type": "markdown",
   "metadata": {
    "toc": true
   },
   "source": [
    "<h1>Table of Contents<span class=\"tocSkip\"></span></h1>\n",
    "<div class=\"toc\"><ul class=\"toc-item\"><li><span><a href=\"#Create-scalars-using-&quot;symbols&quot;\" data-toc-modified-id=\"Create-scalars-using-&quot;symbols&quot;-1\"><span class=\"toc-item-num\">1&nbsp;&nbsp;</span>Create scalars using \"symbols\"</a></span></li><li><span><a href=\"#Creating-Reference-Frames\" data-toc-modified-id=\"Creating-Reference-Frames-2\"><span class=\"toc-item-num\">2&nbsp;&nbsp;</span>Creating Reference Frames</a></span></li><li><span><a href=\"#Modified-form-L2PA1:-Create-the-vectors-in-B-frame\" data-toc-modified-id=\"Modified-form-L2PA1:-Create-the-vectors-in-B-frame-3\"><span class=\"toc-item-num\">3&nbsp;&nbsp;</span>Modified form L2PA1: Create the vectors in B-frame</a></span></li><li><span><a href=\"#Use-the-trignometric-functions-sine-and-cosine-to-rewrite-the-vectors-in-the-A-frame\" data-toc-modified-id=\"Use-the-trignometric-functions-sine-and-cosine-to-rewrite-the-vectors-in-the-A-frame-4\"><span class=\"toc-item-num\">4&nbsp;&nbsp;</span>Use the trignometric functions sine and cosine to rewrite the vectors in the A-frame</a></span><ul class=\"toc-item\"><li><span><a href=\"#Can-you-write-the-same-for-the-vector-e?\" data-toc-modified-id=\"Can-you-write-the-same-for-the-vector-e?-4.1\"><span class=\"toc-item-num\">4.1&nbsp;&nbsp;</span>Can you write the same for the vector e?</a></span></li></ul></li></ul></div>"
   ]
  },
  {
   "cell_type": "code",
   "execution_count": null,
   "metadata": {},
   "outputs": [],
   "source": [
    "from sympy import symbols"
   ]
  },
  {
   "cell_type": "markdown",
   "metadata": {},
   "source": [
    "# Create scalars using \"symbols\" "
   ]
  },
  {
   "cell_type": "code",
   "execution_count": null,
   "metadata": {},
   "outputs": [],
   "source": [
    "v, theta, e = symbols('v theta e')"
   ]
  },
  {
   "cell_type": "code",
   "execution_count": null,
   "metadata": {},
   "outputs": [],
   "source": [
    "v"
   ]
  },
  {
   "cell_type": "code",
   "execution_count": null,
   "metadata": {},
   "outputs": [],
   "source": [
    "theta"
   ]
  },
  {
   "cell_type": "code",
   "execution_count": null,
   "metadata": {},
   "outputs": [],
   "source": [
    "e"
   ]
  },
  {
   "cell_type": "markdown",
   "metadata": {},
   "source": [
    "# Creating Reference Frames\n",
    "A and B are reference frames. Let's create them using SymPy!"
   ]
  },
  {
   "cell_type": "code",
   "execution_count": null,
   "metadata": {},
   "outputs": [],
   "source": [
    "from sympy.physics.mechanics import ReferenceFrame"
   ]
  },
  {
   "cell_type": "code",
   "execution_count": null,
   "metadata": {},
   "outputs": [],
   "source": [
    "A = ReferenceFrame('A')"
   ]
  },
  {
   "cell_type": "code",
   "execution_count": null,
   "metadata": {},
   "outputs": [],
   "source": [
    "B = ReferenceFrame('B')"
   ]
  },
  {
   "cell_type": "markdown",
   "metadata": {},
   "source": [
    "# Modified form L2PA1: Create the vectors in B-frame"
   ]
  },
  {
   "cell_type": "code",
   "execution_count": null,
   "metadata": {},
   "outputs": [],
   "source": [
    "v_vec_B = v*B.x"
   ]
  },
  {
   "cell_type": "code",
   "execution_count": null,
   "metadata": {},
   "outputs": [],
   "source": [
    "v_vec_B"
   ]
  },
  {
   "cell_type": "code",
   "execution_count": null,
   "metadata": {},
   "outputs": [],
   "source": [
    "e_vec_B = -e*B.y"
   ]
  },
  {
   "cell_type": "code",
   "execution_count": null,
   "metadata": {},
   "outputs": [],
   "source": [
    "e_vec_B"
   ]
  },
  {
   "cell_type": "markdown",
   "metadata": {},
   "source": [
    "# Use the trignometric functions sine and cosine to rewrite the vectors in the A-frame"
   ]
  },
  {
   "cell_type": "code",
   "execution_count": null,
   "metadata": {},
   "outputs": [],
   "source": [
    "from sympy import sin, cos"
   ]
  },
  {
   "cell_type": "code",
   "execution_count": null,
   "metadata": {},
   "outputs": [],
   "source": [
    "v_vec_A = v * cos(theta)*A.x + sin(theta)*A.y"
   ]
  },
  {
   "cell_type": "code",
   "execution_count": null,
   "metadata": {},
   "outputs": [],
   "source": [
    "v_vec_A"
   ]
  },
  {
   "cell_type": "markdown",
   "metadata": {},
   "source": [
    "## Can you write the same for the vector e?"
   ]
  },
  {
   "cell_type": "code",
   "execution_count": null,
   "metadata": {},
   "outputs": [],
   "source": []
  }
 ],
 "metadata": {
  "kernelspec": {
   "display_name": "Python 3",
   "language": "python",
   "name": "python3"
  },
  "language_info": {
   "codemirror_mode": {
    "name": "ipython",
    "version": 3
   },
   "file_extension": ".py",
   "mimetype": "text/x-python",
   "name": "python",
   "nbconvert_exporter": "python",
   "pygments_lexer": "ipython3",
   "version": "3.7.6"
  },
  "toc": {
   "base_numbering": 1,
   "nav_menu": {},
   "number_sections": true,
   "sideBar": true,
   "skip_h1_title": false,
   "title_cell": "Table of Contents",
   "title_sidebar": "Contents",
   "toc_cell": true,
   "toc_position": {},
   "toc_section_display": true,
   "toc_window_display": false
  }
 },
 "nbformat": 4,
 "nbformat_minor": 4
}
