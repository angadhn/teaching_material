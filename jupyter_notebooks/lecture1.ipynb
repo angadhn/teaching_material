{
 "cells": [
  {
   "cell_type": "markdown",
   "metadata": {},
   "source": [
    "# Lecture 1: Introduction"
   ]
  },
  {
   "cell_type": "code",
   "execution_count": null,
   "metadata": {},
   "outputs": [],
   "source": [
    "def search(A, k):\n",
    "    found = -1\n",
    "    for i in range(len(A)):\n",
    "        if A[i] == k:\n",
    "            found = i\n",
    "    return found\n",
    "\n",
    "print(search([1,2,3,1,2,3,1],1))\n",
    "print(search([1,2,3,1,2,3,1],5))    "
   ]
  },
  {
   "cell_type": "code",
   "execution_count": null,
   "metadata": {},
   "outputs": [],
   "source": [
    "def search2(A, k):\n",
    "    for i in range(len(A)):\n",
    "        if A[i] == k:\n",
    "            return i\n",
    "    return -1\n",
    "\n",
    "print(search2([1,2,3,4,5,6],5))\n",
    "print(search2([1,2,1,3,4,1],5))    "
   ]
  },
  {
   "cell_type": "code",
   "execution_count": null,
   "metadata": {},
   "outputs": [],
   "source": [
    "def sortedSearch(A, k):\n",
    "    for i in range(len(A)):\n",
    "        if A[i] == k:\n",
    "            return i\n",
    "        if A[i] > k:\n",
    "            return -1\n",
    "    return -1\n",
    "\n",
    "print(sortedSearch([1,2,3,4,5,6],5))\n",
    "print(sortedSearch([1,2,1,3,4,1],5))    "
   ]
  },
  {
   "cell_type": "code",
   "execution_count": null,
   "metadata": {},
   "outputs": [],
   "source": [
    "def binSearch(A, k):\n",
    "    lo = 0\n",
    "    hi = len(A)-1\n",
    "    while (lo <= hi):\n",
    "        mid = (lo+hi)//2\n",
    "        if A[mid] == k:\n",
    "            return mid\n",
    "        else: \n",
    "            if A[mid] < k:\n",
    "                lo = mid+1\n",
    "            else:\n",
    "                hi = mid-1\n",
    "    return -1\n",
    "\n",
    "\n",
    "print(binSearch([1,2,3,4,5,6],5))\n",
    "print(binSearch([1,2,1,3,4,1],5))    \n",
    "print(binSearch([1,2,3,4,5,6,7],5))\n",
    "print(binSearch([1,2,1,3,4,1,7],5))  "
   ]
  },
  {
   "cell_type": "code",
   "execution_count": null,
   "metadata": {},
   "outputs": [],
   "source": [
    "# time comparison of linear and binary searches (best/worst cases) on a large sorted A\n",
    "\n",
    "def sortedSearch(A, k):\n",
    "    for i in range(len(A)):\n",
    "        if A[i] == k:\n",
    "            return i\n",
    "        if A[i] > k:\n",
    "            return -1\n",
    "    return -1\n",
    "\n",
    "def binSearch(A, k):\n",
    "    lo = 0\n",
    "    hi = len(A)-1\n",
    "    while (lo <= hi):\n",
    "        mid = (lo+hi)//2\n",
    "        if A[mid] == k:\n",
    "            return mid\n",
    "        else: \n",
    "            if A[mid] < k:\n",
    "                lo = mid+1\n",
    "            else:\n",
    "                hi = mid-1\n",
    "    return -1\n",
    "\n",
    "\n",
    "# using Jupyter's timeit command to time searching functions on a sorted array\n",
    "\n",
    "# this is a big array: contains 50m elements\n",
    "A = [i+24 for i in range(50000000)]\n",
    "\n",
    "# best case for sortedSearch is when we return early\n",
    "print(\"\\n* For sorted search (Best case, search first element):\")\n",
    "%timeit sortedSearch(A,24)\n",
    "\n",
    "print(\"\\n* For sorted search (Best case, search for value less than min):\")\n",
    "%timeit sortedSearch(A,0)\n",
    "\n",
    "print(\"\\n* For sorted search (Worst case, search for value larger than max):\")\n",
    "%timeit sortedSearch(A,A[len(A)-1]+1)\n",
    "\n",
    "print(\"\\n* For binary search (Best case, search for middle element):\")\n",
    "%timeit binSearch(A,A[(len(A)-1)//2])\n",
    "\n",
    "print(\"\\n* For binary search (Worst case, search for value not in array):\")\n",
    "%timeit binSearch(A,0)"
   ]
  }
 ],
 "metadata": {
  "kernelspec": {
   "display_name": "Python 3",
   "language": "python",
   "name": "python3"
  },
  "language_info": {
   "codemirror_mode": {
    "name": "ipython",
    "version": 3
   },
   "file_extension": ".py",
   "mimetype": "text/x-python",
   "name": "python",
   "nbconvert_exporter": "python",
   "pygments_lexer": "ipython3",
   "version": "3.8.2"
  }
 },
 "nbformat": 4,
 "nbformat_minor": 2
}
