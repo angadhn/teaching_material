{
 "cells": [
  {
   "cell_type": "markdown",
   "metadata": {},
   "source": [
    "# Lecture 0: Introduction to Python"
   ]
  },
  {
   "cell_type": "markdown",
   "metadata": {},
   "source": [
    "The next scripts are simple Python code samples that go over different aspects of the language, such as ues of variables, input and output, for loops, etc.\n",
    "\n",
    "We start off with a naive function for searching a value `v` in an array `A`."
   ]
  },
  {
   "cell_type": "code",
   "execution_count": null,
   "metadata": {},
   "outputs": [],
   "source": [
    "# Linear Search\n",
    "# Given array A and value v:\n",
    "# - return the position of an occurrence of v in A\n",
    "# - otherwise, return -1\n",
    "\n",
    "def search(A, v):\n",
    "    found = -1\n",
    "    for i in range(len(A)):\n",
    "        if A[i] == v:\n",
    "            found = i\n",
    "    return found\n",
    "\n",
    "A = [1,2,3,1,2,3,1] \n",
    "v = 4\n",
    "search(A,v)"
   ]
  },
  {
   "cell_type": "code",
   "execution_count": null,
   "metadata": {},
   "outputs": [],
   "source": [
    "# variable intialisation and use\n",
    "\n",
    "myVar = 0\n",
    "myVar += 42\n",
    "print(myVar)"
   ]
  },
  {
   "cell_type": "code",
   "execution_count": null,
   "metadata": {},
   "outputs": [],
   "source": [
    "# error: variable read without having been initialised\n",
    "\n",
    "myVar = myVar + 1\n",
    "print(myVar)"
   ]
  },
  {
   "cell_type": "code",
   "execution_count": null,
   "metadata": {},
   "outputs": [],
   "source": [
    "# if-else example\n",
    "\n",
    "balance = int(input(\"Enter you account balance: \"))\n",
    "\n",
    "if balance == 0:\n",
    "    print(\"you are on the limit\")\n",
    "else:\n",
    "    print(\"you are doing good\")        "
   ]
  },
  {
   "cell_type": "code",
   "execution_count": null,
   "metadata": {},
   "outputs": [],
   "source": [
    "# another if-else example\n",
    "\n",
    "balance = int(input(\"Enter you account balance: \"))\n",
    "\n",
    "if not balance >= 0:\n",
    "    print(\"you are in debt\")\n",
    "else:\n",
    "    print(\"you are doing OK\")        "
   ]
  },
  {
   "cell_type": "code",
   "execution_count": null,
   "metadata": {},
   "outputs": [],
   "source": [
    "# another if-else example\n",
    "\n",
    "balance = int(input(\"Enter you account balance: \"))\n",
    "overdraft = int(input(\"Enter your overdraft limit: \"))\n",
    "\n",
    "if overdraft == 0 and balance < 0:\n",
    "    print(\"you are in trouble\")\n",
    "else:\n",
    "    print(\"you are doing OK\")"
   ]
  },
  {
   "cell_type": "code",
   "execution_count": null,
   "metadata": {},
   "outputs": [],
   "source": [
    "# an if-(elif)*-else example\n",
    "\n",
    "balance = int(input(\"Enter you account balance: \"))\n",
    "overdraft = int(input(\"Enter your overdraft limit: \"))\n",
    "\n",
    "if balance > 0:\n",
    "    print(\"you are doing good\")\n",
    "elif balance == 0:\n",
    "    print(\"you are on the limit\")\n",
    "elif balance + overdraft >= 0:\n",
    "    print(\"you are in debt\")    \n",
    "else: \n",
    "    print(\"you are in trouble\")"
   ]
  },
  {
   "cell_type": "code",
   "execution_count": null,
   "metadata": {},
   "outputs": [],
   "source": [
    "for i in range(16,2,-2): # range(lo,hi,s)\n",
    "    print(i)\n",
    "print()\n",
    "# for i in range(2,15,2):\n",
    "#     print(i)\n",
    "# print()\n",
    "# for i in range(2,14,2):\n",
    "#     print(i)"
   ]
  },
  {
   "cell_type": "code",
   "execution_count": null,
   "metadata": {},
   "outputs": [],
   "source": [
    "i = 10\n",
    "while i > 0:\n",
    "    print(i)\n",
    "    i -= 1"
   ]
  },
  {
   "cell_type": "code",
   "execution_count": null,
   "metadata": {
    "scrolled": true
   },
   "outputs": [],
   "source": [
    "# myString = 'the best string ever'\n",
    "# print(myString)\n",
    "\n",
    "def f(n): # takes an integer as input, and returns an integer\n",
    "    return n**3+n**2+n+1\n",
    "\n",
    "# result = f(42)   # f is a function from integers to integers\n",
    "# myString = \"the result is: \" + str(result)\n",
    "# print(myString)\n",
    "\n",
    "# print(f(42)) # print(str(f(42)))"
   ]
  },
  {
   "cell_type": "code",
   "execution_count": null,
   "metadata": {},
   "outputs": [],
   "source": [
    "name = input(\"Type in your name: \")\n",
    "print(\"the name I got is: \"+name)\n",
    "\n",
    "# balance = int(input(\"Enter you account balance: \"))\n",
    "# if balance < 0:\n",
    "#     message = \"you are in trouble \"\n",
    "# else:\n",
    "#     message = \"you are doing OK \"\n",
    "# print(message+name)"
   ]
  },
  {
   "cell_type": "code",
   "execution_count": null,
   "metadata": {
    "scrolled": true
   },
   "outputs": [],
   "source": [
    "myArray[0] = 42   # set the first element of myArray to 42"
   ]
  },
  {
   "cell_type": "code",
   "execution_count": null,
   "metadata": {},
   "outputs": [],
   "source": [
    "# myArray = [0 for i in range(10)]\n",
    "# print(myArray)\n",
    "\n",
    "# myArray[0] = 42\n",
    "# print(myArray)\n",
    "\n",
    "# myArray[0] = myArray[0]**2\n",
    "# print(myArray)\n",
    "\n",
    "myArray = [i**2 for i in range(10)]\n",
    "print(myArray)"
   ]
  },
  {
   "cell_type": "code",
   "execution_count": null,
   "metadata": {
    "scrolled": true
   },
   "outputs": [],
   "source": [
    "# def plusOne(n):   # function with integer input, integer output\n",
    "#     return n+1\n",
    "\n",
    "# def printSquare(n):  # integer input, void output\n",
    "#     print(n**2)\n",
    "\n",
    "def printIfSquare(n):  # integer input, void output\n",
    "    for i in range(n+1):\n",
    "        if i**2 == n:\n",
    "            print(\"number \"+str(n)+\" is the square of \"+str(i))\n",
    "            return\n",
    "        if i**2 > n:\n",
    "            print(\"number \"+str(n)+\" is not a square\")\n",
    "            return\n",
    "\n",
    "# print(plusOne(-1))\n",
    "# printSquare(15)\n",
    "printIfSquare(130)\n",
    "printIfSquare(144)"
   ]
  },
  {
   "cell_type": "code",
   "execution_count": 2,
   "metadata": {},
   "outputs": [
    {
     "name": "stdout",
     "output_type": "stream",
     "text": [
      "(3,5) (4,6)\n",
      "1.4142135623730951\n"
     ]
    }
   ],
   "source": [
    "import math\n",
    "\n",
    "class Point2D:\n",
    "    def __init__(self, x, y):\n",
    "        self.x = x\n",
    "        self.y = y\n",
    "\n",
    "    def distance(self, other):\n",
    "        return (math.sqrt((self.x-other.x)**2+(self.y-other.y)**2))\n",
    "\n",
    "    def __str__(self):\n",
    "        return (\"(\"+str(self.x)+\",\"+str(self.y)+\")\")\n",
    "\n",
    "p1 = Point2D(3,5)\n",
    "p2 = Point2D(4,6)\n",
    "print(p1, p2)\n",
    "print(p1.distance(p2))"
   ]
  }
 ],
 "metadata": {
  "kernelspec": {
   "display_name": "Python 3",
   "language": "python",
   "name": "python3"
  },
  "language_info": {
   "codemirror_mode": {
    "name": "ipython",
    "version": 3
   },
   "file_extension": ".py",
   "mimetype": "text/x-python",
   "name": "python",
   "nbconvert_exporter": "python",
   "pygments_lexer": "ipython3",
   "version": "3.8.2"
  }
 },
 "nbformat": 4,
 "nbformat_minor": 2
}
