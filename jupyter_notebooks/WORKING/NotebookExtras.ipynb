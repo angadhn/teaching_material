{
 "cells": [
  {
   "cell_type": "markdown",
   "metadata": {},
   "source": [
    "# Unit 1-2 Input Method Final Program\n",
    "\n",
    "### Exercise 13 <a id=\"Exercise13\"></a>\n",
    "\n",
    "We have just been writing code fragments here. Now take you final method from Exercise 10 and turn it into a full program. Remember you need\n",
    "\n",
    "- All three method definitions: print, inputString and your askThreeQuestions method.\n",
    "- A **main method** which you need to put the call to your askThreeQuestions method in as well as an exit command.\n",
    "- All the methods should be inside a named **class** ie ins\n",
    "- The whole program should be commented.\n",
    "- You need to add the line: \n",
    "```java\n",
    "import java.util.Scanner;\n",
    "```\n",
    "after the comments about the program but before the class definition. It is needed to load in the library containing the code that allows kewyboard input using scanners.\n",
    "\n",
    "You may want to put it together a method at a time below, finally wrapping the whole thing in a class defintion and adding comments and library.\n",
    "\n",
    "Once created cut and paste it into an editor, save it as a .java file with the same name as the class and compile and run it in a Terminal/Command Prompt window. Test it to make sure it works.\n"
   ]
  },
  {
   "cell_type": "code",
   "execution_count": null,
   "metadata": {},
   "outputs": [],
   "source": [
    "// Write your program together here\n"
   ]
  },
  {
   "cell_type": "markdown",
   "metadata": {},
   "source": [
    "*Once you have done the above exercises (and understand how if statements work) move on to doing the actual programming exercises from the handbook, writing full programs. You must be able to write full programs, not just fragments.*"
   ]
  },
  {
   "cell_type": "markdown",
   "metadata": {},
   "source": [
    "### Solution to Exercise 13<a id=\"Solution13\"></a>"
   ]
  },
  {
   "cell_type": "markdown",
   "metadata": {},
   "source": [
    "/* ***************************************\n",
    "  @author\tPaul Curzon\n",
    "  @date \t19 July 2020\n",
    "  @version \t1\n",
    "\n",
    "\tA program that prints three questions (on film, sport and musicals,\n",
    "\tand just echos the answers back.\n",
    "   ****************************************/\n",
    "\n",
    "import java.util.Scanner; // Needed to make Scanner available\n",
    "\n",
    "class askquestions\n",
    "{\n",
    "    \n",
    "    public static void main (String [] a)\n",
    "    {\n",
    "        askThreeQuestions ();\n",
    "        \n",
    "        System.exit(0);\n",
    "\n",
    "    } // END print\n",
    "    \n",
    "    \n",
    "    \n",
    "    // Print a given message\n",
    "    //\n",
    "    public static void print (String message)\n",
    "    {\n",
    "        System.out.println(message);\n",
    "\n",
    "    } // END print\n",
    "\n",
    "\n",
    "\n",
    "    // Allow a single film to be input, returning the film typed as the answer\n",
    "    //\n",
    "    public static String inputString (String message)\n",
    "    {\n",
    "        String answer;\n",
    "        Scanner scanner = new Scanner(System.in);\n",
    "\n",
    "        print(message);\n",
    "        answer = scanner.nextLine();\n",
    "   \n",
    "        return answer;\n",
    "    } // END inputString\n",
    "\n",
    "\n",
    "\n",
    "    // Ask three different questions about film, sport and musical, echoing back the answers.\n",
    "    //\n",
    "    public static void askThreeQuestions ()\n",
    "    {\n",
    "        String film_answer;\n",
    "        String sport_answer;\n",
    "        String musical_answer;\n",
    "    \n",
    "        film_answer = inputString(\"Which dream-themed film did Christopher Nolan direct?\");\n",
    "        print(\"So you think the film was \" + film_answer + \" do you?\");\n",
    "        print(\"\");\n",
    "       \n",
    "        sport_answer = inputString(\"What sport does LeBron James play?\");\n",
    "        print(\"So you think the sport was \" + sport_answer + \" do you?\");\n",
    "        print(\"\");\n",
    "       \n",
    "        musical_answer = inputString(\"What Hip Hop musical is based on the story of an American founding father?\");\n",
    "        print(\"So you think the musical was \" + musical_answer + \" do you?\");\n",
    "        print(\"\");\n",
    "       \n",
    "        return;\n",
    "    } // END askThreeQuestions\n",
    "}"
   ]
  },
  {
   "cell_type": "code",
   "execution_count": null,
   "metadata": {},
   "outputs": [],
   "source": [
    "[Return to Exercise](#Exercise13)"
   ]
  }
 ],
 "metadata": {
  "kernelspec": {
   "display_name": "Java",
   "language": "java",
   "name": "java"
  },
  "language_info": {
   "codemirror_mode": "java",
   "file_extension": ".jshell",
   "mimetype": "text/x-java-source",
   "name": "Java",
   "pygments_lexer": "java",
   "version": "11.0.8+10-LTS"
  }
 },
 "nbformat": 4,
 "nbformat_minor": 4
}
