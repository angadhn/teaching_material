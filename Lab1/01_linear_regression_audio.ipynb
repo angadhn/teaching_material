{
 "cells": [
  {
   "cell_type": "markdown",
   "metadata": {},
   "source": [
    "## Introduction\n",
    "\n",
    "The goal of this lab is to construct a simple \"linear regression\" network to detect bird call activities in an audio file. Via this lab, you will learn about processing audio files, building a network with Pytorch, training the network with labeled data and evaluating it, and data visualization. "
   ]
  },
  {
   "cell_type": "code",
   "execution_count": null,
   "metadata": {},
   "outputs": [],
   "source": [
    "# Import the packages we'll use\n",
    "\n",
    "import numpy as np\n",
    "import os, glob, csv\n",
    "\n",
    "# librosa is a widely-used audio processing library\n",
    "import librosa\n",
    "\n",
    "#sklearn is a useful toolkit for machine learning\n",
    "import sklearn\n",
    "\n",
    "#pytorch: deep learning framework\n",
    "import torch\n",
    "import torch.nn as nn\n",
    "import torch.nn.functional as nnF\n",
    "\n",
    "# for plotting\n",
    "%matplotlib inline\n",
    "import matplotlib.pyplot as plt"
   ]
  },
  {
   "cell_type": "code",
   "execution_count": null,
   "metadata": {},
   "outputs": [],
   "source": [
    "# USER CONFIGURATION\n",
    "# Please alter the paths here to where the data are stored on your local filesystem\n",
    "\n",
    "#binarylabelcsv  = os.path.expanduser(\"~/datasets/badch2/badch2metadata/developmentsets/warblrb10k_public_metadata_2018.csv\")\n",
    "#binarylabelcsv  = os.path.expanduser(\"~/git/stored_docs/fship2014e/badchallenge/badch2metadata/developmentsets/warblrb10k_public_metadata_2018.csv\")\n",
    "#binarylabelcsv  = \"/import/teaching/DATASETS/ECS7013P/bird_audio_detection/warblrb10k_public_metadata_2018.csv\"\n",
    "binarylabelcsv  = \"\"\n",
    "\n",
    "#audiofilefolder = os.path.expanduser(\"~/datasets/badch2/devel_wav/warblrb10k/wav\")\n",
    "#audiofilefolder = os.path.expanduser(\"~/audio_data/warblrb10k/wav\")\n",
    "#audiofilefolder = \"/import/teaching/DATASETS/ECS7013P/bird_audio_detection/warblrb10k/wav\"\n",
    "audiofilefolder = \"\"\n",
    "\n",
    "maxfilestoload  = 50      # limit, because loading the whole dataset is very slow\n"
   ]
  },
  {
   "cell_type": "code",
   "execution_count": null,
   "metadata": {},
   "outputs": [],
   "source": [
    "# here we load the metadata labels\n",
    "binarylabels = {}\n",
    "with open(binarylabelcsv, 'r') as infp:\n",
    "        rdr = csv.DictReader(infp)\n",
    "        for row in rdr:\n",
    "            \n",
    "                # view structure of the \"warblrb10k_public_metadata_2018.csv\" file\n",
    "                # complete the line below to read the map the label (hasbird) to the corresponding audio file name\n",
    "                # binarylabels[row[...]] = float(row[...])\n",
    "                \n",
    "                if len(binarylabels)==maxfilestoload:\n",
    "                        break  # note, here we are restricting the maximum number of rows.\n",
    "\n",
    "fkeys = sorted(binarylabels.keys())\n",
    "# inspect:\n",
    "for i, kv in enumerate(binarylabels.items()):\n",
    "    print(kv)\n",
    "    if i==10: break"
   ]
  },
  {
   "cell_type": "code",
   "execution_count": null,
   "metadata": {},
   "outputs": [],
   "source": [
    "# load an example audio file, converting the data to mel spectrogram\n",
    "examplefkey = '1d94fc4a-1c63-4da0-9cac'\n",
    "\n",
    "example_audio, sr = librosa.load(\"%s/%s.wav\" % (audiofilefolder, examplefkey), sr=22050) # note the sampling frequency\n",
    "example = librosa.feature.melspectrogram(example_audio, sr, n_mels=64) # note the number of mel bands\n",
    "\n",
    "# player\n",
    "import IPython.display as ipd\n",
    "audio_element_url = ipd.Audio(example_audio, rate=sr)\n",
    "ipd.display(audio_element_url)\n",
    "\n",
    "\n",
    "# Let's look at the spectrogram of one example\n",
    "plt.imshow(librosa.power_to_db(example, ref=np.max), aspect='auto', origin='lower')\n",
    "plt.colorbar()"
   ]
  },
  {
   "cell_type": "code",
   "execution_count": null,
   "metadata": {},
   "outputs": [],
   "source": [
    "print(example.shape)"
   ]
  },
  {
   "cell_type": "markdown",
   "metadata": {},
   "source": [
    "Let's annotate this audio clip in detail, specifying for each *frame* whether it has any bird call active or not."
   ]
  },
  {
   "cell_type": "code",
   "execution_count": null,
   "metadata": {},
   "outputs": [],
   "source": [
    "annotation = np.zeros(434)\n",
    "for onset, offset in [\n",
    "    (44, 64),\n",
    "    (120, 140),\n",
    "    (170, 188),\n",
    "    (203, 218),\n",
    "    (254, 320),\n",
    "    (338, 359),\n",
    "    (368, 390),\n",
    "    (400, 414),\n",
    "                     ]:\n",
    "    annotation[onset:offset] = 1\n",
    "    \n",
    "plt.imshow(librosa.power_to_db(example, ref=np.max), aspect='auto', origin='lower')\n",
    "plt.plot(annotation*15)"
   ]
  },
  {
   "cell_type": "markdown",
   "metadata": {},
   "source": [
    "Next we want to establish if there is any *linear* relationship between the energy in the frequency bands, and the regressor (the \"independent variable\") which is our annotation."
   ]
  },
  {
   "cell_type": "code",
   "execution_count": null,
   "metadata": {},
   "outputs": [],
   "source": [
    "# As a simple example, here's a scatter plot of the energy in frequency band index \"31\" and our annotation.\n",
    "fig, ax = plt.subplots(1, 2, figsize=(15, 5))\n",
    "\n",
    "ax[1].plot(example[31,:], annotation, 'x')\n",
    "ax[1].set_xlabel(\"Energy in band 31\")\n",
    "ax[1].set_ylabel(\"Bird activity\")\n",
    "\n",
    "ax[0].plot(annotation * 50, label=\"True\")\n",
    "ax[0].plot(example[31,:], label=\"Band 31 energy\")\n",
    "ax[0].set_xlabel(\"Time\")\n",
    "ax[0].set_ylabel(\"Bird activity\")\n",
    "ax[0].legend()\n",
    "\n",
    "\n",
    "print(\"Mean energy when activity is 0: %g\" % np.mean(example[31, np.nonzero(annotation==0)]))\n",
    "print(\"Mean energy when activity is 1: %g\" % np.mean(example[31, np.nonzero(annotation==1)]))"
   ]
  },
  {
   "cell_type": "code",
   "execution_count": null,
   "metadata": {},
   "outputs": [],
   "source": [
    "# Let's set this problem up within the Torch framework:\n",
    "def sigmoid(x):\n",
    "    \"Applies a sigmoid nonlinearity to a numpy vector of values\"\n",
    "    # complete this function\n",
    "    sm = ...\n",
    "    return sm\n",
    "\n",
    "class LinearRegress(nn.Module):\n",
    "    def __init__(self, nfreqs):\n",
    "        super(LinearRegress, self).__init__()\n",
    "        # initialize the parameters with random values\n",
    "        self.beta = nn.Parameter(torch.randn((nfreqs,1)).abs() * 1e-4)\n",
    "        self.offset = nn.Parameter(torch.rand((nfreqs,1)) * 1e-4)\n",
    "        # question: what is the difference between \"torch.randn\" and \"torch.rand\"?\n",
    "\n",
    "    def forward(self, x):\n",
    "        \"Project the data through the coefficients\"\n",
    "        # complete this function\n",
    "        y = ...\n",
    "        return y\n",
    "    \n",
    "    def forward_and_convert(self, x):\n",
    "        \"Handles the torch<--->numpy tensor conversion, for convenience\"\n",
    "        x_torch = torch.DoubleTensor(x)\n",
    "        y_torch = self.forward(x_torch)\n",
    "        return y_torch.detach().numpy()"
   ]
  },
  {
   "cell_type": "code",
   "execution_count": null,
   "metadata": {},
   "outputs": [],
   "source": [
    "# create a LinearRegress network instance\n",
    "net = LinearRegress(64)\n",
    "# our network is currently RANDOMLY initialised. What happens when we project our audio through it?\n",
    "plt.plot(annotation, label=\"True\")\n",
    "plt.plot(net.forward_and_convert(example), label=\"Predicted\")\n",
    "plt.xlabel(\"Time\")\n",
    "plt.ylabel(\"Bird activity\")\n",
    "plt.legend()\n",
    "plt.title(\"Linear regression as bird detector - BEFORE fitting\")"
   ]
  },
  {
   "cell_type": "code",
   "execution_count": null,
   "metadata": {},
   "outputs": [],
   "source": [
    "# define a loss function and an optimiser\n",
    "# which loss function should we use for this problem, compelte the line below\n",
    "criterion = ...   \n",
    "optimizer = torch.optim.SGD(net.parameters(), lr=0.0000001, momentum=0.8) # optimizer"
   ]
  },
  {
   "cell_type": "code",
   "execution_count": null,
   "metadata": {},
   "outputs": [],
   "source": [
    "#annotation"
   ]
  },
  {
   "cell_type": "code",
   "execution_count": null,
   "metadata": {},
   "outputs": [],
   "source": [
    "# train the network\n",
    "num_epochs = 10000 # number of training epochs\n",
    "annot_torch = torch.DoubleTensor(annotation)\n",
    "for epoch in range(num_epochs):\n",
    "\n",
    "    # zero the parameter gradients\n",
    "    optimizer.zero_grad()\n",
    "\n",
    "    # forward + backward + optimize\n",
    "    # complete the lines below\n",
    "    outputs = ... # forward pass\n",
    "    loss = ... # loss\n",
    "    ... # backward pass\n",
    "    \n",
    "    optimizer.step()\n",
    "\n",
    "    running_loss = loss.item()\n",
    "    if ((epoch & (epoch - 1)) == 0) or epoch==(num_epochs-1): # don't print on all epochs\n",
    "        # print statistics\n",
    "        print('[%d] loss: %.8f' %\n",
    "            (epoch, running_loss))\n",
    "\n",
    "example_result = outputs.detach().numpy()\n",
    "print('Finished Training')"
   ]
  },
  {
   "cell_type": "code",
   "execution_count": null,
   "metadata": {},
   "outputs": [],
   "source": [
    "plt.plot(annotation, label=\"True\")\n",
    "plt.plot(net.forward_and_convert(example), label=\"Predicted\")\n",
    "plt.xlabel(\"Time\")\n",
    "plt.ylabel(\"Bird activity\")\n",
    "plt.legend()\n",
    "plt.title(\"Linear regression as bird detector\")"
   ]
  },
  {
   "cell_type": "code",
   "execution_count": null,
   "metadata": {},
   "outputs": [],
   "source": [
    "### Let's compare the linear regression predictions against our \"energy in band 31\" scatter\n",
    "fig, ax = plt.subplots(1, 2, figsize=(15, 5))\n",
    "\n",
    "ax[0].plot(annotation, label=\"True\")\n",
    "ax[1].plot(example[31,:], annotation, 'x', label=\"True\")\n",
    "\n",
    "### This code makes a prediction with band 31 only\n",
    "### (replacing other bands with their average energy, to keep them fixed)\n",
    "if False:\n",
    "    # Question: can you explain what the line below does?\n",
    "    example_reduced = np.repeat(np.mean(example, axis=1, keepdims=True), repeats=example.shape[1], axis=1)\n",
    "    example_reduced[31,:] = example[31,:]\n",
    "    ax[0].plot(net.forward_and_convert(example_reduced), label=\"Predicted (31 only)\")\n",
    "    ax[0].set_xlabel(\"Time\")\n",
    "    ax[0].set_ylabel(\"Bird activity\")\n",
    "    ax[0].legend()\n",
    "    ax[1].plot(example[31,:], net.forward_and_convert(example_reduced), '.', label=\"Predicted (31 only)\")\n",
    "\n",
    "### This plots the \"full\" regression prediction from all data\n",
    "if False:\n",
    "    ax[0].plot(net.forward_and_convert(example), label=\"Predicted (full)\")\n",
    "    ax[0].set_xlabel(\"Time\")\n",
    "    ax[0].set_ylabel(\"Bird activity\")\n",
    "    ax[0].legend()\n",
    "    ax[1].plot(example[31,:], net.forward_and_convert(example), '.', label=\"Predicted (full)\")\n",
    "\n",
    "ax[1].set_xlabel(\"Energy in band 31\")\n",
    "ax[1].set_ylabel(\"Bird activity\")\n",
    "ax[1].legend()"
   ]
  },
  {
   "cell_type": "code",
   "execution_count": null,
   "metadata": {},
   "outputs": [],
   "source": [
    "# Let's inspect the parameters\n",
    "plt.figure()\n",
    "plt.plot(net.offset.detach().numpy())\n",
    "plt.title(\"Offsets\")\n",
    "plt.xlabel(\"Frequency\")\n",
    "plt.figure()\n",
    "plt.plot(net.beta.detach().numpy())\n",
    "plt.title(\"Beta coefficients\")\n",
    "plt.xlabel(\"Frequency\")"
   ]
  },
  {
   "cell_type": "markdown",
   "metadata": {},
   "source": [
    "Exercise\n",
    "-------\n",
    "\n",
    "* Convert this from a linear regression to a *logistic* regression. Retrain it and inspect how well it can do.\n",
    "* Experiment with the optimiser options such as learning rate and momentum."
   ]
  },
  {
   "cell_type": "code",
   "execution_count": null,
   "metadata": {},
   "outputs": [],
   "source": []
  }
 ],
 "metadata": {
  "kernelspec": {
   "display_name": "Python 3",
   "language": "python",
   "name": "python3"
  },
  "language_info": {
   "codemirror_mode": {
    "name": "ipython",
    "version": 3
   },
   "file_extension": ".py",
   "mimetype": "text/x-python",
   "name": "python",
   "nbconvert_exporter": "python",
   "pygments_lexer": "ipython3",
   "version": "3.7.4"
  }
 },
 "nbformat": 4,
 "nbformat_minor": 2
}
