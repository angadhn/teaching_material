{
 "cells": [
  {
   "cell_type": "markdown",
   "metadata": {},
   "source": [
    "# ECS713: week 5 Lab Sheet"
   ]
  },
  {
   "cell_type": "markdown",
   "metadata": {},
   "source": [
    "This lab sheet covers \n",
    "- typeclasses"
   ]
  },
  {
   "cell_type": "markdown",
   "metadata": {},
   "source": [
    "## Learning Objectives"
   ]
  },
  {
   "cell_type": "markdown",
   "metadata": {},
   "source": [
    "By the time you complete this sheandet you should be able to\n",
    "- understand how to declare a new typeclass\n",
    "- how to make a type an instance of a typeclass\n",
    "- recognise some common typeclasses and the functions they provide\n",
    "- understand the use of the deriving connective"
   ]
  },
  {
   "cell_type": "markdown",
   "metadata": {},
   "source": [
    "## Turn off the annoying linter"
   ]
  },
  {
   "cell_type": "markdown",
   "metadata": {},
   "source": [
    "Run the cell below to turn off the annoying linter, which suggests improvements to your code that aren't appropriate for these exercises. "
   ]
  },
  {
   "cell_type": "code",
   "execution_count": 1,
   "metadata": {},
   "outputs": [],
   "source": [
    ":opt no-lint"
   ]
  },
  {
   "cell_type": "markdown",
   "metadata": {},
   "source": [
    "## Task 1. Basic Type Classes"
   ]
  },
  {
   "cell_type": "markdown",
   "metadata": {},
   "source": [
    "Type classes are Haskell's equivalent of interfaces in Java. They are a way of specifying that a type (class in Java) should have certain operations. Very often the operations should have some intuitive meaning, but the compiler has no way of enforcing that. "
   ]
  },
  {
   "cell_type": "markdown",
   "metadata": {},
   "source": [
    "Example:\n",
    "This is a particularly stupid example. A type `a` is an instance of the typeclass `Cloop`if it has three operations, \n",
    "`moop`, `boop` and `poop`, with types as below. "
   ]
  },
  {
   "cell_type": "code",
   "execution_count": 3,
   "metadata": {},
   "outputs": [],
   "source": [
    "class Cloop a where \n",
    "  moop :: a -> a\n",
    "  boop :: a -> a -> a\n",
    "  poop :: a -> Bool"
   ]
  },
  {
   "cell_type": "markdown",
   "metadata": {},
   "source": [
    "The Haskell typechecker understands that, after this declaration, if you use functions called `moop`, `boop` or `poop`, then they'd better be on something of type class `Cloop`."
   ]
  },
  {
   "cell_type": "markdown",
   "metadata": {},
   "source": [
    "Test:"
   ]
  },
  {
   "cell_type": "code",
   "execution_count": 4,
   "metadata": {},
   "outputs": [
    {
     "data": {
      "text/html": [
       "<style>/* Styles used for the Hoogle display in the pager */\n",
       ".hoogle-doc {\n",
       "display: block;\n",
       "padding-bottom: 1.3em;\n",
       "padding-left: 0.4em;\n",
       "}\n",
       ".hoogle-code {\n",
       "display: block;\n",
       "font-family: monospace;\n",
       "white-space: pre;\n",
       "}\n",
       ".hoogle-text {\n",
       "display: block;\n",
       "}\n",
       ".hoogle-name {\n",
       "color: green;\n",
       "font-weight: bold;\n",
       "}\n",
       ".hoogle-head {\n",
       "font-weight: bold;\n",
       "}\n",
       ".hoogle-sub {\n",
       "display: block;\n",
       "margin-left: 0.4em;\n",
       "}\n",
       ".hoogle-package {\n",
       "font-weight: bold;\n",
       "font-style: italic;\n",
       "}\n",
       ".hoogle-module {\n",
       "font-weight: bold;\n",
       "}\n",
       ".hoogle-class {\n",
       "font-weight: bold;\n",
       "}\n",
       ".get-type {\n",
       "color: green;\n",
       "font-weight: bold;\n",
       "font-family: monospace;\n",
       "display: block;\n",
       "white-space: pre-wrap;\n",
       "}\n",
       ".show-type {\n",
       "color: green;\n",
       "font-weight: bold;\n",
       "font-family: monospace;\n",
       "margin-left: 1em;\n",
       "}\n",
       ".mono {\n",
       "font-family: monospace;\n",
       "display: block;\n",
       "}\n",
       ".err-msg {\n",
       "color: red;\n",
       "font-style: italic;\n",
       "font-family: monospace;\n",
       "white-space: pre;\n",
       "display: block;\n",
       "}\n",
       "#unshowable {\n",
       "color: red;\n",
       "font-weight: bold;\n",
       "}\n",
       ".err-msg.in.collapse {\n",
       "padding-top: 0.7em;\n",
       "}\n",
       ".highlight-code {\n",
       "white-space: pre;\n",
       "font-family: monospace;\n",
       "}\n",
       ".suggestion-warning { \n",
       "font-weight: bold;\n",
       "color: rgb(200, 130, 0);\n",
       "}\n",
       ".suggestion-error { \n",
       "font-weight: bold;\n",
       "color: red;\n",
       "}\n",
       ".suggestion-name {\n",
       "font-weight: bold;\n",
       "}\n",
       "</style><span class='get-type'>stoop :: forall a. Cloop a => a -> a</span>"
      ],
      "text/plain": [
       "stoop :: forall a. Cloop a => a -> a"
      ]
     },
     "metadata": {},
     "output_type": "display_data"
    }
   ],
   "source": [
    "stoop a = boop (moop a) a\n",
    ":t stoop"
   ]
  },
  {
   "cell_type": "markdown",
   "metadata": {},
   "source": [
    "Notice the `Cloop a` there. That is what says `a` had better be of type class `Cloop`. "
   ]
  },
  {
   "cell_type": "markdown",
   "metadata": {},
   "source": [
    "So let's give Int the appropriate functions:"
   ]
  },
  {
   "cell_type": "code",
   "execution_count": 5,
   "metadata": {},
   "outputs": [],
   "source": [
    "moop :: Int -> Int\n",
    "moop n = n+1\n",
    "boop :: Int -> Int -> Int\n",
    "boop m n = m+n\n",
    "poop :: Int -> Bool\n",
    "poop m = m==0"
   ]
  },
  {
   "cell_type": "code",
   "execution_count": 8,
   "metadata": {},
   "outputs": [
    {
     "ename": "",
     "evalue": "",
     "output_type": "error",
     "traceback": [
      "<interactive>:1:6: error:\n    • No instance for (Cloop Int) arising from a use of ‘stoop’\n    • In the expression: stoop 4 :: Int\n      In an equation for ‘it’: it = stoop 4 :: Int"
     ]
    }
   ],
   "source": [
    "it = stoop 4 :: Int"
   ]
  },
  {
   "cell_type": "markdown",
   "metadata": {},
   "source": [
    "If you've run the appropriate cells here you should get a complaint: \n",
    "``<interactive>:1:1: error:\n",
    "    • No instance for (Cloop Int) arising from a use of ‘stoop’\n",
    "    • In the expression: stoop 4 :: Int\n",
    "      In an equation for ‘it’: it = stoop 4 :: Int``"
   ]
  },
  {
   "cell_type": "markdown",
   "metadata": {},
   "source": [
    "It's not enough to have the functions, you have to explicitly explain that `Int` is supposed to be a member of the typeclass: "
   ]
  },
  {
   "cell_type": "code",
   "execution_count": 9,
   "metadata": {},
   "outputs": [],
   "source": [
    "instance Cloop Int where\n",
    "  moop n = n+1\n",
    "  boop m n = m+n\n",
    "  poop m = m==0"
   ]
  },
  {
   "cell_type": "code",
   "execution_count": 10,
   "metadata": {},
   "outputs": [
    {
     "data": {
      "text/plain": [
       "9"
      ]
     },
     "metadata": {},
     "output_type": "display_data"
    }
   ],
   "source": [
    "stoop 4::Int"
   ]
  },
  {
   "cell_type": "markdown",
   "metadata": {},
   "source": [
    "Exercise: Make `Char` and `Bool` members of the typeclass `Cloop`. "
   ]
  },
  {
   "cell_type": "code",
   "execution_count": 11,
   "metadata": {},
   "outputs": [],
   "source": [
    "instance Cloop Bool where\n",
    "  moop x = not x\n",
    "  boop x y = x || y\n",
    "  poop x = x\n",
    "\n",
    "instance Cloop Char where\n",
    "  moop x = x\n",
    "  boop x y = x\n",
    "  poop x = x == 'a'"
   ]
  },
  {
   "cell_type": "markdown",
   "metadata": {},
   "source": [
    "Warning: this will not work with complex types like `String` (i.e. ones that are constructed from simpler types). If you try to make `String` an instance of a typeclass, you will either get told that you can't use a synonym, or if you use `[Char]`, that you can only have a constructor applied to a type variable. Here is one way round it. Use a wrapper to convert an open complex type, into a closed simple one. "
   ]
  },
  {
   "cell_type": "code",
   "execution_count": 12,
   "metadata": {},
   "outputs": [
    {
     "data": {
      "text/plain": [
       "Pack \"a\""
      ]
     },
     "metadata": {},
     "output_type": "display_data"
    }
   ],
   "source": [
    "data PackString = Pack String\n",
    "  deriving Show\n",
    "\n",
    "instance Cloop PackString where\n",
    "  moop n = n\n",
    "  boop m n = m\n",
    "  poop m = True\n",
    "stoop $ Pack \"a\""
   ]
  },
  {
   "cell_type": "markdown",
   "metadata": {},
   "source": [
    "## Task 2. Inbuilt type classes. "
   ]
  },
  {
   "cell_type": "markdown",
   "metadata": {},
   "source": [
    "Some type classes come wth the system. Each has some basic functions. Use the documentation at: https://hackage.haskell.org/package/base-4.14.0.0/docs/Prelude.html#g:4\n",
    "and at\n",
    "https://hackage.haskell.org/package/base-4.14.0.0/docs/Prelude.html#g:22\n",
    "to find out which functions you need for each of the following type classes: "
   ]
  },
  {
   "cell_type": "markdown",
   "metadata": {},
   "source": [
    "`Eq` requires"
   ]
  },
  {
   "cell_type": "code",
   "execution_count": 14,
   "metadata": {},
   "outputs": [
    {
     "data": {
      "text/plain": [
       "False"
      ]
     },
     "metadata": {},
     "output_type": "display_data"
    }
   ],
   "source": [
    "-- For Eq you need to implement either (==) or (/=)\n",
    "\n",
    "data Test = T1 | T2\n",
    "\n",
    "instance Eq Test where\n",
    "   T1 == T1 = True\n",
    "   T1 == T2 = False\n",
    "   T2 == T1 = False\n",
    "   T2 == T2 = True\n",
    "\n",
    "T2 == T1"
   ]
  },
  {
   "cell_type": "markdown",
   "metadata": {},
   "source": [
    "`Ord` requires"
   ]
  },
  {
   "cell_type": "code",
   "execution_count": 15,
   "metadata": {},
   "outputs": [
    {
     "data": {
      "text/plain": [
       "True"
      ]
     },
     "metadata": {},
     "output_type": "display_data"
    }
   ],
   "source": [
    "instance Ord Test where\n",
    "   T1 <= T1 = True\n",
    "   T1 <= T2 = True\n",
    "   T2 <= T2 = True\n",
    "   T2 <= T1 = False\n",
    "\n",
    "T1 <= T2"
   ]
  },
  {
   "cell_type": "markdown",
   "metadata": {},
   "source": [
    "`Show` requires"
   ]
  },
  {
   "cell_type": "code",
   "execution_count": 16,
   "metadata": {},
   "outputs": [
    {
     "data": {
      "text/plain": [
       "T1 here"
      ]
     },
     "metadata": {},
     "output_type": "display_data"
    }
   ],
   "source": [
    "instance Show Test where\n",
    "   show T1 = \"T1 here\"\n",
    "   show T2 = \"T2 there\"\n",
    "   \n",
    "print T1"
   ]
  },
  {
   "cell_type": "markdown",
   "metadata": {},
   "source": [
    "`Read` requires"
   ]
  },
  {
   "cell_type": "code",
   "execution_count": 19,
   "metadata": {},
   "outputs": [],
   "source": [
    "-- Minimal complete definition readsPrec | readPrec"
   ]
  },
  {
   "cell_type": "markdown",
   "metadata": {},
   "source": [
    "`Eq` is the class of types supporting equality. \n",
    "\n",
    "`Ord` is the class of types supporting an order. \n",
    "\n",
    "`Show` is the class of types whose values can be printed (converted to `String`s). \n",
    "\n",
    "`Read` is the class of types whose values can be parsed from `String`s."
   ]
  },
  {
   "cell_type": "markdown",
   "metadata": {},
   "source": [
    "We've seen that the compiler will take any functions of the appropriate type to make instances of the typeclass. \n",
    "But often there are formal requirements couched in terms of expected equations, and informal requirements in terms \n",
    "of expectations. For simple datastructures, the compiler can derive a default instance of the standard typeclasses. \n",
    "It is instructed to do this using the `deriving` keyword. "
   ]
  },
  {
   "cell_type": "markdown",
   "metadata": {},
   "source": [
    "**EXERCISE** Here are two definitions of the Booleans, both using an enumerated type, and both deriving membership of typeclasses. What is the difference (and more importantly, how would it impact programs)? `T1` and `T2` represent `True`, and `F1` and `F2` represent `False`."
   ]
  },
  {
   "cell_type": "code",
   "execution_count": 20,
   "metadata": {},
   "outputs": [],
   "source": [
    "data B1 = F1 | T1 deriving (Eq, Ord, Show, Read) "
   ]
  },
  {
   "cell_type": "code",
   "execution_count": 21,
   "metadata": {},
   "outputs": [],
   "source": [
    "data B2  = T2 | F2 deriving (Eq, Ord, Show, Read) "
   ]
  },
  {
   "cell_type": "markdown",
   "metadata": {},
   "source": [
    "Explain difference here:\n",
    "\n",
    "The only difference is the order in which True and False are given. In the first case F1 < T1 (so True is less than False), while in the second True is less than False."
   ]
  },
  {
   "cell_type": "markdown",
   "metadata": {},
   "source": [
    "## Task 3. Hierarchies"
   ]
  },
  {
   "cell_type": "markdown",
   "metadata": {},
   "source": [
    "Sometimes we require that when we want to make a type a member of a typeclass, it should already be a member of some other. There is a hierarchy. "
   ]
  },
  {
   "cell_type": "markdown",
   "metadata": {},
   "source": [
    "Example: `Ord` requires that the type already be a member of `Eq`. "
   ]
  },
  {
   "cell_type": "markdown",
   "metadata": {},
   "source": [
    "```class Eq a => Ord a where ...```"
   ]
  },
  {
   "cell_type": "markdown",
   "metadata": {},
   "source": [
    "**Exercise:** Make `PackString` an instance of `Eq` where two packed strings are regarded as equal if they have the same length. "
   ]
  },
  {
   "cell_type": "code",
   "execution_count": 22,
   "metadata": {},
   "outputs": [
    {
     "data": {
      "text/plain": [
       "True"
      ]
     },
     "metadata": {},
     "output_type": "display_data"
    }
   ],
   "source": [
    "instance Eq PackString where\n",
    "   Pack s1 == Pack s2 = length s1 == length s2\n",
    "   \n",
    "Pack \"hi\" == Pack \"oi\""
   ]
  },
  {
   "cell_type": "markdown",
   "metadata": {},
   "source": [
    "**Exercise:** Make `PackString` an instance of `Ord` where the ordering is that one string is shorter than the other. "
   ]
  },
  {
   "cell_type": "code",
   "execution_count": 24,
   "metadata": {},
   "outputs": [
    {
     "data": {
      "text/plain": [
       "True"
      ]
     },
     "metadata": {},
     "output_type": "display_data"
    }
   ],
   "source": [
    "instance Ord PackString where\n",
    "   Pack s1 <= Pack s2 = length s1 <= length s2\n",
    "   \n",
    "Pack \"hi\" <= Pack \"hello\""
   ]
  },
  {
   "cell_type": "markdown",
   "metadata": {},
   "source": [
    "## Task 4. Deriving Show"
   ]
  },
  {
   "cell_type": "markdown",
   "metadata": {},
   "source": [
    "**Exercise:** `PackStringB` is defined similarly to `PackString` but without deriving `Show`. Can you explain why you get an error when trying to evaluate `PackB \"aaa\"` but not `unpackB (packB \"aaa\")`?"
   ]
  },
  {
   "cell_type": "code",
   "execution_count": 25,
   "metadata": {},
   "outputs": [],
   "source": [
    "data PackStringB = PackB String\n",
    "unpackB (PackB s) = s"
   ]
  },
  {
   "cell_type": "code",
   "execution_count": 28,
   "metadata": {},
   "outputs": [
    {
     "ename": "",
     "evalue": "",
     "output_type": "error",
     "traceback": [
      "<interactive>:1:1: error:\n    • No instance for (Show PackStringB) arising from a use of ‘print’\n    • In a stmt of an interactive GHCi command: print it"
     ]
    }
   ],
   "source": [
    "PackB \"aaa\""
   ]
  },
  {
   "cell_type": "code",
   "execution_count": 27,
   "metadata": {},
   "outputs": [
    {
     "data": {
      "text/plain": [
       "\"aaa\""
      ]
     },
     "metadata": {},
     "output_type": "display_data"
    }
   ],
   "source": [
    "unpackB (PackB \"aaa\")"
   ]
  },
  {
   "cell_type": "markdown",
   "metadata": {},
   "source": [
    "Explanation goes here: In the first Haskell does not know yet show to \"show\" an expression of type PackStringB, we need to make PackStringB an instance of the Show typeclass. In the second case we get a String \"aaa\", and Haskell already knows how to \"show\" a String."
   ]
  },
  {
   "cell_type": "markdown",
   "metadata": {},
   "source": [
    "Try making PackStringB an instance of Ord **without** also giving code to make it an instance of Eq. Is this possible?"
   ]
  },
  {
   "cell_type": "code",
   "execution_count": 29,
   "metadata": {},
   "outputs": [
    {
     "ename": "",
     "evalue": "",
     "output_type": "error",
     "traceback": [
      "<interactive>:1:10: error:\n    • No instance for (Eq PackStringB) arising from the superclasses of an instance declaration\n    • In the instance declaration for ‘Ord PackStringB’"
     ]
    }
   ],
   "source": [
    "instance Ord PackStringB where\n",
    "   PackB s1 <= PackB s2 = length s1 <= length s2"
   ]
  },
  {
   "cell_type": "markdown",
   "metadata": {},
   "source": [
    "Explanation: Explain the issue here: Ord is a sub-class of Eq. So, in order to make PackStringB an instance of Ord, we first need to make it a member of the type class Eq."
   ]
  }
 ],
 "metadata": {
  "kernelspec": {
   "display_name": "Haskell",
   "language": "haskell",
   "name": "haskell"
  },
  "language_info": {
   "codemirror_mode": "ihaskell",
   "file_extension": ".hs",
   "name": "haskell",
   "pygments_lexer": "Haskell",
   "version": "8.6.5"
  }
 },
 "nbformat": 4,
 "nbformat_minor": 4
}
