{
 "cells": [
  {
   "cell_type": "markdown",
   "metadata": {},
   "source": [
    "# ECS713: Week 10"
   ]
  },
  {
   "cell_type": "markdown",
   "metadata": {},
   "source": [
    "# Monads - The Log Monad"
   ]
  },
  {
   "cell_type": "markdown",
   "metadata": {},
   "source": [
    "## Learning Objectives"
   ]
  },
  {
   "cell_type": "markdown",
   "metadata": {},
   "source": [
    "By the end of this notebook you should: \n",
    "- understand the construction of the Log monad\n",
    "- have seen examples of its use"
   ]
  },
  {
   "cell_type": "markdown",
   "metadata": {},
   "source": [
    "## The basic construction"
   ]
  },
  {
   "cell_type": "markdown",
   "metadata": {},
   "source": [
    "The Log monad allows the logging of computations. This is a simple example. "
   ]
  },
  {
   "cell_type": "markdown",
   "metadata": {},
   "source": [
    "As is normal with monads, we begin by defining the basic type constructor as a datatype. In this instance we have a simple form of the Log monad in which the Log is just structured as a String. There are other possibilities. It could be structured, for example, as a list of entries, where the entries themselves could either be Strings or possibly instances of a more specialised datatype. "
   ]
  },
  {
   "cell_type": "code",
   "execution_count": null,
   "metadata": {},
   "outputs": [],
   "source": [
    "data Log a = Log String a deriving (Eq,Show)"
   ]
  },
  {
   "cell_type": "markdown",
   "metadata": {},
   "source": [
    "The next two functions are defined for any monad. They are in the standard base (in this case in Control.Monad), but are not in the Prelude. They implement sequential application and the maps function. See http://hackage.haskell.org/package/base-4.14.0.0/docs/Control-Monad.html for documentation: "
   ]
  },
  {
   "cell_type": "code",
   "execution_count": null,
   "metadata": {},
   "outputs": [],
   "source": [
    "ap mf mx = do {x <- mx; f <- mf; return (f x)}\n",
    "liftM f mx = do {x <- mx; return (f x)}"
   ]
  },
  {
   "cell_type": "markdown",
   "metadata": {},
   "source": [
    "Now we need to turn the Log datatype into an instance of Monad, and of course also Applicative and Functor with standard boilerplate to do that. "
   ]
  },
  {
   "cell_type": "code",
   "execution_count": null,
   "metadata": {},
   "outputs": [],
   "source": [
    "-- make Monad out of Log\n",
    "instance Monad Log where\n",
    "-- compose Logs by concatenating entries, with separator \"; \"\"\n",
    "  (Log currentLog a) >>= f =\n",
    "    let Log newEntry b = f a in Log (currentLog++newEntry) b\n",
    "-- return has empty string for Log \n",
    "  return a = Log \"\" a\n",
    "\n",
    "-- standard boilerplate to get Applicative \n",
    "instance Applicative Log where\n",
    "  pure = return \n",
    "  (<*>) = ap\n",
    "\n",
    "-- standard boilerplate to get Functor \n",
    "instance Functor Log where\n",
    "  fmap = liftM"
   ]
  },
  {
   "cell_type": "markdown",
   "metadata": {},
   "source": [
    "## First use of the Log Monad"
   ]
  },
  {
   "cell_type": "markdown",
   "metadata": {},
   "source": [
    "We can use the log monad to log a sequence of actions:"
   ]
  },
  {
   "cell_type": "code",
   "execution_count": null,
   "metadata": {},
   "outputs": [],
   "source": [
    "do\n",
    "  x0 <- Log (\"initial value = \"++(show 0)++\"; \") 0\n",
    "  x1 <- Log (\"add \"++(show 3)++\"; \") (x0+3)\n",
    "  Log (\"multiply by \"++(show 2)++\"; \") (x1*2)"
   ]
  },
  {
   "cell_type": "markdown",
   "metadata": {},
   "source": [
    "The actions here are `start with 0`, `add 3` and `multiply by 2`, and can be seen on the right. Note there is no `return` statement, but we could give add that (redundantly): "
   ]
  },
  {
   "cell_type": "code",
   "execution_count": null,
   "metadata": {},
   "outputs": [],
   "source": [
    "do\n",
    "  x0 <- Log (\"initial value = \"++(show 0)++\"; \") 0\n",
    "  x1 <- Log (\"add \"++(show 3)++\"; \") (x0+3)\n",
    "  x2 <- Log (\"multiply by \"++(show 2)++\"; \") (x1*2)\n",
    "  return x2"
   ]
  },
  {
   "cell_type": "markdown",
   "metadata": {},
   "source": [
    "To make things clearer, let's wrap these actions up in some functions: "
   ]
  },
  {
   "cell_type": "code",
   "execution_count": null,
   "metadata": {},
   "outputs": [],
   "source": [
    "-- three functions to log inititalisation, addition and multiplication\n",
    "logInit :: Show a => a -> Log a\n",
    "logInit n = Log (\"initial value = \"++ show n ++\"; \") n\n",
    "\n",
    "logAdd :: (Show a, Num a) => a -> a -> Log a \n",
    "logAdd m n = Log (\"add \"++ show m ++\"; \") (n+m)\n",
    "\n",
    "logMult :: (Show a, Num a) => a -> a -> Log a \n",
    "logMult m n = Log (\"multiply by \"++ show m ++ \"; \") (n*m)"
   ]
  },
  {
   "cell_type": "markdown",
   "metadata": {},
   "source": [
    "So our code becomes: "
   ]
  },
  {
   "cell_type": "code",
   "execution_count": null,
   "metadata": {},
   "outputs": [],
   "source": [
    "do\n",
    "  x <- logInit 0\n",
    "  y <- logAdd 3 x\n",
    "  logMult 2 y"
   ]
  },
  {
   "cell_type": "markdown",
   "metadata": {},
   "source": [
    "And if we put it into the bind pipeline style: "
   ]
  },
  {
   "cell_type": "code",
   "execution_count": null,
   "metadata": {},
   "outputs": [],
   "source": [
    "logInit 0 >>= logAdd 3 >>= logMult 2"
   ]
  },
  {
   "cell_type": "markdown",
   "metadata": {},
   "source": [
    "**Exercise 1.** Write code to log the following sequence of actions: \n",
    "- start with 3\n",
    "- add 6 \n",
    "- multiply by 8\n",
    "- subtract 2"
   ]
  },
  {
   "cell_type": "code",
   "execution_count": null,
   "metadata": {},
   "outputs": [],
   "source": []
  },
  {
   "cell_type": "markdown",
   "metadata": {},
   "source": [
    "## Another use: `foldr` and `foldl`"
   ]
  },
  {
   "cell_type": "markdown",
   "metadata": {},
   "source": [
    "We can use the Log monad to see how `foldr` and `foldl` iterate over the elements of a list. "
   ]
  },
  {
   "cell_type": "markdown",
   "metadata": {},
   "source": [
    "Here is the code for `foldr`:\n",
    "\n",
    "```-- if the list is empty, the result is the initial value z; else \n",
    "-- apply f to the first element and the result of folding the rest \n",
    "foldr f z [] = z\n",
    "foldr f z (x:xs) = f x (foldr f z xs)```"
   ]
  },
  {
   "cell_type": "markdown",
   "metadata": {},
   "source": [
    "We refactor this in more monadic style: "
   ]
  },
  {
   "cell_type": "code",
   "execution_count": null,
   "metadata": {},
   "outputs": [],
   "source": [
    "foldr' f z [] = z\n",
    "foldr' f z (x:xs) = \n",
    "  do\n",
    "    a <- foldr' f z xs\n",
    "    f x a   "
   ]
  },
  {
   "cell_type": "code",
   "execution_count": null,
   "metadata": {},
   "outputs": [],
   "source": [
    ":t foldr'"
   ]
  },
  {
   "cell_type": "code",
   "execution_count": null,
   "metadata": {},
   "outputs": [],
   "source": [
    "foldr' logAdd (logInit 10) [1..4]"
   ]
  },
  {
   "cell_type": "markdown",
   "metadata": {},
   "source": [
    "Or if we want to track the calls to the accumulator function, we redefine the Log produced by `logAdd`: "
   ]
  },
  {
   "cell_type": "code",
   "execution_count": null,
   "metadata": {},
   "outputs": [],
   "source": [
    "logPlus x y = Log (show x ++ \"+\" ++ show y ++ \"; \") (x+y)"
   ]
  },
  {
   "cell_type": "code",
   "execution_count": null,
   "metadata": {},
   "outputs": [],
   "source": [
    "foldr' logPlus (logInit 10) [1..4]"
   ]
  },
  {
   "cell_type": "markdown",
   "metadata": {},
   "source": [
    "As we might expect, the types don't work with `foldr` iteself: "
   ]
  },
  {
   "cell_type": "code",
   "execution_count": null,
   "metadata": {},
   "outputs": [],
   "source": [
    "foldr logPlus (logInit 10) [1..4]"
   ]
  },
  {
   "cell_type": "markdown",
   "metadata": {},
   "source": [
    "We can handle `foldl` similarly. "
   ]
  },
  {
   "cell_type": "markdown",
   "metadata": {},
   "source": [
    "Here is the code for `foldl`:\n",
    "\n",
    "```-- if the list is empty, the result is the initial value; else\n",
    "-- we recurse immediately, making the new initial value the result \n",
    "-- of combining the old initial value with the first element. \n",
    "foldlf z [] = z\n",
    "foldl f z (x:xs) = foldl f (f z x) xs```"
   ]
  },
  {
   "cell_type": "markdown",
   "metadata": {},
   "source": [
    "The translation into monadic style is: "
   ]
  },
  {
   "cell_type": "code",
   "execution_count": null,
   "metadata": {},
   "outputs": [],
   "source": [
    "foldl' f z [] = z\n",
    "foldl' f z (x:xs) = \n",
    "  do\n",
    "    z' <- z   \n",
    "    let a = f z' x\n",
    "    foldl' f a xs"
   ]
  },
  {
   "cell_type": "code",
   "execution_count": null,
   "metadata": {},
   "outputs": [],
   "source": [
    "foldr' logPlus (logInit 10) [1..4]\n",
    "foldl' logPlus (logInit 10) [1..4]"
   ]
  },
  {
   "cell_type": "code",
   "execution_count": null,
   "metadata": {},
   "outputs": [],
   "source": [
    ":t foldl'"
   ]
  },
  {
   "cell_type": "code",
   "execution_count": null,
   "metadata": {},
   "outputs": [],
   "source": [
    ":t foldr'"
   ]
  },
  {
   "cell_type": "markdown",
   "metadata": {},
   "source": [
    "So we can see that foldl and foldt work through the list in opposite directions. "
   ]
  },
  {
   "cell_type": "markdown",
   "metadata": {},
   "source": [
    "## Exercises"
   ]
  },
  {
   "cell_type": "markdown",
   "metadata": {},
   "source": [
    "**2.** A classic fold example is the use of fold to define `concat` by iterating append, either `foldl` or `foldr` works (because append is associative and `[]` is its unit):"
   ]
  },
  {
   "cell_type": "code",
   "execution_count": null,
   "metadata": {},
   "outputs": [],
   "source": [
    "concat' = foldr (++) []\n",
    "concat'' = foldl (++) []"
   ]
  },
  {
   "cell_type": "code",
   "execution_count": null,
   "metadata": {},
   "outputs": [],
   "source": [
    "concat' [\"cat\",\"dog\",\"gnu\"]\n",
    "concat'' [\"cat\",\"dog\",\"gnu\"]"
   ]
  },
  {
   "cell_type": "markdown",
   "metadata": {},
   "source": [
    "Use the Log monad to log these two, using the functions `foldr'` and `foldl'`. You will need to implement a logged version of append (`++`). Here are sample logs: \n",
    "\n",
    "```Log \"initial value = \\\"\\\"; \\\"\\\"++\\\"cat\\\"; \\\"cat\\\"++\\\"dog\\\"; \\\"catdog\\\"++\\\"gnu\\\"; \" \"catdoggnu\"```\n",
    "\n",
    "```Log \"initial value = \\\"\\\"; \\\"gnu\\\"++\\\"\\\"; \\\"dog\\\"++\\\"gnu\\\"; \\\"cat\\\"++\\\"doggnu\\\"; \" \"catdoggnu\"```\n"
   ]
  },
  {
   "cell_type": "code",
   "execution_count": null,
   "metadata": {},
   "outputs": [],
   "source": [
    "logApp x y = undefined\n",
    "foldr' logApp (logInit []) [\"cat\",\"dog\",\"gnu\"]\n",
    "foldl' logApp (logInit []) [\"cat\",\"dog\",\"gnu\"]"
   ]
  },
  {
   "cell_type": "markdown",
   "metadata": {},
   "source": [
    "**3.** Another classic example is using `foldl` to reverse a list. This uses what is essentially `(:)` as the accumulator function (we have to reverse the order of the arguments), and it shows up a difference in behaviour between `foldl` and `foldr`:"
   ]
  },
  {
   "cell_type": "code",
   "execution_count": null,
   "metadata": {},
   "outputs": [],
   "source": [
    ":t foldr\n",
    "foldr (:) [] [1..4]\n",
    ":t foldl\n",
    "foldl (\\xs x -> x:xs) [] [1..4]"
   ]
  },
  {
   "cell_type": "markdown",
   "metadata": {},
   "source": [
    "Use the Log monad together with `foldl'` and `foldr'` to log these functions. "
   ]
  },
  {
   "cell_type": "code",
   "execution_count": null,
   "metadata": {},
   "outputs": [],
   "source": [
    "logCons x y = undefined\n",
    "foldr' logCons (logInit []) [1,2]\n",
    "foldl' (\\xs x -> logCons x xs) (logInit []) [1,2]"
   ]
  },
  {
   "cell_type": "markdown",
   "metadata": {},
   "source": [
    "Explain why in this instance `foldl` reverses the list, while `foldr` leaves it unchanged. Use the list `[1,2]` as an example. "
   ]
  },
  {
   "cell_type": "markdown",
   "metadata": {},
   "source": [
    "Explanation here: "
   ]
  },
  {
   "cell_type": "markdown",
   "metadata": {},
   "source": [
    "**4.** We move on to another monad, the use of State. Here is a StateTransformer monad.  "
   ]
  },
  {
   "cell_type": "code",
   "execution_count": null,
   "metadata": {},
   "outputs": [],
   "source": [
    "data StateTransformer s t = StateTransformer (s -> (s,t))"
   ]
  },
  {
   "cell_type": "code",
   "execution_count": null,
   "metadata": {
    "scrolled": true
   },
   "outputs": [],
   "source": [
    "runST (StateTransformer f) = f\n",
    "\n",
    "showRunST stf init = let (final,_) = runST stf init in \"initial state is \"++show init++\"; final state is \"++show final\n",
    "\n",
    "instance Monad (StateTransformer s) where\n",
    "  return t = StateTransformer (\\s -> (s,t))\n",
    "  (>>=) st1 g = StateTransformer (\\s -> let (s1,t1) = runST st1 s in runST (g t1) s1)\n",
    "\n",
    "instance Applicative (StateTransformer s) where\n",
    "  pure = return\n",
    "  (<*>) = ap\n",
    "  \n",
    "instance Functor (StateTransformer s) where\n",
    "  fmap = liftM"
   ]
  },
  {
   "cell_type": "markdown",
   "metadata": {},
   "source": [
    "The first exercise is to use this monad. Consider the case when the state s is `Int`. Implement functions StateTransformer actions of type Int"
   ]
  },
  {
   "cell_type": "code",
   "execution_count": null,
   "metadata": {},
   "outputs": [],
   "source": [
    "stAdd :: Int -> StateTransformer Int ()\n",
    "stAdd n = undefined\n",
    "\n",
    "stMult :: Int -> StateTransformer Int ()\n",
    "stMult n = undefined"
   ]
  },
  {
   "cell_type": "markdown",
   "metadata": {},
   "source": [
    "Test them (you should get `\"initial state is 0; final state is 15\"`: "
   ]
  },
  {
   "cell_type": "code",
   "execution_count": null,
   "metadata": {},
   "outputs": [],
   "source": [
    "com = do\n",
    "  stAdd 3\n",
    "  stMult 5\n",
    "\n",
    "showRunST com 0\n",
    " "
   ]
  },
  {
   "cell_type": "markdown",
   "metadata": {},
   "source": [
    "Now combine the Log and the State Transformer. Complete the bind method: "
   ]
  },
  {
   "cell_type": "code",
   "execution_count": null,
   "metadata": {},
   "outputs": [],
   "source": [
    "data LoggedStateTransformer s t = LoggedStateTransformer (String, s -> (s,t))"
   ]
  },
  {
   "cell_type": "code",
   "execution_count": null,
   "metadata": {},
   "outputs": [],
   "source": [
    "runLST (LoggedStateTransformer (s,f)) = f\n",
    "\n",
    "instance Monad (LoggedStateTransformer s) where\n",
    "  return t = LoggedStateTransformer (\"\",\\s -> (s,t))\n",
    "  (>>=) lst1 g = undefined\n",
    " \n",
    "instance Applicative (LoggedStateTransformer s) where\n",
    "  pure = return\n",
    "  (<*>) = ap\n",
    "  \n",
    "instance Functor (LoggedStateTransformer s) where\n",
    "  fmap = liftM"
   ]
  },
  {
   "cell_type": "markdown",
   "metadata": {},
   "source": [
    "Test this by adapting the previous example. "
   ]
  },
  {
   "cell_type": "code",
   "execution_count": null,
   "metadata": {},
   "outputs": [],
   "source": []
  },
  {
   "cell_type": "code",
   "execution_count": null,
   "metadata": {},
   "outputs": [],
   "source": []
  }
 ],
 "metadata": {
  "kernelspec": {
   "display_name": "Haskell",
   "language": "haskell",
   "name": "haskell"
  },
  "language_info": {
   "codemirror_mode": "ihaskell",
   "file_extension": ".hs",
   "name": "haskell",
   "pygments_lexer": "Haskell",
   "version": "8.6.5"
  }
 },
 "nbformat": 4,
 "nbformat_minor": 4
}
