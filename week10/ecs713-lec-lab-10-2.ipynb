{
 "cells": [
  {
   "cell_type": "markdown",
   "metadata": {},
   "source": [
    "# ECS713: Week 10 Lecture and Lab Sheet"
   ]
  },
  {
   "cell_type": "markdown",
   "metadata": {},
   "source": [
    "In this sheet we will look at Hutton and Meijer's beautiful work on monadic parsing. See \n",
    "https://nottingham-repository.worktribe.com/output/1024100 for the inspiration and details. "
   ]
  },
  {
   "cell_type": "markdown",
   "metadata": {},
   "source": [
    "## 0. Standard functions and types from Hutton-Meijer"
   ]
  },
  {
   "cell_type": "code",
   "execution_count": 4,
   "metadata": {},
   "outputs": [],
   "source": [
    "-- The basic parser type\n",
    "-- We could also use data Parser a = ... \n",
    "newtype Parser a = Parser (String -> [(a,String)])"
   ]
  },
  {
   "cell_type": "markdown",
   "metadata": {},
   "source": [
    "The basic idea is that a Parser for an expression encoding an object of type `a` is something that takes a `String` and produces the list of possible parses, together with, in each case, the remaining string after we've gobbled up the expression we need. This is a combination of the nondeterminism and State monads, where the State is just the remaining string. All this is wrapped up into a datatype so we can make it into a monad. "
   ]
  },
  {
   "cell_type": "markdown",
   "metadata": {},
   "source": [
    "But objects of type `Parser` are painful to use, so we have a useful little function to help. "
   ]
  },
  {
   "cell_type": "code",
   "execution_count": 5,
   "metadata": {},
   "outputs": [
    {
     "data": {
      "text/html": [
       "<style>/* Styles used for the Hoogle display in the pager */\n",
       ".hoogle-doc {\n",
       "display: block;\n",
       "padding-bottom: 1.3em;\n",
       "padding-left: 0.4em;\n",
       "}\n",
       ".hoogle-code {\n",
       "display: block;\n",
       "font-family: monospace;\n",
       "white-space: pre;\n",
       "}\n",
       ".hoogle-text {\n",
       "display: block;\n",
       "}\n",
       ".hoogle-name {\n",
       "color: green;\n",
       "font-weight: bold;\n",
       "}\n",
       ".hoogle-head {\n",
       "font-weight: bold;\n",
       "}\n",
       ".hoogle-sub {\n",
       "display: block;\n",
       "margin-left: 0.4em;\n",
       "}\n",
       ".hoogle-package {\n",
       "font-weight: bold;\n",
       "font-style: italic;\n",
       "}\n",
       ".hoogle-module {\n",
       "font-weight: bold;\n",
       "}\n",
       ".hoogle-class {\n",
       "font-weight: bold;\n",
       "}\n",
       ".get-type {\n",
       "color: green;\n",
       "font-weight: bold;\n",
       "font-family: monospace;\n",
       "display: block;\n",
       "white-space: pre-wrap;\n",
       "}\n",
       ".show-type {\n",
       "color: green;\n",
       "font-weight: bold;\n",
       "font-family: monospace;\n",
       "margin-left: 1em;\n",
       "}\n",
       ".mono {\n",
       "font-family: monospace;\n",
       "display: block;\n",
       "}\n",
       ".err-msg {\n",
       "color: red;\n",
       "font-style: italic;\n",
       "font-family: monospace;\n",
       "white-space: pre;\n",
       "display: block;\n",
       "}\n",
       "#unshowable {\n",
       "color: red;\n",
       "font-weight: bold;\n",
       "}\n",
       ".err-msg.in.collapse {\n",
       "padding-top: 0.7em;\n",
       "}\n",
       ".highlight-code {\n",
       "white-space: pre;\n",
       "font-family: monospace;\n",
       "}\n",
       ".suggestion-warning { \n",
       "font-weight: bold;\n",
       "color: rgb(200, 130, 0);\n",
       "}\n",
       ".suggestion-error { \n",
       "font-weight: bold;\n",
       "color: red;\n",
       "}\n",
       ".suggestion-name {\n",
       "font-weight: bold;\n",
       "}\n",
       "</style><div class=\"suggestion-name\" style=\"clear:both;\">Eta reduce</div><div class=\"suggestion-row\" style=\"float: left;\"><div class=\"suggestion-warning\">Found:</div><div class=\"highlight-code\" id=\"haskell\">parse (Parser f) cs = f cs</div></div><div class=\"suggestion-row\" style=\"float: left;\"><div class=\"suggestion-warning\">Why Not:</div><div class=\"highlight-code\" id=\"haskell\">parse (Parser f) = f</div></div>"
      ],
      "text/plain": [
       "Line 4: Eta reduce\n",
       "Found:\n",
       "parse (Parser f) cs = f cs\n",
       "Why not:\n",
       "parse (Parser f) = f"
      ]
     },
     "metadata": {},
     "output_type": "display_data"
    }
   ],
   "source": [
    "-- Basic function for using a parser: \n",
    "-- unwrap the Parser and apply it\n",
    "parse :: Parser a -> String -> [(a,String)]\n",
    "parse (Parser f) cs = f cs"
   ]
  },
  {
   "cell_type": "markdown",
   "metadata": {},
   "source": [
    "And we often want only parses that use the whole string, not just an initial bit. "
   ]
  },
  {
   "cell_type": "code",
   "execution_count": 6,
   "metadata": {},
   "outputs": [],
   "source": [
    "-- Many applications of parse parse only an initial expression. \n",
    "-- completeParse returns only those parses where the complete string \n",
    "-- has been used.  \n",
    "completeParse :: Parser a -> String -> [a]\n",
    "completeParse p cs = map fst $ filter (\\(e,s) -> null s) $ parse p cs"
   ]
  },
  {
   "cell_type": "markdown",
   "metadata": {},
   "source": [
    "Now we make it into a monad: "
   ]
  },
  {
   "cell_type": "code",
   "execution_count": 7,
   "metadata": {},
   "outputs": [],
   "source": [
    "instance Monad Parser where\n",
    "   return a = Parser (\\cs -> [(a,cs)])\n",
    "   p >>= f  = Parser (\\cs -> concat [parse (f a) cs' |\n",
    "                                 (a,cs') <- parse p cs])\n",
    "\n",
    "instance Applicative Parser where\n",
    "   pure = return\n",
    "   (<*>) mf ma = mf >>= (\\f -> ma >>= (return . f))\n",
    "                                   \n",
    "instance Functor Parser where \n",
    "   fmap = (<*>) . pure"
   ]
  },
  {
   "cell_type": "markdown",
   "metadata": {},
   "source": [
    "Note the boilerplate for Applicative and Functor. "
   ]
  },
  {
   "cell_type": "markdown",
   "metadata": {},
   "source": [
    "We'll extend our monad class so that it includes a zero, to represent failure: "
   ]
  },
  {
   "cell_type": "code",
   "execution_count": 10,
   "metadata": {},
   "outputs": [],
   "source": [
    "-- Extension of Monad class to include zero (fail)                                   \n",
    "class Monad m => MonadZero m where\n",
    "  zero :: m a"
   ]
  },
  {
   "cell_type": "markdown",
   "metadata": {},
   "source": [
    "And so that it includes nondeterministic choice: "
   ]
  },
  {
   "cell_type": "code",
   "execution_count": 9,
   "metadata": {},
   "outputs": [],
   "source": [
    "-- Extension of Monad class to include nondeterministic choice                                   \n",
    "-- +++ is ++ in Hutton-Meijer\n",
    "class MonadZero m => MonadPlus m where\n",
    "  (+++) :: m a -> m a -> m a"
   ]
  },
  {
   "cell_type": "markdown",
   "metadata": {},
   "source": [
    "We make `Parser` into an instance of both of these:"
   ]
  },
  {
   "cell_type": "code",
   "execution_count": 11,
   "metadata": {},
   "outputs": [
    {
     "data": {
      "text/html": [
       "<style>/* Styles used for the Hoogle display in the pager */\n",
       ".hoogle-doc {\n",
       "display: block;\n",
       "padding-bottom: 1.3em;\n",
       "padding-left: 0.4em;\n",
       "}\n",
       ".hoogle-code {\n",
       "display: block;\n",
       "font-family: monospace;\n",
       "white-space: pre;\n",
       "}\n",
       ".hoogle-text {\n",
       "display: block;\n",
       "}\n",
       ".hoogle-name {\n",
       "color: green;\n",
       "font-weight: bold;\n",
       "}\n",
       ".hoogle-head {\n",
       "font-weight: bold;\n",
       "}\n",
       ".hoogle-sub {\n",
       "display: block;\n",
       "margin-left: 0.4em;\n",
       "}\n",
       ".hoogle-package {\n",
       "font-weight: bold;\n",
       "font-style: italic;\n",
       "}\n",
       ".hoogle-module {\n",
       "font-weight: bold;\n",
       "}\n",
       ".hoogle-class {\n",
       "font-weight: bold;\n",
       "}\n",
       ".get-type {\n",
       "color: green;\n",
       "font-weight: bold;\n",
       "font-family: monospace;\n",
       "display: block;\n",
       "white-space: pre-wrap;\n",
       "}\n",
       ".show-type {\n",
       "color: green;\n",
       "font-weight: bold;\n",
       "font-family: monospace;\n",
       "margin-left: 1em;\n",
       "}\n",
       ".mono {\n",
       "font-family: monospace;\n",
       "display: block;\n",
       "}\n",
       ".err-msg {\n",
       "color: red;\n",
       "font-style: italic;\n",
       "font-family: monospace;\n",
       "white-space: pre;\n",
       "display: block;\n",
       "}\n",
       "#unshowable {\n",
       "color: red;\n",
       "font-weight: bold;\n",
       "}\n",
       ".err-msg.in.collapse {\n",
       "padding-top: 0.7em;\n",
       "}\n",
       ".highlight-code {\n",
       "white-space: pre;\n",
       "font-family: monospace;\n",
       "}\n",
       ".suggestion-warning { \n",
       "font-weight: bold;\n",
       "color: rgb(200, 130, 0);\n",
       "}\n",
       ".suggestion-error { \n",
       "font-weight: bold;\n",
       "color: red;\n",
       "}\n",
       ".suggestion-name {\n",
       "font-weight: bold;\n",
       "}\n",
       "</style><div class=\"suggestion-name\" style=\"clear:both;\">Use const</div><div class=\"suggestion-row\" style=\"float: left;\"><div class=\"suggestion-warning\">Found:</div><div class=\"highlight-code\" id=\"haskell\">\\ cs -> []</div></div><div class=\"suggestion-row\" style=\"float: left;\"><div class=\"suggestion-warning\">Why Not:</div><div class=\"highlight-code\" id=\"haskell\">const []</div></div>"
      ],
      "text/plain": [
       "Line 3: Use const\n",
       "Found:\n",
       "\\ cs -> []\n",
       "Why not:\n",
       "const []"
      ]
     },
     "metadata": {},
     "output_type": "display_data"
    }
   ],
   "source": [
    "-- Definition of zero (fail) for Parsers\n",
    "instance MonadZero Parser where\n",
    "   zero   = Parser (\\cs -> [])\n",
    "\n",
    "-- Definition of non-deterministic choice for Parsers\n",
    "-- +++ is ++ in Hutton-Meijer   \n",
    "instance MonadPlus Parser where\n",
    "  p +++ q = Parser (\\cs -> parse p cs ++ parse q cs)   "
   ]
  },
  {
   "cell_type": "markdown",
   "metadata": {},
   "source": [
    "And we add another slightly more efficient nondeterministic choice function: "
   ]
  },
  {
   "cell_type": "code",
   "execution_count": 12,
   "metadata": {},
   "outputs": [],
   "source": [
    "-- This version of non-deterministic choice only returns the first \n",
    "-- successful result\n",
    "-- ++! is +++ in Hutton-Meijer\n",
    "(++!)  :: Parser a -> Parser a -> Parser a\n",
    "p ++! q = Parser (\\cs -> case parse (p +++ q) cs of\n",
    "  []     -> []\n",
    "  (x:xs) -> [x])     "
   ]
  },
  {
   "cell_type": "markdown",
   "metadata": {},
   "source": [
    "And now we define our first actual parser. It is not exciting. It reads one character of input and parses it as itself. "
   ]
  },
  {
   "cell_type": "code",
   "execution_count": 13,
   "metadata": {},
   "outputs": [
    {
     "data": {
      "text/html": [
       "<style>/* Styles used for the Hoogle display in the pager */\n",
       ".hoogle-doc {\n",
       "display: block;\n",
       "padding-bottom: 1.3em;\n",
       "padding-left: 0.4em;\n",
       "}\n",
       ".hoogle-code {\n",
       "display: block;\n",
       "font-family: monospace;\n",
       "white-space: pre;\n",
       "}\n",
       ".hoogle-text {\n",
       "display: block;\n",
       "}\n",
       ".hoogle-name {\n",
       "color: green;\n",
       "font-weight: bold;\n",
       "}\n",
       ".hoogle-head {\n",
       "font-weight: bold;\n",
       "}\n",
       ".hoogle-sub {\n",
       "display: block;\n",
       "margin-left: 0.4em;\n",
       "}\n",
       ".hoogle-package {\n",
       "font-weight: bold;\n",
       "font-style: italic;\n",
       "}\n",
       ".hoogle-module {\n",
       "font-weight: bold;\n",
       "}\n",
       ".hoogle-class {\n",
       "font-weight: bold;\n",
       "}\n",
       ".get-type {\n",
       "color: green;\n",
       "font-weight: bold;\n",
       "font-family: monospace;\n",
       "display: block;\n",
       "white-space: pre-wrap;\n",
       "}\n",
       ".show-type {\n",
       "color: green;\n",
       "font-weight: bold;\n",
       "font-family: monospace;\n",
       "margin-left: 1em;\n",
       "}\n",
       ".mono {\n",
       "font-family: monospace;\n",
       "display: block;\n",
       "}\n",
       ".err-msg {\n",
       "color: red;\n",
       "font-style: italic;\n",
       "font-family: monospace;\n",
       "white-space: pre;\n",
       "display: block;\n",
       "}\n",
       "#unshowable {\n",
       "color: red;\n",
       "font-weight: bold;\n",
       "}\n",
       ".err-msg.in.collapse {\n",
       "padding-top: 0.7em;\n",
       "}\n",
       ".highlight-code {\n",
       "white-space: pre;\n",
       "font-family: monospace;\n",
       "}\n",
       ".suggestion-warning { \n",
       "font-weight: bold;\n",
       "color: rgb(200, 130, 0);\n",
       "}\n",
       ".suggestion-error { \n",
       "font-weight: bold;\n",
       "color: red;\n",
       "}\n",
       ".suggestion-name {\n",
       "font-weight: bold;\n",
       "}\n",
       "</style><div class=\"suggestion-name\" style=\"clear:both;\">Use lambda-case</div><div class=\"suggestion-row\" style=\"float: left;\"><div class=\"suggestion-warning\">Found:</div><div class=\"highlight-code\" id=\"haskell\">\\ cs ->\n",
       "  case cs of\n",
       "      \"\" -> []\n",
       "      (c : cs) -> [(c, cs)]</div></div><div class=\"suggestion-row\" style=\"float: left;\"><div class=\"suggestion-warning\">Why Not:</div><div class=\"highlight-code\" id=\"haskell\">\\case\n",
       "    \"\" -> []\n",
       "    (c : cs) -> [(c, cs)]</div></div>"
      ],
      "text/plain": [
       "Line 4: Use lambda-case\n",
       "Found:\n",
       "\\ cs ->\n",
       "  case cs of\n",
       "      \"\" -> []\n",
       "      (c : cs) -> [(c, cs)]\n",
       "Why not:\n",
       "\\case\n",
       "    \"\" -> []\n",
       "    (c : cs) -> [(c, cs)]"
      ]
     },
     "metadata": {},
     "output_type": "display_data"
    }
   ],
   "source": [
    "-- a first concrete parser... reads the first character of input, if non-empty\n",
    "-- fails on empty string. \n",
    "item :: Parser Char\n",
    "item  = Parser (\\cs -> case cs of\n",
    "    \"\"     -> []\n",
    "    (c:cs) -> [(c,cs)])"
   ]
  },
  {
   "cell_type": "markdown",
   "metadata": {},
   "source": [
    "So testing that: "
   ]
  },
  {
   "cell_type": "code",
   "execution_count": 14,
   "metadata": {},
   "outputs": [
    {
     "data": {
      "text/plain": [
       "[('H',\"ello\")]"
      ]
     },
     "metadata": {},
     "output_type": "display_data"
    }
   ],
   "source": [
    "parse item \"Hello\""
   ]
  },
  {
   "cell_type": "markdown",
   "metadata": {},
   "source": [
    "We can make it a bit more exciting: "
   ]
  },
  {
   "cell_type": "code",
   "execution_count": 15,
   "metadata": {},
   "outputs": [],
   "source": [
    "-- This parser checks whether the first character satisfies a property p\n",
    "-- Note p is for property here, not parser. \n",
    "sat  :: (Char -> Bool) -> Parser Char\n",
    "sat p = do {c <- item; if p c then return c else zero}"
   ]
  },
  {
   "cell_type": "code",
   "execution_count": 18,
   "metadata": {},
   "outputs": [
    {
     "data": {
      "text/plain": [
       "[('H',\"ello\")]"
      ]
     },
     "metadata": {},
     "output_type": "display_data"
    },
    {
     "data": {
      "text/plain": [
       "[]"
      ]
     },
     "metadata": {},
     "output_type": "display_data"
    }
   ],
   "source": [
    "parse (sat (=='H')) \"Hello\"\n",
    "parse (sat (=='H')) \"hello\""
   ]
  },
  {
   "cell_type": "markdown",
   "metadata": {},
   "source": [
    "## 1. A grammar for arithmetic expressions"
   ]
  },
  {
   "cell_type": "markdown",
   "metadata": {},
   "source": [
    "We are going to produce a parser for simple arithmetical expressions in a very systematic way starting from a context-free grammar. Context-free grammars are the standard classical way of specifying syntax. "
   ]
  },
  {
   "cell_type": "markdown",
   "metadata": {},
   "source": [
    "**EXAMPLE:** A standard grammar for arithmetical expressions \n",
    "slightly modified from Hutton-Meijer\n",
    "```\n",
    "expr ::= term addop expr | term\n",
    "term ::= factor mulop term |factor\n",
    "factor ::= digits | (expr)\n",
    "digits ::= digit | digit digits\n",
    "digit ::= 0 | 1 |...| 9\n",
    "addop ::= + | -\n",
    "mulop ::= * | /\n",
    "```"
   ]
  },
  {
   "cell_type": "markdown",
   "metadata": {},
   "source": [
    "Example: `3*4+5` should parse as an `expr` of form \n",
    "```term addop expr```\n",
    "where the `term` is `3*4`, `addop` is `+` and `expr` is `5`"
   ]
  },
  {
   "cell_type": "markdown",
   "metadata": {},
   "source": [
    "## 2. An algebraic datatype from the context-free grammar"
   ]
  },
  {
   "cell_type": "markdown",
   "metadata": {},
   "source": [
    "More accurately, this is a whole collection of mutually recursive algebraic datatypes, one for each grammatical category. Never mind, they're constructed systematically: "
   ]
  },
  {
   "cell_type": "code",
   "execution_count": 22,
   "metadata": {},
   "outputs": [
    {
     "ename": "",
     "evalue": "",
     "output_type": "error",
     "traceback": [
      "<interactive>:1:22: error: Not in scope: type constructor or class ‘Term’\n<interactive>:1:27: error: Not in scope: type constructor or class ‘AddOp’\n<interactive>:1:51: error: Not in scope: type constructor or class ‘Term’"
     ]
    }
   ],
   "source": [
    "-- expr ::= term addop expr | term\n",
    "data Expr = CompExpr Term AddOp Expr | SimpleExpr Term  deriving (Eq,Show)"
   ]
  },
  {
   "cell_type": "markdown",
   "metadata": {},
   "source": [
    "This won't compile because we don't have all the datatypes, but... \n",
    "\n",
    "The two constructors correspond to the two cases, and the parameters for each constructor correspond to the grammatical categories in the case in the context-free grammar. So the case `expr ::= term addop expr | ..` becomes \n",
    "``data Expr = CompExpr Term AddOp Expr | ..``"
   ]
  },
  {
   "cell_type": "markdown",
   "metadata": {},
   "source": [
    "Here is the whole thing (which will compile): "
   ]
  },
  {
   "cell_type": "code",
   "execution_count": 25,
   "metadata": {},
   "outputs": [],
   "source": [
    "data Expr = CompExpr Term AddOp Expr | SimpleExpr Term  deriving (Eq,Show)\n",
    "data Term = CompTerm Factor MulOp Term |SimpleTerm Factor deriving (Eq,Show)\n",
    "data Factor = NumFactor Digits | Bracket Expr deriving (Eq,Show)\n",
    "data Digits = Single Digit | Many Digit Digits deriving (Eq,Show)\n",
    "data Digit = Nought | One | Two | Three | Four | Five | Six | Seven | Eight | Nine \n",
    "   deriving (Eq,Show)\n",
    "data AddOp = Plus | Minus deriving (Eq,Show)\n",
    "data MulOp = Times | Divide deriving (Eq,Show)"
   ]
  },
  {
   "cell_type": "markdown",
   "metadata": {},
   "source": [
    "## 3. Deriving the parser from the context-free grammar"
   ]
  },
  {
   "cell_type": "markdown",
   "metadata": {},
   "source": [
    "This is structured to follow the grammar systematically. It is not optimised in any way except at the end. "
   ]
  },
  {
   "cell_type": "markdown",
   "metadata": {},
   "source": [
    "- For every grammatical category there is a parser of the corresponding type. For example, `expr` has a parser, `parseExpr :: Parser Expr`. \n",
    "- For every case (and hence every datatype constructor) there is a parser of the corresponding type. For example: \n",
    "`parseCompExpr :: Parser Expr`\n",
    "- the parser for each grammatical category is defined to be the nondeterministic choice of the parsers for the cases. For example; `parseExpr = parseCompExpr +++ parseSimpleExpr`\n",
    "- the parser for each case is a do block."
   ]
  },
  {
   "cell_type": "code",
   "execution_count": 27,
   "metadata": {},
   "outputs": [
    {
     "data": {
      "text/html": [
       "<style>/* Styles used for the Hoogle display in the pager */\n",
       ".hoogle-doc {\n",
       "display: block;\n",
       "padding-bottom: 1.3em;\n",
       "padding-left: 0.4em;\n",
       "}\n",
       ".hoogle-code {\n",
       "display: block;\n",
       "font-family: monospace;\n",
       "white-space: pre;\n",
       "}\n",
       ".hoogle-text {\n",
       "display: block;\n",
       "}\n",
       ".hoogle-name {\n",
       "color: green;\n",
       "font-weight: bold;\n",
       "}\n",
       ".hoogle-head {\n",
       "font-weight: bold;\n",
       "}\n",
       ".hoogle-sub {\n",
       "display: block;\n",
       "margin-left: 0.4em;\n",
       "}\n",
       ".hoogle-package {\n",
       "font-weight: bold;\n",
       "font-style: italic;\n",
       "}\n",
       ".hoogle-module {\n",
       "font-weight: bold;\n",
       "}\n",
       ".hoogle-class {\n",
       "font-weight: bold;\n",
       "}\n",
       ".get-type {\n",
       "color: green;\n",
       "font-weight: bold;\n",
       "font-family: monospace;\n",
       "display: block;\n",
       "white-space: pre-wrap;\n",
       "}\n",
       ".show-type {\n",
       "color: green;\n",
       "font-weight: bold;\n",
       "font-family: monospace;\n",
       "margin-left: 1em;\n",
       "}\n",
       ".mono {\n",
       "font-family: monospace;\n",
       "display: block;\n",
       "}\n",
       ".err-msg {\n",
       "color: red;\n",
       "font-style: italic;\n",
       "font-family: monospace;\n",
       "white-space: pre;\n",
       "display: block;\n",
       "}\n",
       "#unshowable {\n",
       "color: red;\n",
       "font-weight: bold;\n",
       "}\n",
       ".err-msg.in.collapse {\n",
       "padding-top: 0.7em;\n",
       "}\n",
       ".highlight-code {\n",
       "white-space: pre;\n",
       "font-family: monospace;\n",
       "}\n",
       ".suggestion-warning { \n",
       "font-weight: bold;\n",
       "color: rgb(200, 130, 0);\n",
       "}\n",
       ".suggestion-error { \n",
       "font-weight: bold;\n",
       "color: red;\n",
       "}\n",
       ".suggestion-name {\n",
       "font-weight: bold;\n",
       "}\n",
       "</style><div class=\"suggestion-name\" style=\"clear:both;\">Use <$></div><div class=\"suggestion-row\" style=\"float: left;\"><div class=\"suggestion-warning\">Found:</div><div class=\"highlight-code\" id=\"haskell\">do t <- parseTerm\n",
       "   a <- parseAddOp\n",
       "   e <- parseExpr\n",
       "   return \\$ CompExpr t a e</div></div><div class=\"suggestion-row\" style=\"float: left;\"><div class=\"suggestion-warning\">Why Not:</div><div class=\"highlight-code\" id=\"haskell\">do t <- parseTerm\n",
       "   a <- parseAddOp\n",
       "   CompExpr t a <\\$> parseExpr</div></div><div class=\"suggestion-name\" style=\"clear:both;\">Use <$></div><div class=\"suggestion-row\" style=\"float: left;\"><div class=\"suggestion-warning\">Found:</div><div class=\"highlight-code\" id=\"haskell\">do t <- parseTerm\n",
       "   return \\$ SimpleExpr t</div></div><div class=\"suggestion-row\" style=\"float: left;\"><div class=\"suggestion-warning\">Why Not:</div><div class=\"highlight-code\" id=\"haskell\">do SimpleExpr <\\$> parseTerm</div></div><div class=\"suggestion-name\" style=\"clear:both;\">Use <$></div><div class=\"suggestion-row\" style=\"float: left;\"><div class=\"suggestion-warning\">Found:</div><div class=\"highlight-code\" id=\"haskell\">do t <- parseFactor\n",
       "   m <- parseMulOp\n",
       "   e <- parseTerm\n",
       "   return \\$ CompTerm t m e</div></div><div class=\"suggestion-row\" style=\"float: left;\"><div class=\"suggestion-warning\">Why Not:</div><div class=\"highlight-code\" id=\"haskell\">do t <- parseFactor\n",
       "   m <- parseMulOp\n",
       "   CompTerm t m <\\$> parseTerm</div></div><div class=\"suggestion-name\" style=\"clear:both;\">Use <$></div><div class=\"suggestion-row\" style=\"float: left;\"><div class=\"suggestion-warning\">Found:</div><div class=\"highlight-code\" id=\"haskell\">do t <- parseFactor\n",
       "   return \\$ SimpleTerm t</div></div><div class=\"suggestion-row\" style=\"float: left;\"><div class=\"suggestion-warning\">Why Not:</div><div class=\"highlight-code\" id=\"haskell\">do SimpleTerm <\\$> parseFactor</div></div><div class=\"suggestion-name\" style=\"clear:both;\">Use <$></div><div class=\"suggestion-row\" style=\"float: left;\"><div class=\"suggestion-warning\">Found:</div><div class=\"highlight-code\" id=\"haskell\">do digits <- parseDigits\n",
       "   return \\$ NumFactor digits</div></div><div class=\"suggestion-row\" style=\"float: left;\"><div class=\"suggestion-warning\">Why Not:</div><div class=\"highlight-code\" id=\"haskell\">do NumFactor <\\$> parseDigits</div></div><div class=\"suggestion-name\" style=\"clear:both;\">Use <$></div><div class=\"suggestion-row\" style=\"float: left;\"><div class=\"suggestion-warning\">Found:</div><div class=\"highlight-code\" id=\"haskell\">do digit <- parseDigit\n",
       "   return \\$ Single digit</div></div><div class=\"suggestion-row\" style=\"float: left;\"><div class=\"suggestion-warning\">Why Not:</div><div class=\"highlight-code\" id=\"haskell\">do Single <\\$> parseDigit</div></div><div class=\"suggestion-name\" style=\"clear:both;\">Use <$></div><div class=\"suggestion-row\" style=\"float: left;\"><div class=\"suggestion-warning\">Found:</div><div class=\"highlight-code\" id=\"haskell\">do digit <- parseDigit\n",
       "   digits <- parseDigits\n",
       "   return \\$ Many digit digits</div></div><div class=\"suggestion-row\" style=\"float: left;\"><div class=\"suggestion-warning\">Why Not:</div><div class=\"highlight-code\" id=\"haskell\">do digit <- parseDigit\n",
       "   Many digit <\\$> parseDigits</div></div>"
      ],
      "text/plain": [
       "Line 21: Use <$>\n",
       "Found:\n",
       "do t <- parseTerm\n",
       "   a <- parseAddOp\n",
       "   e <- parseExpr\n",
       "   return $ CompExpr t a e\n",
       "Why not:\n",
       "do t <- parseTerm\n",
       "   a <- parseAddOp\n",
       "   CompExpr t a <$> parseExprLine 30: Use <$>\n",
       "Found:\n",
       "do t <- parseTerm\n",
       "   return $ SimpleExpr t\n",
       "Why not:\n",
       "do SimpleExpr <$> parseTermLine 40: Use <$>\n",
       "Found:\n",
       "do t <- parseFactor\n",
       "   m <- parseMulOp\n",
       "   e <- parseTerm\n",
       "   return $ CompTerm t m e\n",
       "Why not:\n",
       "do t <- parseFactor\n",
       "   m <- parseMulOp\n",
       "   CompTerm t m <$> parseTermLine 47: Use <$>\n",
       "Found:\n",
       "do t <- parseFactor\n",
       "   return $ SimpleTerm t\n",
       "Why not:\n",
       "do SimpleTerm <$> parseFactorLine 57: Use <$>\n",
       "Found:\n",
       "do digits <- parseDigits\n",
       "   return $ NumFactor digits\n",
       "Why not:\n",
       "do NumFactor <$> parseDigitsLine 76: Use <$>\n",
       "Found:\n",
       "do digit <- parseDigit\n",
       "   return $ Single digit\n",
       "Why not:\n",
       "do Single <$> parseDigitLine 81: Use <$>\n",
       "Found:\n",
       "do digit <- parseDigit\n",
       "   digits <- parseDigits\n",
       "   return $ Many digit digits\n",
       "Why not:\n",
       "do digit <- parseDigit\n",
       "   Many digit <$> parseDigits"
      ]
     },
     "metadata": {},
     "output_type": "display_data"
    }
   ],
   "source": [
    "-- THE PARSER \n",
    "-- This is structured to follow the grammar systematically. It is not optimised \n",
    "-- in any way (except at the very end).  \n",
    "\n",
    "-- Where we have an option in the grammar (corresponds to different constructors \n",
    "-- in the datatype), construct parsers for each option and take the \n",
    "-- non-deterministic choice.\n",
    "\n",
    "parseExpr :: Parser Expr\n",
    "parseExpr = parseCompExpr +++ parseSimpleExpr\n",
    "\n",
    "-- This is a typical example obtained by monadic composition. \n",
    "-- To parse \n",
    "-- term addop expr\n",
    "-- run the parsers for term, addop and expr sequentially, storing the results\n",
    "-- then combine them using the correct datatype constructor\n",
    "-- and return the result. \n",
    "\n",
    "parseCompExpr :: Parser Expr\n",
    "parseCompExpr = do\n",
    "  t <- parseTerm \n",
    "  a <- parseAddOp\n",
    "  e <- parseExpr\n",
    "  return $ CompExpr t a e \n",
    "\n",
    "-- same idea but there is only one component\n",
    "\n",
    "parseSimpleExpr :: Parser Expr\n",
    "parseSimpleExpr = do\n",
    "  t <- parseTerm\n",
    "  return $ SimpleExpr t\n",
    "  \n",
    "-- repeat what we just did for Expr's with Term's\n",
    "\n",
    "parseTerm :: Parser Term\n",
    "parseTerm = parseCompTerm +++ parseSimpleTerm\n",
    "\n",
    "parseCompTerm :: Parser Term\n",
    "parseCompTerm = do\n",
    "  t <- parseFactor \n",
    "  m <- parseMulOp\n",
    "  e <- parseTerm\n",
    "  return $ CompTerm t m e \n",
    "\n",
    "parseSimpleTerm :: Parser Term\n",
    "parseSimpleTerm = do\n",
    "  t <- parseFactor\n",
    "  return $ SimpleTerm t\n",
    " \n",
    "-- and Factor's\n",
    "\n",
    "parseFactor :: Parser Factor \n",
    "parseFactor = parseNumFactor +++ parseBracket\n",
    "\n",
    "parseNumFactor :: Parser Factor\n",
    "parseNumFactor = do\n",
    "  digits <- parseDigits\n",
    "  return $ NumFactor digits\n",
    "  \n",
    "-- The two sat clauses check that the String starts with '(' and ends with ')'.\n",
    "-- We don't use the results. \n",
    "parseBracket :: Parser Factor\n",
    "parseBracket = do\n",
    "  open <- sat (=='(')\n",
    "  expr <- parseExpr \n",
    "  close <- sat (==')')\n",
    "  return $ Bracket expr  \n",
    "  \n",
    "-- Same again for Digits. \n",
    "\n",
    "parseDigits :: Parser Digits\n",
    "parseDigits = parseSingle +++ parseMany\n",
    "\n",
    "parseSingle :: Parser Digits\n",
    "parseSingle = do \n",
    "   digit <- parseDigit\n",
    "   return $ Single digit\n",
    "   \n",
    "parseMany :: Parser Digits\n",
    "parseMany = do\n",
    "  digit <- parseDigit\n",
    "  digits <- parseDigits\n",
    "  return $ Many digit digits\n",
    "\n",
    "-- I should really define ParseNought, ParseOne, ... and make parseDigit the \n",
    "-- non-deterministic choice. But I couldn't face it. \n",
    "\n",
    "parseDigit :: Parser Digit\n",
    "parseDigit = do \n",
    "   c <- item\n",
    "   if c=='0' then return Nought\n",
    "   else if c=='1' then return One\n",
    "   else if c=='2' then return Two\n",
    "   else if c=='3' then return Three\n",
    "   else if c=='4' then return Four\n",
    "   else if c=='5' then return Five\n",
    "   else if c=='6' then return Six\n",
    "   else if c=='7' then return Seven\n",
    "   else if c=='8' then return Eight\n",
    "   else if c=='9' then return Nine\n",
    "   else zero\n",
    "   \n",
    "-- Similarly in these two\n",
    "\n",
    "parseAddOp :: Parser AddOp\n",
    "parseAddOp = do {c <- item; if c=='+' then return Plus else if c=='-' then return Minus else zero}\n",
    "\n",
    "parseMulOp :: Parser MulOp\n",
    "parseMulOp = do {c <- item; if c=='*' then return Times else if c=='/' then return Divide else zero}"
   ]
  },
  {
   "cell_type": "markdown",
   "metadata": {},
   "source": [
    "We can now parse arithmetic expressions. Let's try a complete parse first:"
   ]
  },
  {
   "cell_type": "code",
   "execution_count": 31,
   "metadata": {},
   "outputs": [
    {
     "data": {
      "text/plain": [
       "[CompExpr (CompTerm (NumFactor (Single Three)) Times (SimpleTerm (NumFactor (Single Four)))) Plus (SimpleExpr (SimpleTerm (NumFactor (Single Five))))]"
      ]
     },
     "metadata": {},
     "output_type": "display_data"
    }
   ],
   "source": [
    "completeParse parseExpr \"3*4+5\""
   ]
  },
  {
   "cell_type": "markdown",
   "metadata": {},
   "source": [
    "If we just parse `3*4+5` we get three parses, the one above and two partial parses corresponding to the \n",
    "subexpressions `3*4` and `3`. "
   ]
  },
  {
   "cell_type": "code",
   "execution_count": 33,
   "metadata": {},
   "outputs": [
    {
     "data": {
      "text/plain": [
       "[(CompExpr (CompTerm (NumFactor (Single Three)) Times (SimpleTerm (NumFactor (Single Four)))) Plus (SimpleExpr (SimpleTerm (NumFactor (Single Five)))),\"\"),(SimpleExpr (CompTerm (NumFactor (Single Three)) Times (SimpleTerm (NumFactor (Single Four)))),\"+5\"),(SimpleExpr (SimpleTerm (NumFactor (Single Three))),\"*4+5\")]"
      ]
     },
     "metadata": {},
     "output_type": "display_data"
    }
   ],
   "source": [
    "parse parseExpr \"3*4+5\""
   ]
  },
  {
   "cell_type": "code",
   "execution_count": 36,
   "metadata": {},
   "outputs": [
    {
     "data": {
      "text/plain": [
       "3"
      ]
     },
     "metadata": {},
     "output_type": "display_data"
    }
   ],
   "source": [
    "length $ parse parseExpr \"3*4+5\""
   ]
  },
  {
   "cell_type": "markdown",
   "metadata": {},
   "source": []
  }
 ],
 "metadata": {
  "kernelspec": {
   "display_name": "Haskell",
   "language": "haskell",
   "name": "haskell"
  },
  "language_info": {
   "codemirror_mode": "ihaskell",
   "file_extension": ".hs",
   "name": "haskell",
   "pygments_lexer": "Haskell",
   "version": "8.6.5"
  }
 },
 "nbformat": 4,
 "nbformat_minor": 4
}
